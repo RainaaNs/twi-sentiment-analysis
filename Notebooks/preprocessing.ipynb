{
 "cells": [
  {
   "cell_type": "markdown",
   "id": "7d0ecb6c-72e1-4f25-8c20-1f229b46f817",
   "metadata": {},
   "source": [
    "### Data Downloading, Splitting (Asante only), and Checking of Count"
   ]
  },
  {
   "cell_type": "code",
   "execution_count": 3,
   "id": "16e259d5-2d03-4d83-8a96-bfacb79677be",
   "metadata": {},
   "outputs": [],
   "source": [
    "# train_data = dataset[\"train\"]\n",
    "# dataset[\"train\"][0]\n",
    "# val_data = dataset[\"validation\"]\n",
    "# dataset[\"validation\"][0]\n",
    "# test_data = dataset[\"test\"]\n",
    "# dataset[\"test\"][0]\n",
    "\n",
    "# dataset[\"train\"].to_pandas().to_csv(\"C:\\Users\\T-Plug\\Desktop\\University\\Level 300\\2nd Sem\\316 Social Media Mining\\Datasets\\twi_train.csv\", index=False)\n",
    "# dataset[\"dev\"].to_pandas().to_csv(\"C:\\Users\\T-Plug\\Desktop\\University\\Level 300\\2nd Sem\\316 Social Media Mining\\Datasets\\twi_dev.csv\", index=False)\n",
    "# dataset[\"test\"].to_pandas().to_csv(\"C:\\Users\\T-Plug\\Desktop\\University\\Level 300\\2nd Sem\\316 Social Media Mining\\Datasets\\twi_test.csv\", index=False)\n",
    "\n",
    "# print(f\"Train size: {len(train_data)}\")\n",
    "# print(f\"Validation size: {len(val_data)}\")\n",
    "# print(f\"Test size: {len(test_data)}\")"
   ]
  },
  {
   "cell_type": "code",
   "execution_count": 12,
   "id": "ede553b3-86b9-4875-9f5c-627431d0555c",
   "metadata": {},
   "outputs": [],
   "source": [
    "import pandas as pd"
   ]
  },
  {
   "cell_type": "code",
   "execution_count": 8,
   "id": "68e15e7f-967a-4bac-ad07-e24100c859bd",
   "metadata": {},
   "outputs": [
    {
     "name": "stdout",
     "output_type": "stream",
     "text": [
      "label\n",
      "positive    1644\n",
      "negative    1315\n",
      "neutral      522\n",
      "Name: count, dtype: int64\n",
      "label\n",
      "positive    183\n",
      "negative    147\n",
      "neutral      58\n",
      "Name: count, dtype: int64\n",
      "label\n",
      "positive    450\n",
      "negative    353\n",
      "neutral     146\n",
      "Name: count, dtype: int64\n"
     ]
    }
   ],
   "source": [
    "# Load directly from GitHub\n",
    "train_url = \"https://raw.githubusercontent.com/afrisenti-semeval/afrisent-semeval-2023/main/data/twi/train.tsv\"\n",
    "dev_url = \"https://raw.githubusercontent.com/afrisenti-semeval/afrisent-semeval-2023/main/data/twi/dev.tsv\"\n",
    "test_url = \"https://raw.githubusercontent.com/afrisenti-semeval/afrisent-semeval-2023/main/data/twi/test.tsv\"\n",
    "\n",
    "train_df = pd.read_csv(train_url, sep='\\t')\n",
    "print(train_df[\"label\"].value_counts())\n",
    "\n",
    "dev_df = pd.read_csv(dev_url, sep='\\t')\n",
    "print(dev_df[\"label\"].value_counts())\n",
    "\n",
    "test_df = pd.read_csv(test_url, sep='\\t')\n",
    "print(test_df[\"label\"].value_counts())"
   ]
  },
  {
   "cell_type": "code",
   "execution_count": 11,
   "id": "b5b96e5e-9b75-42db-98f4-39645ed41cda",
   "metadata": {},
   "outputs": [],
   "source": [
    "# Save locally if needed\n",
    "train_df.to_csv(\"C:/Users/T-Plug/Desktop/University/Level 300/2nd Sem/316 Social Media Mining/End_Of_Sem_Project/Datasets/afrisenti_twi_train.csv\", index=False)\n",
    "dev_df.to_csv(\"C:/Users/T-Plug/Desktop/University/Level 300/2nd Sem/316 Social Media Mining/End_Of_Sem_Project/Datasets/afrisenti_twi_dev.csv\", index=False)\n",
    "test_df.to_csv(\"C:/Users/T-Plug/Desktop/University/Level 300/2nd Sem/316 Social Media Mining/End_Of_Sem_Project/Datasets/afrisenti_twi_test.csv\", index=False)"
   ]
  },
  {
   "cell_type": "code",
   "execution_count": 23,
   "id": "9c3ab60f-2a1d-4982-8b57-baeca0d3ba2f",
   "metadata": {},
   "outputs": [
    {
     "name": "stdout",
     "output_type": "stream",
     "text": [
      "C:/Users/T-Plug/Desktop/University/Level 300/2nd Sem/316 Social Media Mining/labeledl_twi_tweets.csv likely encoding: Windows-1252 (confidence: 0.73)\n"
     ]
    }
   ],
   "source": [
    "import chardet\n",
    "\n",
    "def detect_encoding(file_path, num_bytes=10000):\n",
    "    with open(file_path, 'rb') as f:\n",
    "        raw_data = f.read(num_bytes)\n",
    "    result = chardet.detect(raw_data)\n",
    "    print(f\"{file_path} likely encoding: {result['encoding']} (confidence: {result['confidence']})\")\n",
    "    return result['encoding']\n",
    "\n",
    "# Example\n",
    "encoding = detect_encoding(\"C:/Users/T-Plug/Desktop/University/Level 300/2nd Sem/316 Social Media Mining/labeledl_twi_tweets.csv\")\n"
   ]
  },
  {
   "cell_type": "code",
   "execution_count": 24,
   "id": "e5596e8d-6101-4f75-82ae-2652c9eedca8",
   "metadata": {},
   "outputs": [
    {
     "name": "stdout",
     "output_type": "stream",
     "text": [
      "label\n",
      "Positive               3542\n",
      "Neutral                1308\n",
      "Negative               1064\n",
      "No Sentiment             49\n",
      "Positive & Negative      26\n",
      "Multilingual              3\n",
      "Twi                       3\n",
      "Ghanaian Pidgin           1\n",
      "Name: count, dtype: int64\n"
     ]
    }
   ],
   "source": [
    "df = pd.read_csv(\"C:/Users/T-Plug/Desktop/University/Level 300/2nd Sem/316 Social Media Mining/labeledl_twi_tweets.csv\", encoding=\"Windows-1252\")\n",
    "\n",
    "print(df[\"label\"].value_counts())"
   ]
  },
  {
   "cell_type": "code",
   "execution_count": 25,
   "id": "0f8fe9b0-524d-4800-9509-ee0a091c95d1",
   "metadata": {},
   "outputs": [],
   "source": [
    "valid_labels = [\"Positive\", \"Neutral\", \"Negative\"]\n",
    "df_filtered = df[df[\"label\"].isin(valid_labels)]"
   ]
  },
  {
   "cell_type": "code",
   "execution_count": 26,
   "id": "4b141183-1be6-4525-ab80-0613a572d024",
   "metadata": {},
   "outputs": [],
   "source": [
    "from sklearn.model_selection import train_test_split"
   ]
  },
  {
   "cell_type": "code",
   "execution_count": 27,
   "id": "92654db8-bd67-4c58-92b8-55a5e23d4839",
   "metadata": {},
   "outputs": [],
   "source": [
    "# First split: train vs temp (dev + test)\n",
    "asante_train_df, temp_df = train_test_split(df_filtered, test_size=0.3, random_state=42, stratify=df_filtered[\"label\"])\n",
    "\n",
    "# Second split: dev vs test\n",
    "asante_dev_df, asante_test_df = train_test_split(temp_df, test_size=0.5, random_state=42, stratify=temp_df[\"label\"])"
   ]
  },
  {
   "cell_type": "code",
   "execution_count": 28,
   "id": "0d6fa531-5704-40e1-8a8b-c02fedbbe584",
   "metadata": {},
   "outputs": [],
   "source": [
    "# Save each split to CSV\n",
    "asante_train_df.to_csv(\"C:/Users/T-Plug/Desktop/University/Level 300/2nd Sem/316 Social Media Mining/End_Of_Sem_Project/Datasets/asante_twi_train.csv\", index=False)\n",
    "asante_dev_df.to_csv(\"C:/Users/T-Plug/Desktop/University/Level 300/2nd Sem/316 Social Media Mining/End_Of_Sem_Project/Datasets/asante_twi_dev.csv\", index=False)\n",
    "asante_test_df.to_csv(\"C:/Users/T-Plug/Desktop/University/Level 300/2nd Sem/316 Social Media Mining/End_Of_Sem_Project/Datasets/asante_twi_test.csv\", index=False)"
   ]
  },
  {
   "cell_type": "code",
   "execution_count": 29,
   "id": "f075c1cb-01c3-4f40-b09c-f8ed764d1324",
   "metadata": {},
   "outputs": [
    {
     "name": "stdout",
     "output_type": "stream",
     "text": [
      "label\n",
      "Positive    2479\n",
      "Neutral      915\n",
      "Negative     745\n",
      "Name: count, dtype: int64\n",
      "label\n",
      "Positive    531\n",
      "Neutral     196\n",
      "Negative    160\n",
      "Name: count, dtype: int64\n",
      "label\n",
      "Positive    532\n",
      "Neutral     197\n",
      "Negative    159\n",
      "Name: count, dtype: int64\n"
     ]
    }
   ],
   "source": [
    "print(asante_train_df[\"label\"].value_counts())\n",
    "print(asante_dev_df[\"label\"].value_counts())\n",
    "print(asante_test_df[\"label\"].value_counts())"
   ]
  },
  {
   "cell_type": "markdown",
   "id": "e5577914-0c70-4d22-ba0f-1c966d857bae",
   "metadata": {},
   "source": [
    "### Combining of Split Asante and Already Split AfriSenti"
   ]
  },
  {
   "cell_type": "code",
   "execution_count": 32,
   "id": "9b8ab36d-86b8-47d6-a58c-bf972684fe4e",
   "metadata": {},
   "outputs": [],
   "source": [
    "# df[label_col] = df[label_col].str.strip().str.lower()  # makes 'Neutral', ' neutral ' -> 'neutral'\n",
    "\n",
    "# loading in two-three different encodings to be able to read the emojies\n",
    "import pandas as pd\n",
    "\n",
    "def load_and_normalize(path, label_col=\"label\"):\n",
    "    encodings_to_try = [\"utf-8\", \"windows-1252\", \"windows-1254\"]\n",
    "    \n",
    "    for enc in encodings_to_try:\n",
    "        try:\n",
    "            df = pd.read_csv(path, encoding=enc)\n",
    "            break\n",
    "        except UnicodeDecodeError:\n",
    "            continue\n",
    "    else:\n",
    "        raise ValueError(f\"Failed to decode {path} with tried encodings: {encodings_to_try}\")\n",
    "\n",
    "    # Drop rows where either 'label' or 'tweet' is missing\n",
    "    df = df.dropna(subset=[label_col, \"tweet\"])\n",
    "    \n",
    "    # Normalize label column\n",
    "    if label_col in df.columns:\n",
    "        df[label_col] = df[label_col].astype(str).str.strip().str.lower()  # makes 'Neutral', ' neutral ' -> 'neutral'\n",
    "    return df"
   ]
  },
  {
   "cell_type": "code",
   "execution_count": 33,
   "id": "d759b0f2-917c-4861-b019-b64914aee299",
   "metadata": {},
   "outputs": [],
   "source": [
    "afri_train = load_and_normalize(\"C:/Users/T-Plug/Desktop/University/Level 300/2nd Sem/316 Social Media Mining/End_Of_Sem_Project/Datasets/afrisenti_twi_train.csv\")\n",
    "afri_dev   = load_and_normalize(\"C:/Users/T-Plug/Desktop/University/Level 300/2nd Sem/316 Social Media Mining/End_Of_Sem_Project/Datasets/afrisenti_twi_dev.csv\")\n",
    "afri_test  = load_and_normalize(\"C:/Users/T-Plug/Desktop/University/Level 300/2nd Sem/316 Social Media Mining/End_Of_Sem_Project/Datasets/afrisenti_twi_test.csv\")\n",
    "\n",
    "asante_train = load_and_normalize(\"C:/Users/T-Plug/Desktop/University/Level 300/2nd Sem/316 Social Media Mining/End_Of_Sem_Project/Datasets/asante_twi_train.csv\")\n",
    "asante_dev   = load_and_normalize(\"C:/Users/T-Plug/Desktop/University/Level 300/2nd Sem/316 Social Media Mining/End_Of_Sem_Project/Datasets/asante_twi_dev.csv\")\n",
    "asante_test  = load_and_normalize(\"C:/Users/T-Plug/Desktop/University/Level 300/2nd Sem/316 Social Media Mining/End_Of_Sem_Project/Datasets/asante_twi_test.csv\")\n",
    "\n",
    "# Combine into three final DataFrames\n",
    "train_df = pd.concat([afri_train, asante_train], ignore_index=True)\n",
    "dev_df   = pd.concat([afri_dev, asante_dev], ignore_index=True)\n",
    "test_df  = pd.concat([afri_test, asante_test], ignore_index=True)\n",
    "\n",
    "train_df.to_csv(\"C:/Users/T-Plug/Desktop/University/Level 300/2nd Sem/316 Social Media Mining/End_Of_Sem_Project/Datasets/Combined/combined_train.csv\", index=False)\n",
    "dev_df.to_csv(\"C:/Users/T-Plug/Desktop/University/Level 300/2nd Sem/316 Social Media Mining/End_Of_Sem_Project/Datasets/Combined/combined_dev.csv\", index=False)\n",
    "test_df.to_csv(\"C:/Users/T-Plug/Desktop/University/Level 300/2nd Sem/316 Social Media Mining/End_Of_Sem_Project/Datasets/Combined/combined_test.csv\", index=False)\n"
   ]
  },
  {
   "cell_type": "markdown",
   "id": "58f06b1d-1833-4316-af4b-110a6b6f5ff9",
   "metadata": {},
   "source": [
    "#### Emoji Handling (converting to utf-8 and and converting emojies to text labels)"
   ]
  },
  {
   "cell_type": "code",
   "execution_count": 3,
   "id": "737edd8b-5f6c-4300-a077-421e0c0a5526",
   "metadata": {
    "collapsed": true,
    "jupyter": {
     "outputs_hidden": true
    }
   },
   "outputs": [
    {
     "name": "stdout",
     "output_type": "stream",
     "text": [
      "['enfa bi da bra 🤣🤣', 'ah😂😂😂 na wiegyimi anaaa', '1 minute biaaa na broken heart nam mu🤣🤣', 'me bo efu paa😂😂', 'wo nyɛ papa wo🤣🤣🤣', 'lionel messi papa team ben wab da 😂😂', 'wodeɛ sɛ wano checki hwɛ 😁', 'masa wo boa koraaa 😅', 'blacko gyai gyimii no cos u belong to god not karishika 😡', '3ka aba fie 🙆\\u200d♂️ sika no ahye 😅', 'trumu tanka nti you are crushing 😂😂😂 ei alhaji', 'nyame b3tua wonso kasia to 😂😁😊', 'asw3 wagyimie oooo eeiiii mey3m mpo ashi me s3naa ebi didi bi akyi😂😂😂😂😂😂😂 eeiii kweku picaso', 'akkoa yi ti ate oo 😂😂😂', 's3 eny3 nsem bi a anka ka nokware s33 chelsea nso y3 team mpo anaa 🙄 🤧🤧🤧 mu sore a dede hunu nkoaa ene mun3 🤣🤣🤣🤣🤣🤣🤣🤣', 'eeii bossu obaa nti wo ka nkwasiasem 🙄', 'y3 na y3 bl3 oo 😂😂😂', 'nyansa baako sei nni ger yi trim ad3n aa 6packs and money 😂😂', 'handouts no nkoaa🤣🤣🤣 dem go tell u say ibi 7 courses na baako bia y3 40gh y33bl3 oo', '😂😂😂😂😂😂 ah kwame sabi ɛnti nkwasia keka yi wongyae', 'ade3 yi ahye me awurade🥲', 'masa yɛ stɛdi wɔ hɔ😂😂😂', 'rasta de3 anka school fa wo ho b3n reggae ne dancehall 3w h ooo nanso rasta se daabi b3k school 😂😂😂', 'wohunu ahoufe a wo gyimi da 😃', 'wuni sika nso wup3 tw3 mona mubl3 🤣', 'sika nahye sika no ahye 🤣🤣🤣💔', 'adwaman ay3 wo sei ram eiiii🤔🤔', 'eeii marketing yi dierr 3nfa oo🌚🦦', 'hwɛ 😂😂😂😂 agorɔ wɔ wani so', 'aane oo nana 😂😂 yabr3 ne cedi no', 'fire 🔥 them paa milo no asa', 'efie ne fie me ntumi nfrimu ɔman no sɛi aa yɛn nyinaa yɛ ti mu ashi me aa ashi me aa ashi me aa nso me ntumi nfrimu independence became dependency🤫', 'blacko gyai gyimii no cos u belong to god not karishika 😡', 'nyansa ni baako ho 3den ky3n agyimifo 40 🤣 charles taylor', 'a whole dr na wagyimi sei 😂😂😂😂😂', 'friday anopa vawulence 🔥🔥🔥 hwɛ ne fɛ', 'yɛn mmom na yɛblɛ eii🤣🤣🤣🤣', 'na obiaaa wo yɛ oil and gas deɛ nka poodle puppies fa wo ho bɛn🤣🤣', 'fa fri y3n so ooo 😂😂😂we dey want food', 'barcelona fan nso dierr anka champions league fa woho ben 😂😂', 'no gyimie3 dating nso de3 nka account logins fa hoo b3n 😂', 'bɛma di wo fie asem wani tra wani tɔnn aa wobɛ nya asem asem mpɛ nipa nipa na ɛpɛ ne ho asɛm shɛ wo dan mu nyɛ saa na wobɛ ka me aa wobɛ nya asem 🔥🔥🔥', 'ad3n na ebibifo mo mp3 nokr3 saa🤷🏿\\u200d♂️', 'dwene wo team ho wo team no ayɛ sɛ ashaiman frefre kɔ bɔ🤣🤣', 'sika no de3 ahyie in advance 😂', 'herh leipzig 😓😓✌️ onyame betua mo ka paaa😹 mmoa💨', 'obiaa yale wɔ app yi so 😂😂😂', 'eeeiii so psg no win 😭', 'if i start dey gym a anka ago make nice paaa ooh but akwadwirolaziness ne gyimiefoolishnes nti hmm😎', 'modeling saa na omo y3 gay 😂💔', 'hei gyai nkurasisem nu na coachella noe be hit gyimiii u dey understand hit song u people di33 everyday biaaa na mu de gyimie nnu su nam mu saaaaa 🤣🤣🤣', 'herh bu adeɛ wati small boy na wɔ ka foo saa no🤣🤣', 'u dey run anka wob3te wo sika fiaa s3 trumu nwii baako 😹😹😹😹', 'eiiiiiii🤣🤣🤣🤣🤣🤣 hrrrrr woa shi anaaaa masa masa masa y3 ab kann3 ny3', 'woy3 kwasia paaaa😂😂😂anka wob3n me aa anka wob3di slaps 😂😂😂', 'nti vodafone fo k adwuma koraa k y3 de3n network basbasa bi sei😒', 'here too ei arsenal a buei aha nso a booboooo 😜', 'gidigidi no nyinaaa y3 dede 😂💔', 'nkwasiansem saa na ade3 asa😂😂😂', 'sɛ wagyimi 😂ne kwasia', 'no sugarcoat am nana wo maame ye bayifuo ardee 💯', 'ahnnn eiii so me de3 😏🤒', 'this kantrɛ ankasa nu ɛyɛ joke 😡😡😡😡😡😡', 'menkasa wae mekoraa relationship afono me ate mani so 😉', 'ka wo deɛ bridge no abu agum🤣🤣', 'by wednesday na peter atwa obi aso👂 na thursday nso judas agye sika💰💔😹😹 week wei b3y3 bloody💔', 'akoa yɛ guy guy🤣🤣🤣see walkings bi🤣🤣💔💔💔', 'madam wei paaaaay3 s3 aponkye bini aah 3gu milk mu😍😍😍', 'massa gyae gyae na enfa😒', 'aden kuame eugene nu cy3 ninja gaiden anaa cos ei😭', 'ah 💔 na sark no wagyimi anaa', 'buy wig na ti ti fa tari h😎', 'dear santa ɛkyena na yɛɛwo agyenkwa no nanso buronya dua mpo menni bi na wode presents agu aseɛ ama me im so sad🥺', 'significant other fuo nyinaaa tri so 🤣💔', 'tema mayor no be ghanaian 😹 woka ho bi na fuel prices k soro', 'hwɛ gyimifo bi nso when i write twi you guys dont reply 🤣🤣 you cant even write your own language ɔdabɔ nua wo yɛ okisi wɔfaase wai🤣🤣 wo deɛ di makyi mɛ keka nsɛm akyerɛ wo', 'kwasia club baako nso nie 😂', 'arh na gani wie paaa herrr na wie jon ben na womu 😂 me num saaaa na bo 680 am wope ahh do all year mi num 😂', 'my head no nice koraa😂😂😂', 'heeeeeeeeer 😢😭😭 bibini yɛ wicked roff', 'bibini agyimi aaa ma y3ti suit ni tie yanti hwee biem😂😂😂😂', 'odoi no celebrate sef 😂😂😂 some apapu bi anka he do suiii siiaa 😂😂', 'nurse nii a cy3 bayifo a y3de no ato night shift🤔 nti saa no cb3y3 d3n atu😂😂', 's3 eny3 nsem bi a anka ka nokware s33 chelsea nso y3 team mpo anaa 🙄 🤧🤧🤧 mu sore a dede hunu nkoaa ene mun3 🤣🤣🤣🤣🤣🤣🤣🤣', 'oh ka bi ka ho erh 😂😂🔥💔 he be jon pass', 'man utd nyame b3 tua mu ka paaaaaaaaaa😭😭😭😭😭😭😭', 'eric zet3p3 nsu dierr anka fa wo ho b3n 😂😂', 'mo de3 gyimi sei aaa sei aa na y3mbr3 saa sack that fraud 🙄🙄', 'suro nyimpa atse wayoosi wfr3 no beyie ba obiara nnhu no w krom ha oo odur enyimbir aaa y3 hen w sunsum musnap audiosgt😂', 'asw3 wagyimie oooo eeiiii mey3m mpo ashi me s3naa ebi didi bi akyi😂😂😂😂😂😂😂 eeiii kweku picaso', 'kwasia yɛnkankyerɛ wo ansa 😂😂😂😂😂', 'wode3 wo se coma mpo 🤣', 'ei enti valentine nu y3nka ho bi 🤔', 'use ur father picture as lock screen na wagyimi koraaa dodo 😤😤😤', '4 mooooore anaaa wose me ti tes3 kwadu 🤣', 'shatta movement sanso de omo gyimiii kasa no aba 2021 the fake is the news mmoaa😂😂', 'na houseofficer deɛ utag fa wo ho bɛn unless 🤔', 'ei sake of block i block nard dem remove me eii koti y3 aboa oo 😆', 'everyday u dey tweet ashawo season ashawo season nso wogye sika firi wo maame hc na to collectionjon boy😂😂😂', 'eeeiii wo di asem b3ba ooo 😅', 'yes we know 😂 ashawo nkoaa na aka wo', 'saa na ay3 d3n aahh smh 😒😒😒', 'masa nti this be the song tswww noise pollution nkoaaa 😂😂', '3ka aba fie 🙆\\u200d♂️ sika no ahye 😅', 'this match dea ewuradze boa yɛn wai enya saa dea la wu ooo lawu 🏃🏃🏃🏃🏃🏃🏃🔙', 'yetse sika so nnso akom di yen the most wicked vibe😭😭', 'adwaman nti wo nni ahotɔ 🤣🤣🤣', 'ɛnkwadaa wei deɛ anka omodeɛ ne do switch ne nakeyaat na send me nudes ne touch it ɛfa wo ho bɛn😃', '😂 3ne mo nn3 wo p3 aboa na wanya no aa', 'vodafone ne papa nu s3 other networks nu di3 jon fuo nkoaa 🥳', 'hye gu wai na oman no mu ay3 den aa wosee y3n mm3di wo dwa 😂😂', 'te amo kinda difficult lol 😩', 'accra fo ne aho yaa🖕🏼🖕🏼 siato', 'wo ti pafoo s3 form 4 nii chop box😭😭', 'aniwuo aka nnipa bebree 🤣🤣🤣🤣🤣🤣🤣🤣', '😂 😂 me bo efu oo', 'wonni sika nso dabiaa wo wc bundleahiafoc mma ne magic 😂😂', 'grasshopper mpo na edey bore me 😔kingdomphylum ne de3 ekeka hoo💔😑', 'wo de3 jimie players nkoaaa 😂💔', 'ei nti africa bɛ yɛ yie na this way hmm sɛneɛ yaso ayɛ shi yi nabɛdiɛkyire bawumiaecons lecturer bɛtumi akyerɛ amarketifoɔ ama yɛn nsa akɔ yɛn ano ɛnyɛ saa yɛbɛ sensen ama ɔmo blue no ɛso mba mfasoɔ yie yie yie puie 😘🇦🇲🇬🇭⛈️⛈️⛈️', 'ei wo ne gyimie 😂', 'mo nti brofo nti mose spanish 😂😂😂', 'eii dis tym😂 woy3 baifoc anaa 😆', 'nyame betua wo ka siaaaa 😂', 'bella nso na no y3 kate kate papa 😂😂😂', 'u claim theres no money but delegates are receiving 5000 each y3ti sika so na y3 bl3 yasore afri sika noso mu kyiky3 basa basabasa 😂', 'gyae ns3mhunu n fa wo bad luck k 😒😒😒😒', 'na chilwell no wagyimi anaa🤨', 'ahbarcelona paaammoa nni sikananso wcp3 top players😂😂😂😂😂', 'eii bikini nso y3de hy3 underwear ama de33 ly b3n nso nie🙄😤', 'y3te sika so nanso 3km di yen y3te mmaa ho nanso 3tw3 km di yen 😭😭😭', 'wo dier wo gyimii nu 😂', '🙄🙄🙄🙄enti waa de3 wo y3 3nti 3y3', 'nti na information minister wonso wo wc ha no 🙌🤣', 'philip dier ong ne huŋ y3 me hiŋ tu😂😂😂', 'you baarb😂😂😂😂 tiwuii ne ahantan', 'tsatsu tsikata is the law buh 1 min biaaaa dismissal of his case nam mu 🤣🤣🤣 hes the law now nu atɔ nsuom 90', 'wo yale oooo eiiii 😂😋', 'lmao wa ha me paa 😩😆😆😩', 'nti wodi3 brofo nu na 3nkyer3 hwee 3ma wo ok😅😅', 'wote ejisu 3pe light masa fa won dede da na ahodwonhyiaeso nyinaa aye sum 🤣🤣😂🤣', 'omar sterling en rap saf we dey understand na obibinii apuu 😂', 'ne brfo kraa ny3 me d3 😂😂', 'hwe wo kc ma protest 🤣🤣🤣🤣🤣🤣🤣', 'mo na moo bl3 oo 😂😂😂', 'drama king award ma f3re ama akoa no tu😂😂😂', 'mo na mo bl33 ooh 😅', 'eiiii wo gyimmie ooo 😂😂😂', 'kwaku anokye ampem nso di3 anka bet fa woho ben 🤣🤣🤣🤣', 'me de3 sign player na weii mfa wo ho🌚', 'coach foo baako nso nie 😂😂😂', 'wude france tua tua ya so😂', 'wonni sika aa 🤥 wose 3moo 🍚 3nmee ahiafoc ne nkwasia keka', 'mmaa bi y3 forken papa😒', 'wote ejisu 3pe light masa fa won dede da na ahodwonhyiaeso nyinaa aye sum 🤣🤣😂🤣', 'ama ghana nti ɔman yi ɛbɛ yɛ yie ni🤔', 'gyama bella yi cyale😏', '😂😂🤣😂🤣🤣herrrhh efiefoc y3nku na yasei wo kwa', 'masa masa wo brofo kroaa ny3 buh u wan create fake account😂', 'ghana de3 y3y3 ahushish3 dodo yare3 wei nso 3bi aba ghana ei😭💔', 'eii na me what ado 🤦🏽\\u200d♂️😭😭', 'wo ni ani 👀 ong 😏😏', 'ahiafoɔ dating deɛ ntɔkwa hunu ne dede no dɔɔso dodo wo girl bisa wo 50 cedis kraa na wadwa ɛna wopɛ sika dodo ɛna wonyɛ wife material sika aboa na edi wahu sɛ kraman atɔ wig da😹😹😹', 'ring koraa yedi na header madi wo awie 😂', 'ashawo season fo nyinaa y3 mmoa 💀🚶🏾\\u200d♂️', 's3be s3be na nananom agyimi anaa🤣🤣', '😩😩😩😩😩me team no agu oooo', 'everyday u dey tweet ashawo season ashawo season nso wogye sika firi wo maame hc na to collectionjon boy😂😂😂', 'awurade aka me 36gh p3 w me momo onti y33y3 ne d3n😔', 'u ankasa u conf meditant rydee u sanna seh abi sm abi wo ni twem😁😎', 'ni hu bi mtwee 😏', 'yaa pono will go and shoot video for the diss song p333 wagyimi saa wo ka kyer3 bronii koraa a ngye nni😂😂 herh boys fool😂😂😂💔💔', 'accra traffic 🤦🏿\\u200d♂️ kɔm kraa de me 🥺', 'you can never face me in the game na wato wo nsa menyɛ gay sɛ mɛ di wɛkyi nka mɛfo mpa me mmoa ɛfiri nyame wɔ oo ahba kɔ do wishi dɛ ɛyɛ akroma 😎⛈️⛈️⛈️', 'ready sika y3 d3 ooo p3 sika na gyae gym fo no 😂😂😂😂', 'yɛreyɛ ɔsom kɛseɛ anadwo yi nbs break n loose by morning na lipool get abt 2 injuries 🤧', 'ei breda aden u get problem plus am anaa😃😃', 'ei nti ebe yer yie ni 😭', 'no e bite me😂😂😂👊aboa', 'sia😂😂 mede sɛ wo', 'hei gyai nkurasisem nu na coachella noe be hit gyimiii u dey understand hit song u people di33 everyday biaaa na mu de gyimie nnu su nam mu saaaaa 🤣🤣🤣', 'adwaman nti wo nni ahotɔ 🤣🤣🤣', 'kofi common caesar salad nso wonnim ei 😂😂😂', 'you dont wont this akap3la so what do you want tell me politics tweaaaaaa aka 😡😡😡 m3 tena anwea mu 3di agora s3 akwadaa', 'sika no ahyei repeat sika no ahye 😂😂', 'oh ka bi ka ho erh 😂😂🔥💔 he be jon pass', 'overage de3 anka date rush fa wo ho b3n nkwadaa agor naaa👂👂', 'wa she me sika 😩', 'na ante ba de3 cdc fa meho b3n😂😂', 'wuni sika nso wup3 tw3 mona mubl3 🤣', 'ayɛ ka sika no ashi😂😂', 'mona mo bl33 mewo asem ka but wahw3 na jack ako y3 me lawuu 🤔', 'borsu borsu y3 b3 wu nti y3 nda 😂', 'nyom fonn b3n ni mtchwww sake of noko fioo nti boys dey give am fans for comments 😂😂', 'wonni sika a woti tesɛ odwan to🤣', 'barcelona fan nso dierr anka champions league fa woho ben 😂😂', 'mode ha ay3 heaven y33ka nso a na moy3 dede mmoa mo abusuapanin na te circle tn phone covers no 🤣😂🤣😂', 'wo mmobro sɛ tawa wisie opanyin gyimifoɔ di nkwaseasɛm a yɛnnka woyɛ opro paa 😂😂😂', 'wo nni sika a mfa ohia nka nsem foo 😂😂😂', 'saa as3m wo ka kyer3 me aa me hwie acid agu woso😂😂', 'sika no ahyei repeat sika no ahye 😂😂', 'asea 😂😂😂😹😹😹 wo dier b3ka kyere me s3 wo ti y3 wo ya anka wo b3 te', 'do i want to talk to nyarkoa no ni yinaa nie eii boys ano awu papa lmao🤣🤣🤣', 'nyame bɛtua mogyinaa ka one by one herh😭😭', 'masa go away shes not rich biaa 3ny3 oman sika nuaa na ode ay3 yie tsww🤦🏻\\u200d♂️😂', 'no gyimie3 dating nso de3 nka account logins fa hoo b3n 😂', 'ah na wagyimie anaa sika nu ashe 💔 fa wo kwasea ko oooo', 'wo team sɛ awiesu wo ndewene wo ho 🤣', 'wo twa picture a way3 wanim ti s3 obi eyi mframa bonead3n 😂😂😂😂😂', 'wonni sika aa wobu fu baahat 😢😹💔', 'ad3n wc maam3 ctua konko anaa useless shit 😏', 'wonni sika wakctc bomb android 33b3ka s3 android nny3😂😂😂', 'kyeres3 obia anigye gyimie ho w ghana ha 😂', 'woy3 kwasia paaaa😂😂😂anka wob3n me aa anka wob3di slaps 😂😂😂', 'nyansa ni baako ho 3den ky3n agyimifo 40 🤣 charles taylor', 'hw3 gyimi s3m bibra ha b3hw3😂', 'hahaha wie y3 de gye cup 😂😂', 'gyae ns3mhunu n fa wo bad luck k 😒😒😒😒', 'nti kotoko nii paaa na wodi nkwaaasem sei 😤', 'menso de3 me de ka bebere 🌚', 'ow bra ka na ka biom oo ɛɛhu ankasa 🤦', 'yɛ wo yɛn ato baabi foo papa 😭😭😭😭😭😭😭😭', 'peer pressure nti nka nifrani de3 spectacles fa woho b3n 🤣', 'wodi3 mengyae gyimii no nyankopon 33ba😂😂😂', 'nti seisei ne kora kora ne sen 🤨', '3no nso de3 anka 3fa meho ben 🤧', 'do i want to talk to nyarkoa no ni yinaa nie eii boys ano awu papa lmao🤣🤣🤣', 'y3te sika so nso 3km de y3n herh biggest scam 😂😂😂😂', 'relationship de3 3ka nkoa every one ☝️ minute biaa nso na brokenheart 💔 naaamu 😪', 'mo nti brofo nti mose spanish 😂😂😂', 'ay3 ka 🙆\\u200d♀️ kwasia team sei lfc', 'odo y3 d3 sen sika 😹😹gyimie kasa sei', 'ashock koraa grenade dier s3 nka arab four na eyuusu ah asem ohh omese y3fr3 omo kev and grenade😆', 'ah ka na ka biomedey bore me mpo 😂💔', 'says me arsenal nni deɛ nka wo de kotoko yɛ dɛn🤣🤣🤣', 'peer pressure nti nka nifrani de3 spectacles fa woho b3n 🤣', 'dog eye e be shit dem chop that be why dem dey fool so nu efia tenge dey dey blow nyaaaa sey nobody for go the demo anka yagyimi ama no anaaa o feeli s3 y3ny3 agyimifuor na egu jubilee house h a won rewia ghana sika no nyinaaa anaaa s3bi o 😂', '😡😡😡 3ny3 ha na wob3ka saa asem no', 'na chelsea nii de3 anka europa finals fa wo ho b3n😂😂 modwene moho oo na saturday wa ha yiaa😎🤣🤣', 'na u how do u see the psg team team ay3 s3 tu gyimii 😂😂😂 soorrrli', 'adey die 😂💔💔💔 wey emotional trauma too dis kyeres3 obia egyimie oh 🤣🤣🤣', 'nyame bɛtua mogyinaa ka one by one herh😭😭', '3nti 3ny3 brokely sika herhanka americafo de3 3ny3 style no no americani de3 anka spending fa ne ho b3n 😂😂😂😂😂', 'shatta bandle nso b3kum nipa ooo 😂😂😂', 'nyom fonn b3n ni mtchwww sake of noko fioo nti boys dey give am fans for comments 😂😂', 'educated pastors i come against you foul spirit in jesus name ankɔ sukuufoɔ no bayi bonsam biara yesu mogya nka wanim yɛ frɛ ɔsoro gya ɔsoro agradaa ɛnka wanim hmm boiɛ😒', 'b din errr🤣🤣🤣 monni sika nti wo vhim nyinaa w fam aboa', 's3 anka me di aa na matua wo ka anaa wo se me bo dam😂', 'wo bro tan tan bi😒😔', 'man utd fans after liverpool losing to southampton yafa league me saa mahama kasa fi nu mongyae 🤣🤣', 'kwasea berma wop3 obi nudes ahw3 wo kote akyia s3 😂', 'kyeres3 obia anigye gyimie ho w ghana ha 😂', 'fa sekan twe twa mu 😂', 'them plan am nso ne kwasia afutuo 😂😂 dierr akumaaa mama zimbe thingss 😂', 'hmm saa oo i figure sammy gyamfi go warm am paa oo nka wo b3 sei plan no 🙄', 'keegan de3 anka dubai fa woho b3n anka wode3 ne kenya 😂😂😂😂', 'sebastian nso brofo nny3 kraaa3de3n ni🤣🤣', 'onua gyai nkwasea keka no😂😂😂', 'smoking nso y3 gyimie jon 🤣🤣', 'ka kyere me s3 mabodam preko 😂😂😂', 'hwɛ gyimifo bi nso when i write twi you guys dont reply 🤣🤣 you cant even write your own language ɔdabɔ nua wo yɛ okisi wɔfaase wai🤣🤣 wo deɛ di makyi mɛ keka nsɛm akyerɛ wo', 'luck luck herh 😭😭😭😭 gyae kasa by heart no', 'bibini agyimi aaa ma y3ti suit ni tie yanti hwee biem😂😂😂😂', 'nti kotoko nii paaa na wodi nkwaaasem sei 😤', 'ah na wagyimie anaa sika nu ashe 💔 fa wo kwasea ko oooo', 'italy nono strikers nyinaa twe twa aboooowa ɛnnɛ mobɛte 😜😜😜', 'wo twa picture a way3 wanim ti s3 obi eyi mframa bonead3n 😂😂😂😂😂', 'mo nka window no 3nto ne knso😹😹', 'man utd nyame b3 tua mu ka paaaaaaaaaa😭😭😭😭😭😭😭', 'ow bra ka na ka biom oo ɛɛhu ankasa 🤦', 'ayɛ ka sika no ashi😂😂', 'saa as3m wo ka kyer3 me aa me hwie acid agu woso😂😂', 'wonni sika a woti tesɛ odwan to🤣', 'eei 💔 kyeres3 mi dier meye ntsini kraa ma yera mu', 'aba booshit nso nyi yi 😂', 'chechekuleyyyyy paa adwene no ny3 oboy nso ntua😆😆😆 hard guy', 'sika nahye sika no ahye 🤣🤣🤣💔', 'nti na wo phone asɛe no 🤣🤣🤣', 'masa masa aha yɛ bloody street daakye asɛm nti ooo😂😂😂😂 me nnim deɛ wooka no ho hwee me yɛ purely virgin🤣🤣', '10 mpo na hes a fraud 😂😂', 'y3te sika nanso 3kom de y3n 🤦🏽\\u200d♂️😶', 'herh leipzig 😓😓✌️ onyame betua mo ka paaa😹 mmoa💨', 'wun ne sika na wo ti fie aahhh nsemfuu na wu ti 😁😁😁', 'aborc ne bayie nti obi b3 like p33 nso normal tweet de3 da😂😂😂', 'wo maame tw3m baako baako network foon sei 😡', 'b33ma anim ne nisuo 😒😒😒😒😒as3 waka m3ko mu', 'y3 te sika so nso kom de y3n 😝', 'woka nkwasiasem a ye bisa wo nkwasiasem 😂😂', 'legon foɔ deɛ adwaman twa mu a ɔmo ho bɛkyere wɔn oo ei😭😂 ewiase nyinaa hookup girls gu hɔ😂😂😂', 'you neggas ankasa yesu dckon so kyenam ne italian beyonce 😂😂', 'ahiafoc mma ne asing by default ghana laws no dey apply to the rich oo akuapem poolo 😪', 'shatta dede ankasa she no get chill koraa oo😂😂😂😂😂💔 violence hemaa mu goat😂😂👍😹', '3y3 shocki me mpo gyimie nkoaaaa 🤣', 'masa wo sika no ahye go and sit somewhere abegi 😂😂😂', 'kofi gyae saa na mani abre😂😂😂💀', '😂😂ah nti wongyae gyimii', 'short boy nso di3 anka love fa woho ben 🤷🏾\\u200d♂️', 'gyimie nti wo nni ahot😏', 'the story too sense baako mpo nim😂😂', 'koti kesi3 s3i wo di ko he 🙄🙄🙄🙄🙄🙄', 'ɔtan no yɛ pure🤣', '3kom ede h3n afe dea flight 3gye sika no fir y3nsem 😂😂😂', 'eny3 ne3 ehia nie😹😹😹de3n na wo team agye sorriy😹😹💔', 'sia wo na wo bl3 😂😂 cdi pounds wo di cedis woti ha di na t3m 😂', 'woti kakraa nso brɔfo papa biara nnim 🤣🤣🤣🤣', 'na s3 akoa no de3 wagyimi nti saaa na b3keka o 🤣🤭', 'b3kum me wae bekum me 😒', 'as a guy wode date rush y3 d3n🥱 ma wani nte na p3 sika bruh wooy3 agyimi 😂😂', 'wiase eeehu ooo😂 fine girl dierr anka magacid ooo na bentoa fa wo ho b3n', 'adanko gyae gyimii no 😆', 'ghc s3n😂 na 500ml bottled water koraa y3 s3n😂 3de3n tirimu den nono', 'aka asse na team no agu 😀😀😀', '040 alan nkwasiafour wei destroyi me chance😂😂😂', 'oh killer gyai saa 😂🤲', 'da baby man yi ho 3tan 😂😂', 'mu bl3 paa ooh 😂', 'akoa wei wajimi paa o 😂😂', 'fa wo nkwasiasem fri ny3 so wai 🙄', 'hw3 de3 okyir3 bi 🤣', 'is she making sense nnipa ny3 ooo 😂😂 🇬🇭 ghana', 'so werent done😂😂 wagyimi papa', 'wohwɛ man united ne aston villa match no na wokɔhwɛ gabon deɛ kakra aa na wahu sɛ africa deɛ gyimie ne ahoɔden ball nkoaa😂😹', 'ahhhh kumasi foɔ ne jon deɛ😹😹😹', 'wo kamboo s3 eyi🤣🤣🤣', 'eeeeiiii me y3m koraaaaa ahye me 🙄🙄🙄', 'akoa yi y3 jwon 🤣🤣🤣🤣🤣🤣🤣🤣', 'ne tiri ho s3 😂😂😂😂😂😂😂😂', 'e pain me waa 😂😂😕😕😩😩', 'agenda boys no de no regyimi😂💔', 'im fuccin your kind cos mo nsua nyansa 😂😂😂 yebedi mo style biaa bi', 'sɛ e one deɛ sasabonsam gya mu dileeccttt😱😱', 'wo deɛ kɔ so na gyimi😂😂😂😂', 'chale nanaba cool ne ade ade oooo mo jon naa mo de gh sor h you for dey g 💰😎', 'ei sisiaa yi herrr kte3 y3 aboa 😭😭😭', '25th december ne dumsor ecg🙄😏', 'ei boys ne gyimiee 😂😂😂', 'gyimifo kasasergio ramos adwuma dawase wai 🤝🤝🤝', 'aswear saa cmo nkurases3m no 😂', 'burnaboy says wano baa na wonsa aba 🧐🤣🤣🤣🤣', 'wogye obi boy ne y3 😂 fear women ampa', 'kwasia de enter you oo😂😂🔥', 'im fyn boy bongo 🔥🤣🤣🤣🤣🤣🤣🤣🤣 anàa me bodam', '1 minute biaa robbery nam mu 😂😂😂', 'kwadjo kwarteng wompɛ me yie anaasɛ deɛn 😂😂😂😂', '😀 gacl nhwehwenimu no asa', 'kwaku frimpong de asem b3ba🤣😂😂', 'me de b3 noa angwa moo 😂😂sia😂', 'yab wo dua da👺💀💀', 's3be gyimi kasa sei yei a y3kyer3 wo nyansa nso a wommp3🤦\\u200d♂️ ka hy3n k duru wai', 'me yem koraa hyehye me 😭😭😭', 'bibini bia egyimi😂😂iphone so y3 dentsw', 'k p3 different boy na wei dieerrrrr kai 😂😂😂', 'na bibini b3y33 d3n koraa w wiase🤦🏽\\u200d♀️😂💔', 'wo y3 kwasia paaa 💔😂', 'nyame b3tua charity ka😂😂', 'he3 nkwasia adwen bi 🧐🤣', 'lol tell me more 🤣🤣 adwen fi', 'violence💥💥💥💥💥💥💥 eii never sleeps oo woho nyenyan sɛ kuro', '1 minute biaaa na fake news nam mu 🤣🤣🤣🤣', 'ah c mama no feature nipa na wahwie sei 😂😂😂😂', 'wei nyinaa y3 nipa😂😂', 'wò brôfo kraa ny3😂😂😂', 'wobrofo da fom sei tim 🤣', 'wano y3 ya oo kwabena mereba wab3 so da ☹️🚶\\u200d♀️🚶\\u200d♀️🚶\\u200d♀️🚶\\u200d♀️', 'eeeh 3hu oooooo🥺🥺diaa football de b3ba', 'wo bl3 oo wo bl3 papa 😂😂😂', 'fa wo gyimii k oo where d diss song dey 🙄', 'mo na moobr3 ghana fuor 😂', 'fa wo jon k😒', 'oppong nkrumah daddy bawumia them reject me ooohow we go do am😟 bawumia', 'na me y3 borla girl ma wo anaaa 😂😂🤨😂😂😂😂', 'ne ho fon saa no😂😂', 'bro ei go me ooh herh 😂😂😂', 'me yem kraa ashi me🤣🤣🤣🤣 dumelo de3 apuuuu enfa da😅💔', 'george fo3 ne gyimiia 😂😂😂', 'ahaaa dat tin dey vex me 3na me rap me rap no ah 🤣🤣🤣🤣', 'gyimea ne tsirmu d3w no dooso😂😂😂', 'ras nene no wagyimi anaa 😂', 'womp3 mas3m ah ku me pr3ko 🤣', 'sia ma wani nnda h😂', 'ahh😂😂😂😂 please me w sunyani wae fri me so😂😂', 'remontada 3noa nie oo anaa meyale 😂😂😂', '3de3n koraa na y3de ay3 mo huh 😭😭😭😭😭', 'sister bipolar u say 😂 akurase huhum na afa no', 'wo gyimii no yoo 😂', 'na despite ba dierr wo de momo 333y3 dieen🤣', 'yagyimi na yada 🤣 or go home alone 🚀🙌🔥', 'komot 😂 wa sei too much', 'blood pressure 😂😂😂 emom paaa owass y3 school fon nipa din qo ho wose tag names', 'obi se ob3 gyimi aa efa mo ho ben 🤣🤣', 'ah akoa nu wagyimi anaa achimota forest 🤷🏿\\u200d♂️', 'akoa y3 fon ad3n ugly and lizards wey dey sell dokono anaa 😹😹😹😹', '😂😂😂 eii pogba b3 ku nnipa', '3ni3 martial di3 wo b3 br3 🤣🤣🤣', 'asɛm bɛn koraa nie😎😎', 'obaa ɔmpɛ adwarɛ dɛrrr👩🏾\\u200d🦯👩🏾\\u200d🦯👩🏾\\u200d🦯 ɛnfa bi da😂', 'woboa uget ah nka ugo suck na fior🤣🤣', 'masa thank god is friday nas3 wo wie akcdi nkwaseasem dea gyai😎😄', 'wo papa 3tw3 papa ben na cdii y3 aa wawo wo no😂', 'wei na wo di p3 sporting abo no 🤣', 'herh bars bars obibinii deceasedɔsi wu nan hu fii wu di kɔ hin 🤣🤣 gyimi foɔ wɛyi na mi tsi ni gal na mɛ di nu 🤣🤣 waiting for amerado to respond', '🤣🤣🤣 herh fa wo bayie firi me so wati bayifor 🤣🤣🤣', 'hw3 gyimi s3m bibra ha b3hw3😂', 'enka teacher ni di3 wo di3 ni keep quiet class but wu si team fuuu na wu b3 supporti 😂', 'hahaha wie y3 de gye cup 😂😂', '🤣🤣🤣🤣ɛyɛ aa na ebi mo adwene nyɛ adwuma', 'yie yie yie sika nahye oo 3ka aba yie yie yie sika nahye oo 🤣🤣', 'ɛyɛ wai chelseafoɔ aaah asɛm bɛn koaraa nni🙄🙄', '😂😂😂😂😂 wei wei yɛ de gye cup', '😂😂😂😂😂😂😂😂😂ei tee girl no wafa biibi w fom adi anaa', 'eeii hwan ba nie🤔🤔 ɛna ɔka nsɛm hunu sei', 'asem no ayɛ kɛse ama malam😃😃😃', 'yɛ wo yɛn ato baabi foo papa 😭😭😭😭😭😭😭😭', 'na wo se bibinii bɛyɛɛ dɛn wɔ wiase 😂', 'jesus😱 sika na shi😥 maa comfort b3 ti afri ne monthly pay mu 🥺', 'ecg paaa so deir boi3 🤦🏼\\u200d♀️😏😂😭🤦🏼\\u200d♀️', 'professor professor saa na gyimi3 nkoaaa bomboklat💣💣😈😈😎😎', 'ka na ka biom obamma🥱🥱🥱', 'mstchew mo na mo br3 😀😀kafera', 'nso wo maame nya nka cp3 ooo🤭', 'wo tiri ho sɛ akɔnfem 😂😂', 'our a artistes sef nkwasea nwom nkoaaa wo maame tw3 putuu twofonta nkwasea nwom saaa😂😂😂', 'agor w neni so 😂😂😂😂', '2sure awe kraman kɔte 😂😂😂 adwaman ayɛ no sɛ 3kuro ne asaawa', 'ei elder😞😞 nipa papa bi tes3 me na wos3e me saa nu 😩😩😹', 'wo nni sika a mfa ohia nka nsem foo 😂😂😂', 'simply fab na kudus nan mu abu🤡🤡', 'na wiase kraa y3 y3 sen 😂😂', 'bibinii bɛyɛ deɛn kraa wɔ wiase 😂😂😂', 'abusuawo gpa da 14 wodaso hy3 anklets eii boi 😂😂😂', 'wan bissaka deɛ wasa ruff 😂', 'adwaman nti boys tɔ bundle a ɛnkyɛ na asa🤣💔 yɛna da', 'pitri pitri saaaa na yorrrrrrr😎😎😎', 'trumu tanka nti you are crushing 😂😂😂 ei alhaji', 'gyimiesɛm nkɔaaaa somebody she fit spit phlegm put en members dema mouth inside as akwan kyerɛ diɛɛ papa bɛn 💩🤮', 'joa susu twa ntr na wo y3 fine boy😂😂😂😂', 'wo b3 yali o yoo 😂', 'twitter de3 obiaa ka foo o😹', 'nyame betua wo ka wati sia 😩😩😩😩😩😍😩😩😩😩😩', 'fyn girl 🌹 aaa wagyimi de3 hwan na b3ya 😁', '😂 😂 if stormzy herw dus sef ein eye go get na mo nfa mo nkwaas3m fri hɔr', 'mo na mo bu coachella 😂😂 mtchewwww', 'during sex🧚💥 foreign country oh yh babykill me💫 yaanom akwesi wopra me ah😹😹✌️ nkwasia moaning nkoaa😹✌️', 'that nuna tavares no waasa saaa wanbisaaka mu left back😃😃😃😃', 'aboa konkonti ba ob3 nyin ay3 k3se na wadane aponkyirene 🐸 wheres the lie', 'asem paaa oo serious issue 😂😂😂', '😂😂😂😂 akoa pe ne ho asem', 'wo mmobro sɛ tawa wisie opanyin gyimifoɔ di nkwaseasɛm a yɛnnka woyɛ opro paa 😂😂😂', 'oh me too my g paa die oo weide3 y3nkafra💔😭', 'adware3 twice ni3 3nfa bi da🤣', 'ahumobro nti de biara ɔman no nkɔsuo bɛka akyiri 🤦🏾\\u200d♂️', 'bella nso na no y3 kate kate papa 😂😂😂', 'nyansa doduor yɛ gyimie 🤣🤣🤣', 'wo nya akuko funu ahh wonnya👇', 'dead goat paaa hmmm foooluwa kasa de33 mo nim ka oo🤦\\u200d♀️', 'im going through alot nyinaaa saaa obaa nti wagyimi paaa🤣🤣k p3 sika wai🤣', 'rasta de3 anka school fa wo ho b3n reggae ne dancehall 3w h ooo nanso rasta se daabi b3k school 😂😂😂', 'gyimie saaa na woa wu kwa 🤦🏾', 'this kumasi girls english to be someway eeii brofo no nnyɛ me dɛ 🤣🤣', '😂😂 but squad fool ooo mo salah = no salad', 'bruno nu wagyimi anaa herh 😂😂 akoa nim ball bor herh 😂😂', '🤣🤣🤣🤣🤣 kwame so wagyimi paa oo', 'forget elevy n nana addo government na etw3 no y3 kwame dea 😂😂😂', 'eiiiiii na y3 nna y3 b3 br3 wa ha sendi ma lecturer no 333rr😂😂😂', 'hw3 ne gyimiieaa bi 😂😂😂😂😂', 'y3 te sika so 3na 3kom di y3n😂😂😂', '😂😂😂😂😂 wei wei yɛ de gye cup', 'god is watching yall nyame b3 tua mo ka paaa spoiling team 😢😭 😃😊', 's3 asa h3nko da 💙 💔 chelsea 🤦🏾\\u200d♂️', 'patapaa sco pa tu ma na nothing makes sense anymore 🤨', 'ah na mdk nu wagyimi anaaa what is wo girl nu y3 nku anaaa otaa srasra eei 😂😂😂😂', 'su wo suu senior wo team foo 🤣', 'oooh oya obi asem aa susuka wai na wo abodwes3 hunhuuun koraaa y3 ka ho asem wei wai 😂😂😂😂😂😂😂', 'obiaara wo ni massa 😜', 'we have the men but we are hungry y3ti sika so nanso 3kom di y3nn 😭 😔', 'wo de3 ko barca martin braidwith mpo b3 y3 asenn wo tweeaaa ⚽⛹️🥎🏀🏐🏉🏈', 'bibini koraa b3y3 d3n wo wiase 😂😂😂😂', '🤣 🤣 he fool ankasa gangsta paa nso ooo', 'no b juju b dat 😅', 'team no agu ooo😢😢', 'wo tr3 su tus 😂😂😂 saddick obama 😂😂', 'y3te sika so nso 3km de y3n herh biggest scam 😂😂😂😂', 'fa wo gyimii firi h sika a mo wia mmoro qwickloan aboa bi ne wo kwasia bi ba🤑🤭', 'then ony3 next ns3mhunu nkoaa na aka mu 😂😂😂😂😂', 'the way im exhausted yi paaaaa anka bro kojo b me lickings bi anka me ni be gye paaaa but bro kojo nni h 😂😂😂😂😂😂😂😂😫😫', '200 eih na accra kraaa y3 y3 sen 💀', 'sika ho y3 den o 🤣🤣', 'girls like this omo nim nyansa de3 ehye me kraa ne s3 me te bi ho😪', 'ose ne maame twem😭', 'realities are catching up with those of them yɛti sika su ɛkɔm diyɛ🙂🙂', 'saaa thread yi bon 🤧🤧', 'nyame betua wo ka siaaaa 😂', 'nani sɛ congo dɔkono🤣🤣🤣', 'see eiiii face nka sika de3 wgyei di ko dada 😂😂😂😂😂 wy3 namin s3 nie waka 🌶🌶🌶🌶🌶 amakom', 'asem bi nti aa nanka chelsea dier champions league fa wo ho b3n💁🏾\\u200d♂️', 'ei koo korti nu sori deɛ sei aa o biibiaa bɛyɛ wu fɛ😊😂', 'me nni bebia k me nni bebia k 😅', 'odii y3aaaa na owuu y3😀😀', 'eish 🔥🔥gist me eerh 😂', 'everyday mogya 🩸mu 3duro sene nsuo y3 de nsuo agu galon mu asoa wo da 😭😢😃', 'deɛ wo bɛsu agu mu 😂😂😂', 'eeii saa 😹😹😹😹 ay3 ka 😂😂😂', 'moove egyaa ma m3nfa ahona nyhe me kwan 3se wosson amaa m3 down ko waenyim na hun d3 table b3 turn level b3 change ak 1010 nns3 ahom afe3r first no eka d3 er3ko ahh nna me pow ho chaw fast fast but sesiaa aah de mey3 arsenal fan ntsi no mensuro broken heart 💔😯😯😯', '😂😂😂😂 boy ei over me herh', 'apckye boforot no nso s3 3y3 de3n oo 😂😂 ei hmm', 'dj yi haa adwene😂', 'akkoa yi ti ate oo 😂😂😂', 'ango do de save ooo kw3😂😂🙌🏿🙌🏿', 'ah na dead sea sɛn nka ka se pool mpo eerh🤣🤣🤣', 'ei enti valentine nu y3nka ho bi 🤔', 'eiiiii saa computer 💻 obaa de3 agyi bono oooh 😃😃😃😃😃😃😃😃😃😃🙏🏻😃', 'nka 3b3 den na ay3 wo ya 😝😜😝😝😝😂', 'meek uni meek uni ninyinaakye waakda✌️✌️ eyy kofi dagaati ne ama chinchila 😂😂💔', 'kumasi fo nu 3yi omo ho pe3 😂😂', 'ghana mepawokyew s nnano ma mi 😂😂', 'me deɛ me hwɛ nufu ansa na mahwɛ wo suban 😂😂😂', 'ewiase mohm de3 ehu paa 3ny3 enne aa nka me nim s3 bayifo biara ho y3 f3 🤣🤣', 'eii eii eii gods nu nso fi hin lol 🤣', 'wo sika ayera anaa🤷🏽\\u200d♂️', 'wo papa classmate na wofr3 no baby eii😅💔 😂 enti 3yaaa monsuro😅', 'susu pu wu tu wai na y3n ni bi saa 🤣😂😂', 'yagyae sika hasnt eaten since morning dede nkoaaaa 😂💔', 'chairman shocks ayɛ weak anaa😀', 'chechekuleyyyyy paa adwene no ny3 oboy nso ntua😆😆😆 hard guy', 'sika y3 guy pull up in a benzo wontumi nkyer3 me foko allah woy3 guy wate 🔥🔥🔥', 'ano won any fyt bro😹😹', 'me nka na waka sɛ me na mekae ooo😷😂', 'betpawa premier league amɛkɛɛ wɔ nyɛɛ wɔ fe ni fee ɔbɔdɔbidi from tamale to walewale ni wɔ fee ɔbɔdɔbidiprez observers are worried shi believers shall enjoy 👀👀', 'allo momo 1 gh anaa 😂', 'like manu me ho kraa😂ei', 'shay this na kuriku 😂', 'me aa me hono 🤣', 'eiii bibi asi anaa😂😂😂', 'ka tika we dont choose 😢', 'ɔse ahhh hahahahaha ck paaa ahhh sɛ sɛe nawuaa formation ne tactics bɛe paaa na wu bɔ as coach 🤣🤣🤣', '🤣 🤣 🤣 3y3 by force anaa oo daabi', 'dwene wo team ho wo team no ayɛ sɛ ashaiman frefre kɔ bɔ🤣🤣', 'kyer3s3 eehu ooo😂😂 buh chale bet nu de333 yengyae na y3nkodi d3n🤨🤨', 'patapaa central region anaa y3nko heblews 😁', 'u nkoaa dierr so u wey app u dey love 😂', '🤣🤣😂 mey3m koraa ahye me ano sure say i go see cos', 'y3 hyehye hyehye saa na omo dwane 🏃🏃🏃😹😹😹', 'aei wastyr de yolo 😂', 'wonni sika aa wose efie eduane y3 d3😂😂', '3to naa nso nti na 3ma me p3 was3m no booty 🔥🔥🔥', 'eeii na whan nie😹😹💔 wendy shay efia odo sakodie castro sam george 3tor', 'wateanaa hey hey sika nti na y3w false preachers 🔥🔥🔥', 'eiii koo nimo na adu gyamfi old boy de3 olag fo asem fa woho b3n🤔', 'nti gyama yaka eh 🤣🤣🤣', 'style ben na wob3 fa mi 🌚', 'bet di y3 dodo nti mo nkyer3 y3 lotto twa🤣🤣🤣🤣🤣🤍🤍 got buzzzzzzz', 'asre no de3 wo ay3 neniaa🔥', 'woseeeei koo na wo bolobolo nono😂😂', '😭😭😭😭😭😭😭😭😭😭😭😭 auntie ama 3koo nk anaa', '3hia bronyi a b3 ka twi😂😂😂', 'den mk we go sika gari anaa de gari finish 😂', 'nana wote as3m ho oo boi🥴', 'anka wo ma y3 kcce3 anka obia nti wo nka 😹', '😂 😂 3y3 me huŋ mpo', 'agya bi wu agya bi tease nanso 3na bi wu a wasem y3 mb🥺', 'kube yɛ ¢5 wɔ kumasi🤔🤔🤔🤔🤔🤔', 'ow nti kabutey dier nka hon bi anaa 😂😂😂😢', 'ei na wo b3 ka s3 wenni yɛ wo ya 😂', 'mu suro koti nsu oooo 😂😂😂😂', 'moapamo 3ka asan akfa 3ka paaaa anaa sake of werner ne kai nti na ɔmo de pressure ɛkɔ sign dutch coach no anaa🤣😂🤣', 'lol wahu jodel gyae ka kraa😂😂', 'ft 👑 ohia official video stream here ↪ ohia ma me ky3 1don 1man 1stand ohia ma me ky3 1 gun 1man 1stand ohia ma me ky3', 'mo nka window no 3nto ne knso😹😹', '3no nso de3 anka 3fa meho ben 🤧', 'yagyae sika hasnt eaten since morning dede nkoaaaa 😂💔', 'yesu ayie korea yan y3 na sasa bonsam jams 😂😂', '🎶 o hwie ngu foforɔ gu me kraa mu me nneɛ a ewu nyinaa nya nkwa bio waewae mani so aboɔ ma me nhu ɔhene no sɔ ogya wɔ me kra mu 🎶', 'wo nim brɛ woa brɛ afuomu ha aaaaa 😂😂😂😂', 'educated pastors i come against you foul spirit in jesus name ankɔ sukuufoɔ no bayi bonsam biara yesu mogya nka wanim yɛ frɛ ɔsoro gya ɔsoro agradaa ɛnka wanim hmm boiɛ😒', 'y3nka kayer3 wo ay3 s3 obaa wnim aduane noa no 3nye d3 nso na wgye hon 😏', 'we are one😂 nso omaame twa fa akyiri', 'eeeiii wo di asem b3ba ooo 😅', 'enti barima wo si so paa obaa aka kyer3 wo s3 feeli wo da 🌚😂😂', 'na asem kor p3 na replies b3y3 5 na😂😂😂 nyame nka woho er🤣', 'woboa 😹😹😹 adwuma adi wo 😂', 'ya ti nso yen fa 🤦🏾\\u200d♂️', 'me koraa mpo me hia 200 cedis no bi ooo😒', 'sika duru kakra trading nso kakra eagle man 🔥🔥🔥🔥🔥', 'black rob ne kwaku kristo b3 dwa wo o jack 🤣💔', 'otanfo ne yanko n na y3 ma nyanko oooooo is main judas br3da your punchlines that y shatta was delivering on stage 🔥🔥🔥', 'ka nɛ ka biom 😂', 'yi me firi hc 😂😂😂', 'ɛnyɛ easy ooo ɛnyɛ wo dea wose ma tɔn 🤣 🤣 🤣 🤣 🤣', 'me nhunu nea me nka mpo 😂😂', 'ashoq sef sɛ the europeans collaborate to eliminate us eii chaaman 😂', 'maame kaawoho fre mafia na wonkawoho mma adede3 eii mpa woho twe wo make ups na fawoho momo aaa me sending eii momo aaa me sending eeei mep3 s3 wopa wo ho ~killer verse by 🦍', 'ft 👑 ohia official video stream here ↪ ohia ma me ky3 1don 1man 1stand ohia ma me ky3 1 gun 1man 1stand ohia ma me ky3', 'eeeeeih sofo koraa get broken heart na u kofi nti way no dey pray😂😂😂😂', 'enti barima wo si so paa obaa aka kyer3 wo s3 feeli wo da 🌚😂😂', 'ei ɛtwɛ behunu ne wura na abrɛ 🤣 🤣 so dont you fear women kyerɛ sɛ generation wei deɛ twemdɛɛwa foɔ nkoaaa', 'lotto kwraa metwa na bet🤗', 'enti jm deɛɛɔnyɛ father anaa 😢😢', 'wo nipa ɔnka hwu o 😂😂😂😂😂😂😂😂😂😂', 'ow nti kabutey dier nka hon bi anaa 😂😂😂😢', 'wofa wei ɛyɛ wasɛm😂', '😹😹😹😹wo nkoaa wo yerenom nsia wo mma moron wosan he ha 33p3 cbaa biom ehh😂😂😂😂', 'hajia ansaa jallabia maa anaa yooyoo me ohh haba hajia🤦🏽\\u200d♂️ hajia nna ganni boxer nka tchikin jallabia fa me eeeii hajia keenan 😅 then i pull up no long talk 😂😂😂', 'enti na menni boy no oo😂😂😂', 'na s3 wo bet sika no asa😂 nti cheque b3n biom😂', 'loan mpo nie na anka permanent deal 😂😂😂', 'aww bro🙄 ka naka noh biom', 'buy wig na ti ti fa tari h😎', 'suro nyimpa atse wayoosi wfr3 no beyie ba obiara nnhu no w krom ha oo odur enyimbir aaa y3 hen w sunsum musnap audiosgt😂', 'esi mpo anyɛ yie na araba 😜', 'sendi mi na minsendi mawu🙁', 'ayoo nti metwen daben 😂😂😂me sika no ahye aky3 so i was on break', 'masa gyae na wo boa 🤣', 'mewo sika aa s3 anka menp3 such gals 😹', 'errr enti nss fo yiaa omo ani abre omo h me bisa oo enti after nss yi mo new location y3 hen hmmm 🤔', 'masa aden yayɛ wo deɛn😀😀😀', '🎶 wc de no dada dada s33 na wadaada me oh enti sweetie sweetie nti na masweetie 🎶', 'agyekum tease mpo na mo ye nayie sorry agyekum life isnt far you fought well 😢😢', 'oya kowa kye kakra 😂😂😂 afe wu nay naaa😂😂😂', 'boadu nti ɛkɔsi sɛn kurt yaanom hyɛɛ baako boadu boss adeɛ no deɛ fa cup naa na ɛwɔ sɛ mogo moho mayɛn na yɛhyɛ mo na yɛgye kurt hwɛ hahaha theyre still having conversation as im speaking to you 😀😀😀😀😀', 'masa 2 chances sɛ sɛn 😂😂😂', 'wo nni sika wo di odo ye den nana 😂😂', 'once said girl no otata me errh na otetee me peace oma m3n tua mi mma school fees but i refuse to be broke by r2bees ode ma katua ko ako ri brodo ne cheese 🧀 mede3 magyimi na meri gari ne beans', 'wa saa bone nso ka wobra ho🙄😹', 'lmao ei pearl na wo fr3 woha🤣🤣🤣🤣', '😂😂😂😂😂😂 national cathedral sika no de3 y3n tua ooooo', 'deɛ e no bi arsenal deɛ nka my mind dey give am nso arsenal nti 🤣🤣🤣', 'obi aa wo horoso a wo san twa bet ei na katashi tantan bɛn nso no no 🤣🤣🤣', '😂😂😂😂yen ka kyer3 wu lol 😂', '😂😂😂mo nti naa ka foo', 'fake life nti agyeiwaa k back to kumasi 😂', '😂 eiidkb obi33 oo daabi da eii god 😂😂😂', 'me maame last born🤣', 'bestie bestie saah na skolom 😂', 'eiii mr neutral wo kaa se obiaa na ete se dumelo anaa onaapo 🤣🤣', 'oh chale🤣🤣🤣 eno bi easy ampa oo', 'as3m b3n na aba 🧐', 'ihr some tw3m tw3m tin bi😹😹', 'mo na mo b 😂', 'ei na qo b3ka🤣', 'obroni no kaa sei 😂', 'na wamuna sei yi err 🤷\\u200d♂️', 'nu 🔞 3n y3 obiaa na 3y3 oohhhh lolxz🙈💔😂😇 come n see som tin 🤪', 'wabo dua na dane wai 🙄', 'eii anaa my eye noh gud 😂', 'mke dem tell you anaa😅😅', 'wo hwene nu o🥺', 'aseiduwaaa too dey da back der😹', 'ahh 😦 😂 ɛyɛ asɛm oo', 'herh wo y3 d3n wo abeyifo mu 🤣', 'ad3n aa wob3tu me 🤐 no 😜😂😂', 'charley charley 🤣🤣🤣🤣 me koraa adwiri me', 'eii you no get abotr3 koraa ooo😂😂', 'sei yaaa na top 4 😆😆😆', 'aden wo sua😹 y3nnkayer3wo ansa', 'na medier may3 di3n 😂', 'ob3 t nsuo mu😂', 'nana na ad3n eei 😭😭😭😭', 'kfc anaa chicken man 🤔🤣🤣', 'e be me oo 😀', 'eeei na wo bɛka 🤣💔', 'na u re u tall😹😹😹', 'aaghh😂💔💔 you de3 oh daabi', 'maa adjwoa hye wo drossssss 🥱🥱🥱', 'wama mey3m kra ashie me 🤣', 'so u be kojo besiaei u kraaaaaa why😂😂😂😂😂', 'ei na s3 3ny3 byforce 😹😹', 'maa niqqa x no hands🙌🏿', 'g a b a s k i 🏳', 'eii na de3b3n koraaa na 3ba wiase ni 😂😂🤯', 'common floor fuo nyinaa edi 😂😂', 'ashawo ne hookups fo nkoaaa 😂😂 you gerrit kumasi fo 😂💔', 'eii believe me s3 sen 😂', '😭😭😭😭😂😂😂 eiii koo i too join de qeue', 'mep3 na p3 me bie3😅', 'baabi aa de nenam 😂😂😂😂😂', 'na var so y3 stats😂', 'eii charman na aden😂', 'ad3n wahy3 ne kte kshon anaa 🤔🤔', 'wiase yi de3 s3 esum 💀', 'mo na hwan 😂😂nsa fo', 'wonpe bayir3 ne dokono 😩😩😩', 'eeeii berma saa momm enfa wai 😂', 'size bole wh3 ɔnkor wo 🔥 🔥', '💀💀💀💀💀💀 enye me hoor abeg', 'proud of nana omo na omobr3✌️😂', 'eeeiii eeeeii eeeii 🤣🤣🤣🤣🤣supply your scolobus is trending oo🤣🤣🤣 s3 wo si wcn hy3 pioto 🤣🤣🤣😂😂😂', 'kwaw kese tear me😭', 'peace paa deɛ daabi 😂', 'adɛn wofrɛ saint anaa😄😄', 'cow de3 no bi anaa 🤣🤣🤣', 'wofa sane dey come run run saa 😂😂', 'wikipedia adɛn me yɛ 🙄', 'akwadaa na wa tattoo wo ho saa nu 🧐', 'na me ɛfa meho bɛn 😂😂😂', 'mo na mo sh3 ho no😂😂', '😂😂😂😂😂😂 the nana ɛnyɛ me na me faa yɛ dey kill me', 'nonya business moana no 🧢', 'mi di3 nu di3 shiaaa na eshigu saaaa 😁😂', 'ha 😂 no no no no 😂💔', 'neutral man aa wo propaganda nyɛ fɛ sei wo firi hen🤣🤣', 'atopa bi o😂😂 hw3 yie o😂', 'mu de asɛm bɛ ba ooooo what😂😂😂', '😂😂 knacking nti girl no ntumi ngyae boy no o', 'herh ano yɛ ya ooo 🤣🤣🤣🤣', 'ɛyɛ hu me mɔbɔ 😂 ɛnyɛ wumi', 'na mendi bounce hwɛ😂', 'wo sika yɛ trotro sika nanso wonpɛ back seat 😂😂😂', 'adey beg oo nti brofo bebrebe wei nyinaa ne korakora ne sen🥲', 'na me di3 ma y3 den 🤣', 'aden mak di barca ni bi yere anaa 😂😂😂😂😂', 'aden mo taataa mo saa 🤣🤣🤣🤣', 'fa mi ka hoooo ern anaaa menko da 🤔', 'you for chopin🍆 anaa s3 de3n 😳️ene3 anka y3nkc heblews', 'me nhunu nea me nka mpo 😂😂', 'wone opanyin bɛko nanso wo wideɛ mu rafael nadal 💪🏾', 'y3ny3 baako y3ny3 mienu aha y3y3 apem ne fa y3fri kokoobin koy3 bad things w fumesua 😭😭😭🔥🔥🔥🔥', 'kasa gu ma sum na me gyedi 🔥🔥🔥🔥🔥🔥🔥🔥', 'aaawwww sika p3 nna fom 😂😂😂😂😂', 'obaa yi ho twa👌🏽👌🏽👌🏽❤️❤️❤️❤️❤️', 'ah menya abotr3 s3n wei y3 de nya abotr3😓', '😂😂😂😂oh naa omo bɛ reporti ama wo ɛnyɛ competition koraa', 'wo kum apem a apem bɛba💥💥 yɛyɛ dɔmm 🎶🎶🎶🇦🇹', 'yɛ yɛ asanteman asante kotoko🎼🎵 wo kum apem apem bɛba 🎼🎵 sɛ wokɔ cape a ɔmo se vipers 😏 sɛ wokɔ volta a ɔmo lions 😏 sɛ wokɔ accra i dont even know 😛 na sɛ woba kumasi a ɛyɛ faabulous 🔥 ❤️ faaaaaaaaaaaaaabulous faaaaaaaaaaaaaabulous faaaaaaaaaaaaaabulous', 'de3 33y3 me de3 3y3 me 3san y3 me y3 me yie 💨🔥', 'nkor ne fie erh😂', 'enti y3ka two days ago aa na ay3 d3n😹', 'npp fuo na 3di e levy baa y3ndc fuo b3 y3 nu hit🔥🔥', 'sika dam na mebo🥹', 'shot on target koraaa cnya bi nbc y3b3 gua cmo ankasa😂😂', '🤣🤣🤣🤣🤣🤣🤣🤣🤣 nana s3 anka 3y3 saa anka obiaaa w bi ooo', 'ebi nom ka banku ebi nom tn banku ebi nom hy3 banku nanso y3n de3 y3b3 di banku daa 🙏🤣🤣🤣', 'gyae 3nnka saa biomu😂😂😂😂😂', 'no nima no wc 🇬🇭', 'eyramadzo wherever udey nyame nhyira wo heerrr solid babe ankasa😍😍😍😍', '😂😂😂 abeg abi krobo boy too aiiiiii', 'sika oo sika abrokyire sika 😄😄😄', '😂😂😂oh me y3 okay oo 3nha me kraa', 'awurade fane bone kye no wai 🙏🏿', 'nipa nso y3 den chillli 😌', 'masore anopa tutuutu pe sika menya a mobehu se mama nso betwi ne benz nyankopon b3seiho paw debia na kweku de3 sikasem nkoa na onim nka me mpre ohia nma meho anaa you dont know s3 sika nie kweku nie ohia se metie everyday am on my way verse 🔥🔥', 'ano katikati nation y3 sii so nky33 y3 nanso yano awu we coming like a ranging storm 🔥🔥🥵🥵', 'afei wo nan naaa🤣', 'as3m oooo na abr3😂😂', 'gye me boso odo yewu 😌', 'ya ti nso yen fa 🤦🏾\\u200d♂️', 'guy guy saaa na wiase no k nawiey3😂', 'yenni sika oo but y3 ha adwen 😬', 'mapimso wo kumasi nti wohia confirmation 👊🏽 blaaaah', 'wob3tease amame me boy newo dabiaa m3ba wonky3n ab3da wob3 wale me😂😂😂', 'post biaaa na $16m nam muherrrr ma feeeeli ama wo ooooh🙌🏾', 'krobea beku me faaaaaaabbbulous 🇵🇪💪', 'meho wo sei arh na ma b jack🤍🤍🤍🥰', 'ei smoochy 🤣🤣🤣 so you you dey ei ewiase paa', 'six slips no nyinaa apepa sei tam😂😂', 'yoo mu fa k taadi 333r nansu die3 eti3 bia s3 3k taadi aa 3b3 fa kaneshie p333 🤣🤣🤣', 'wo ti abrokyire re practici democracy gye tourist visa bra na yen ko faci dampare bronya yi w obra spot 🥂', 'mode3 s3 agorc bi na modi😂😂😂', 'nufuo na 33to adonko sei 🤣🤣🤣💔💔💔', 'baako suro 🤣 🤣 🤣 🤣 the matta chop hot 🔥', '🤲🏿mede aky3 wo dada', 'happy birthday queen nyankopɔn nkɔso nhyira wo na ɔnyɛ wo kɛseɛ🙏 ɛnnɛ yɛ wo da🎊🎊🎊', '🇦🇹🇦🇹🇦🇹🇦🇹🇦🇹🇦🇹🇦🇹🇦🇹🇦🇹🇦🇹🇦🇹🇦🇹🇦🇹🇦🇹🇦🇹🇦🇹🇦🇹🇦🇹🇦🇹🇦🇹🇦🇹🇦🇹🇦🇹🇦🇹🇦🇹🇦🇹🇦🇹🇦🇹🇦🇹🇦🇹🇦🇹🇦🇹🇦🇹🇦🇹🇦🇹🇦🇹🇦🇹🇦🇹🇦🇹🇦🇹🇦🇹🇦🇹🇦🇹🇦🇹🇦🇹🇦🇹🇦🇹🇦🇹🇦🇹🇦🇹🇦🇹🇦🇹🇦🇹🇦🇹🇦🇹🇦🇹🇦🇹🇦🇹🇦🇹🇦🇹🇦🇹🇦🇹🇦🇹🇦🇹 🇦🇹🇦🇹🇦🇹🇦🇹🇦🇹🇦🇹faaaaaaabulousssssssswo kum apem a apem beba', 'awurade b3y3 ade nyinaa foforo b3 sesa me sh3br3 nyinaa ama me 🙏🏾', 'but low key dbee ns3m no agye gals no bi o 😂💔', 'sɛ deɛ jah man ka no wote yɛ wo passi na wa dashe wo pass na wa dashe saa na saa nso fa woho hyɛm na ma wani nso yɛ den 👍🏿', 'more revelations on 111121 akye saa😷😎', 'wei nso y3nka nkyer3 wo ansa 💯💯💯💯', 'st charles lwanga boys ankasa deɛ big things nkoa 💛💛💛', 'shatta bandle nso b3kum nipa ooo 😂😂😂', 'biibiaa b3kc so wc kumasi 🔥🔥', '10 cedis credit no kraa me t bi akye roff🤣', 'ho twa ankasa whaaat 😍😍😍', 'ose miaaa nap3 mi 🔥👊', 'wobehu me afɛre paaa 😂😂😂', 'menni sika but me twa manum 🙏', 'maban denden ne wo jesus christ awurade mahuoden ne wo 🙏🏼 romans 83839', 'y3 feeli wo paa 🤣🤣🤣🤣', 'coco verily i say unto you agoro b3 s arh na efiri anopa 🤗🥂', 'raster man me y3 flair aa wode me di agoro nti wonsuro adi3 😎', 'obuasi yɛ fɛ buh inflation na ɛkɔ sorome kurom yɛ fɛ sene nkuro a aka no nyinaa🇬🇭🇬🇭🇬🇭', 'sierra leones 🇸🇱team ebe kamara family demma contract anaa eeeeei \\u2066\\u2069 \\u2066\\u2069 \\u2066\\u2069', 'madofo nyinaaa asa anka me ne me nyankopon 😔🙏', 'wonni sika aobaa biaa ho y3 wo f3 😂💔', 'meti hɔyi menyɛ tininii nii na menyɛ han bɔfoɔ menhu sro da na men hu neɛ ɛsini wiaise ma anamon tuo nyinaa nte daa na makwan nyinaa nyɛ tii daa ❤️\\u200d🔥', 'wo ti abrokyire re practici democracy gye tourist visa bra na yen ko faci dampare bronya yi w obra spot 🥂', 'na obi asoma wo 😂', 'anocshie 🔥🔥 your crush anaa 😂😂', 'errea washing powder wei yɛ guy dodo the errea washing powder kits in dubai this 😹😹😹😹😹 is it from atebubu ohiayɛmɔbɔ market anaa kakabo fc ayɛ mɔbɔ dodo', 'ka na ka biom obamma🥱🥱🥱', 'na god win 💃 💃 💯 ahodwo kumasi', 'masa woy3 bi na gyae me😂', 'enti holiday yi yɛnfa nyɛ deɛn 😂🤷🏽\\u200d♂️', 'what can come can come 🤔 anaa yɛbɛ wu enti yɛn da', 'nyimpa nonkyer tintin yj dua bi ky3 ansa na wasow aba bi so wngu ne do nsu ky3r obi y3 ansa na obi resua y3 🙄🙄😎😹😂😂😂😂🤷\\u200d♂️', 'wins and the pains goes straight to 🇦🇹😂😂😂💥🔥 yɛn na yɛ se da hyirem yi oo 🤣🤣🤣', 'kumasi to accra flight nso wahy3 winter coat maame gyamfua woogye de3n w wiase😂😂', '🔥🔥🔥🔥🔥🔥🔥🔥🔥🔥🔥🔥🔥🔥🔥🔥🔥🔥🔥🔥🔥🔥🔥🔥🔥🔥🔥🔥🔥🔥🔥🔥🔥🔥🔥🔥🔥🔥🔥🔥🔥🔥🔥🔥🔥🔥🔥🔥🔥🔥🔥🔥 hammer fila nkoaaa wooow me nim da', 'enti m3y3 tw3less 3n3 nso oh chale💔', 'ow na tuchel de3 way3 wo de3n🤣🤣🤣', 'ei na wo b3 ka s3 wenni yɛ wo ya 😂', 'alla bossu 🤣🤣🤣 may3 hint na yentwa bet', 'now de3 1 minute biaaaa na ghc 10 nam mu saaa o 🤣😂', 'yɛte kumasi nso yegye shout wo taadi love insyd sokoban odaso 👍👍👍👍 shout to fred cey insyd taadi efiekuma', 'soma me na mekc😇🙏 humble servant', '😂 😂 oh menua me nim no oooo', 'odo asisi maso anso h a asa akatakata mani😫', 'but woy3 nice ooo anaaa mani so 🤣', 'onua dɔ na ɛyɛ🔥❤️❤️', 'camera koraaa tumi y3 nipa fine na nyame 😁', 'papa naaa fa days no ni ka ho 🤣🤣🤣🤣🤣🤣🤣🤣okunupa afutuo ka no nyinaa', 'nyame na agye mo 3ny3 saa enka agenda paaaa 😂', 'ghana mmaa obiaa ho y3 f3 🥰', 'wo ku apem aa apem b3ba as3 traffic akye apem no😂', 'you for chopin🍆 anaa s3 de3n 😳️ene3 anka y3nkc heblews', 'yesu ayie korea yan y3 na sasa bonsam jams 😂😂', 'polo perfume fiiii fiiii na ma spray 🤣💪🏾', 'yo me nsa aka eeeee mail no mate kasa 🥂', 'jnr gye wo two ✌🏼', 'full time kotoko 20 liberty ⚽⚽ nea nyame tumi yɛ nie 🔴⚪💪⚽🙏', 'me mome dier 3nny3 me sika nti menfa hoo 😂😂😂😂', 'asem na wo b3 ka 😂😂😂', 'dea ɛɛba no so sen🌍🌎🌏', 'my boss🙏🏽🙏🏽 nyame nhyira wo paaaaaaaaaaaaaaa✨🔥', 'kudos warriors 🔥🔥🔥🔥wo kum apem a apem beba', 'loan mpo nie na anka permanent deal 😂😂😂', 'abu abrɛ wo nsa ano ooo 😂😂😂', 'school fees tua ne pampers t nti 3yaa😎😎', 'enti wow sika anaa😂😂😂', 'sɛ nyame adom na ɛbɛhyɛ meho 10gh🤦🏾\\u200d♂️😟', 'fatima ye mu chelsea 🤣🤣🤣', 'camera koraa tumi y3 nipa fine na nyame 😇😇😇😇', 'nyame nka yen nyina y3n ho 😂', 'ahn ei sorry oo😂', 'tumi bi a edi me diɛ sie bia no gyae me na kɔ men dwene obia ho me de me ti bɛgye frɛ me bosiako~ 💿', 'awo ehu a mɛ nne me nyɛ kwages o 1 cedi mpo a fa tom brɛda na me mfa sɛi adze 🤣🤣🤣', 'me koraa mpo me hia 200 cedis no bi ooo😒', '🎼🎺eeeeeiiiiii aseda nwom nkoaa na meto ayeyi nwom nkoaa na meto se awurade amma me ho amma asem aa🎼🎺', 'ebe ghost 👻 paaa na u figa sey wettin 😂😂', 'ekorso wo wiase nyinaa 🌎🌎🌎', 'yadase se wo dwene ahiafo a y3p3 anigyie nso ho😂😂😂', 'bra fie na yεε twεn wo 🌴', 'yesu eh yεma wo so ohen yesu eh yehyira wo oh me wura yesu eh yεkoto wo 💃🏽💃🏽🥳', '😂😂😂😂😂😂 mepakyew fa me si ha yi aa', '🤣🤣🤣🤣 wei de3 y3pa wo kyew', 'sika no asa sesiaa😂', 'ka na ka boom😰🤭', 'arrhnn ei 😂😂🔥🔥 sika kasa aa', 'as3 manchester united fans nu ay3 quiet bi saa ooo anaa mosi young boys 🤣🤣🤣🤣', '3to naa nso nti na 3ma me p3 was3m no booty 🔥🔥🔥', 'wofa and please forgive me saa ɛfie no nnyɛ yɛ dea oasɛm ni hearts of oak🙆\\u200d♂️', 'osee me yɛ dede ah ah ah ah 🤣', 'after beyoncé woni kumasi fuo na ebeye track yaa pono 😂😂', 'masa ko wo di3 😂😂 leave him alone😂😂', 'deɛ wo nim aaa nni 🙄🙄', 'enti 14th february nu wo bedi chocolate anaa dokono 🤷🏽\\u200d♀️💔🤣', 'heerrhhhka na ka biom💯👌', 'yɛn mmoa firi otumfoɔ agya nyankonpɔn hɔ🙏', 'osukuu nii wo deɛ a ne gaday we ma wani mpro nsuo😄😄 his wife sold the best rice on campus ne stew no anwa nkoaa nso woboa', 'wo nana da woase 😂', 'wobehu me afɛre paaa 😂😂😂', 'eeeiii me de3 wen 😄🥺', 'kwadjo kwarteng gyae bet twa na ɛmmoa wo 😂😂😂😂', 'aden kraa na woti seiwonp3 asomdwee kraaa🤣🤣', 'ɛyɛ wo sɛ wo ne ehiafoɔ na ɛnam me borga akasa 😂😂😂😂😂😂', 'ebe di sika ebi nso di dokuno 😅', 'wo kum apem ah apem bɛba come on kotoko 🔥🔥', 'yɜ yɜ dom yɜn nyɜ baako mmienu miensa yɜ yɜ dom wo kum apem apem beba yɜ yɜ dom aaaaah wote kumerica yɜba aa yɜ yɜ dom yɜ yɜ dom 🔥🔥🔥', 'dry okro soup ne banku 😋', 'wadi bet wode3 y3 me show kakra erh😑', 'informations wɔ wiase paaa 😂😂😂😂', 'wendy wobeku me nso menwu eiiii🔥🔥🔥🔥🔥🔥🔥', 'lol their loss ɛnneɛ fa hooki me dm erh 💉', 'hwan ba 🤣🤣🤣🤣 oy3 hustler koraaa tsen me', 'aeihuro paaaa ni😂🤣😂🤣😂liverpool is goodna man city nka s3n😂😂😂😂', 'ky3 me bi err😁🤭', 'ad3n wo ngye no ndi anaa😂😂', 'de3 3hia ne s3 watwa cross ronaldo b3y3 🔥', 'kwame bidi ne ne hokafo bidiwaa mo ho twa ❤️\\u200d🔥💯 happy mothers day to mama tracy', 'kwaw kese dey tear me passs 😂', '😂 wo b3 y3 no d3n', 'na me ma ye den🤣', 'nka me ko da 😹🤣🤣', 'aban no mmoa yɛn yɛ find yɛn way a ɔse ɛyɛ illegal that lime by 🔥🔥', 'mponkye 🐐 mienu baaako wo fie na baaako su wo nwirem', 'me aa me no no 😂', 'ɛna pa yɛ maame ayekoo 👩\\u200d👧\\u200d👦👩\\u200d👧\\u200d👦 photo update patricia mensah cooks her mothers favourite meal jollof rice', 'copulation nkoa 45 mins anaa commercial breaks nso ka ho😳', 'moro b u den me oooo papa jon😂😂', 'nti aduane kakra nso a me dii no wo gyina me ti so ad3n 😂', 'fameye you hear what wale talk 🤷🏿\\u200d♂️ dabiaa bogoo na mefri nso woy3 shows aa accra nkoaa masa come do some for bogoso here na ya tw3n wo aky3 🤨', 'menni sika but me twa manum 🙏', '💔😂😂💔😂fine gyal ni fine boy biaaaa y3 mu bestie 😂💔💔😂💔 b prophet ✍️️', 'nyame ayɛbi o 🙏🏽 my man with all black akoa so eiii 😂😂😂', 'wo lie yi de3 3nfa nana 🤪🤪', 'wei na y3 ka se medi 400gh asi town na aka me 1cedi🤣🤣🤣', '🙏🏾🙏🏾🙏🏾🙏🏾 y3 di yesu mogya ka mu 3nim', 'yɛ ka sɛ fa nyame aa mo kaa sɛ yɛ yɛ mo ɔde ama wo fo koraa😂😂😂', 'na s3 wo bet sika no asa😂 nti cheque b3n biom😂', 'wagye sika no nso oo🤣🤣💔🤣🤣', 'wei na y3 ka se medi 400gh asi town na aka me 1cedi🤣🤣🤣', 'you looking muah 🤭🤭 ahoufe de3 nyame aky3 wo bi ❤️❤️❤️❤️', 'heeeeer 😂😂😂😂 story no kenkan yɛ dɛ yiye hena na ɔkyerɛw saa anasesɛm yi😂', 'enti wo korakora ne s3n😹😹😭', 'bushia me eeh bu bu bushia me eeh 🎼', 'nananom ay3 bi k ✊💙🔥 piawwwwwwww', 'manya ahu s3 wo tumi fly 3noaaa nono 3y3 🤣💔 momii no dey trust in kidi ei 😂', 'wonni sika aobaa biaa ho y3 wo f3 😂💔', 'di sika na 2 bottles 3nnbc dan so ey 😂😂😂', 'herrrh onyame ay3 bi o 🥹🥲🫢', 'tongue mu litmus paper nie🙌🏾', 'brofo no da fcm but we move 😂😂', 'mede abotr3 abotr3 saa na madu 🤍🕊', '🇬🇭🇬🇭ghana ha p3 na wokye nam🐟 wc nsuomu ah y3si wakyi nsuo ne ba😹😹maf3ri mpo😒😒', 'and the su su su nso erh 😂', 'ghetto boy nanso me girl y3 dadaba p3ky33 😂😂', 'amanda bu me o 😂', 'abusuafo adwuma no asi 😂😂😂 alaba says shes tired of the work nti adwuma no wagyae 😂😂', 'hwan na akc hc da gyes3 nyame ankasa b3ka 😎', 'lol wahu jodel gyae ka kraa😂😂', 'seniors mepawokyoww oo de3n ne red flags beberee nu🤔', 'y3ny3 baako☝🏽 y3ny3 mmienu✌🏽 aha y3 apem ne fa', 'fa mi ka hoooo ern anaaa menko da 🤔', 'baayir3 ne kk a yakyi ne denky3m🐊 full one 😋', '3y3 aa twa mi odds nyame boa 3kyina na mi wc date🤣✌🏾', 'time for praises🙏🏽 🗣️ faya k wakyi kakra what shawa sayyy k wakyi na k to nwom nu bi unto the 🗣️ waaaratu dayy 🗣️ faya k wakyi kakra k wakyi kakra na afei what shawa sayyy 🌝', 'paul dier agenda mu kingpin ooh 😂😂😂', 'etuo no ato🔥🔥🔥🔥 franck mbella etuoga 😍', 'cheese balls na me p3 bi awi no 😹😹😹', '3toc gye aman 3toc yi akwan😂😂', 'fda agye atum anaa 😆', 'abusuafo adwuma no asi 😂😂😂 alaba says shes tired of the work nti adwuma no wagyae 😂😂', 'eb3 fa nana wo ni abotre so aaa sika duro nyame enka wo hu 🙏🏽', 's3 bayifo tu s3 s3n koraa eny3 ne ynko ne gari 😇😇 good evening 👍 to wiase', 'yatete su amamu sei huu😂 please coman buy na y3p3 sika at waakye tsena', 'man for be bloody rich na sika y3 mogya ampa 😊', 'fa ha na mi fa ha y3 b3 hy3 goal agyi cup 😹', 'ghana boy sɛ menni hwee koraa na nɛnyɛ me ambition ✊🏾🔥🔥', '🤣🤣🤣🤣🤣 wu b3 ka nukr3', 'wo nka sika sem aa wo voice tone koraa y3 funny🤣🤣🤣🤣 king saark', '😂😂😂😂😂 wo b3 te kwa', 'y3y3 asante mma asante kotoko wo kum apem ah apem b3ba 😍🙌🏿🙌🏿🙌🏿🙌🏿', 'me nsa ho nwii na woka yi mano ho nwii na woka yi mabodwes3 na woka yi me lala nwii de3 wob3y3 den 🎶', 'aseey aba time na album nu b3 drop na ma tor data dey wait you 😋😋😋😋', 'fa ha na mi fa ha y3 b3 hy3 goal agyi cup 😹', 'y3ny3 baako y3ny3 mmienu aha y3y3 apem ne fa kingkong nyame 🦍', 'ndwom wei y3 me nua og frimpong dea ko na ko hw3 video no 🔥🔥🔥🔥', 'na yɛdeɛ covid fa yɛho bɛn 😂😂', 'kaish adwuma nu asi 🤌🏿😁 × talks are ongoing 😊🙌🏿', 'na wo deɛ dɛn🤣🤣🤣', 'looo way me sista fine ba😍😘', 'me na me ni oo😭😭😭', 'kasoa no be part of accra anaa 😂😂😂', 'tsatu is lawfo mo ho y3 😂😂😂', 'wo papa da wo ase 😂', 'etuo no ato🔥🔥🔥🔥 franck mbella etuoga 😍', '🙏ohia bye bye sika nie kweku nie 🔥💰💯', 'me den u pes sokoban yewokese3 street 🔥🔥🔥🔥🔥🔥🔥🔥🔥🔥🔥🔥', 'sika y3 adowa yesu nti eba san aba mesam biom 🙏🏾', 'awo gyae na life no de3 ehia ne paper no🗝️', 'aha na mi ti😂', 'mo di3 sei yie nso 3hy3 nu rough 😂😂', 'ohwka na ka bio😂😂', 'ɛna pa yɛ maame ayekoo 👩\\u200d👧\\u200d👦👩\\u200d👧\\u200d👦 photo update patricia mensah cooks her mothers favourite meal jollof rice', 'wooka gya gu mu 😂😂😂😂', 'obaa hemaa maame ama adoma 😊', 'menim s3 wowor heaven enti 3ya ka bi ma mi ooooo🙏🏽🙏🏽🙏🏽 cos i really lose my waaaay 3ny3 saa na y3tser3 mi oooo', 'seniors mepawokyoww oo de3n ne red flags beberee nu🤔', 'onua ma falli oo🤣', 'na afei ade abiɛsa yi na ɛwɔ hɔ gyidi anidaso ɔdɔ na ɔdɔ ne mu kɛse gyidi anidaso ɔdɔ na ɔdɔ ne mu kɛse 👍🏾', 'ɔnyankopɔn apɔmuden mpaemuka nsam a me ka no yɛ nkwa na ɛyɛ honhom tumi wo asem a me ka bia mu nea me ka bia yɛ ho ma me ɛfi sɛ me ka nea me ka bia wo yesu din mu me paemuka sɛ me te apomuden mu ɛndɛ ne da nyinaa amen🙏 wadansidie testimoniesorg', 'adoma da so oooooo🔔🔔🔔🔔🔔🔔', 'na s3 ctc a na ay3 d3n😏😂', 'dawadawa ne kobi womu ah gyae 😁😁💪💪💪', 'iddrisu bugatti 😂akoaaa wo speed', 'edin no mu yɛ duru sei😊', 'happy birthday godfather 🎂🎉 🎁 🙏🏻🙏🏻 me bisa ewiase ahuoden ne sika nyinaa ma wo ❤️💯✅🕊', 'kobby alpha ne vida me two life savers 😩 me ntumi nyi mo mma da🚶✊', 'ntua mienu nso 3ne snail 😋 wofa b dea 3sewoara', 'na y3ni bi no erh 🤣🤣', 'chairman nyame nhyira wo🤣😂🤣', 'meekasa yi matɔ waakye nso ooo 😂😂😂', 'nyame adom nti y3 ho y3 🙏🙏🙏🙏🙏🙏🙏', 'ɔnkɔ pɛ engineering bi nsua😂😂😂😂', 'wakoma sua m3ndi ma kyi koti ba ma gye sa nika no da me ha nso wall no na m3twa m3si akyire bosome baako me ndaa fie street ne so ay3 occupied wo killers no nso m3yi akyire 🔥 🔥 🔥 🔥 🔥', '3n3 boys yi aba yi p3 kasa dodo nso cmo nnim de3 ewom radio god show them 🔥🔥🔥🚀🚀🚀', 'lol chale afe nkc b3to y3n 🙌', '😂 😂 😂 aka wo b3ka nokor3', 'mafe wo nso paaa😩', 'yekokyinkyin de sika aba fie ampa sika aba fie oooooooo🔥🔥🔥🔥🔥', 'ka na ka biom chairman 😂', 'eiii kwame instant noodles gyae saa😂😂😂', 'fifa na wob3 b nka de3n biom🤦🏾\\u200d♂️', 'these teams rn yagye sika yagye sika yagye sika yagye sika💰💸💵💶💷💴', 'madofo nyinaaa asa anka me ne me nyankopon 😔🙏', 'eeiii kofi kakra kakra ana nofo nso kakra 😂😂', 'me firi akyenfo nti mensuro police👍', 'golden boot na ehia no😂😂😭😭', 'knatanka made iphone nso nnam mu😂😂😂😂', 'sika ebi y3 fi daddy lumba 🤣', 'me nka na waka sɛ me na mekae ooo😷😂', 'ɔmo nso nim sɛ wo trappi nnyɛ nnɛ😂', 'yeba wu nti y3nda 😀', 'wakoma sua m3ndi ma kyi koti ba ma gye sa nika no da me ha nso wall no na m3twa m3si akyire bosome baako me ndaa fie street ne so ay3 occupied wo killers no nso m3yi akyire 🔥 🔥 🔥 🔥 🔥', 'nso wo maame nya nka cp3 ooo🤭', 'yɜ yɜ dom yɜn nyɜ baako mmienu miensa yɜ yɜ dom wo kum apem apem beba yɜ yɜ dom aaaaah wote youth yɜba aa yɜ yɜ dom yɜ yɜ dom 🔥🔥🔥 our foolish politicians here we come', 'y3 y3 dom wo kum apem a apem b3ba✊🏿✊ king promise | don bortey | gyakie | davido | chelsea |', 'wo kum apem ah fa 😂😂😂', 'wo kum apem a fa b ampesie 🤣 😍✌🏾', 'sika y3 guy pull up in a benzo wontumi nkyer3 me foko allah woy3 guy wate 🔥🔥🔥', '🙏ohia bye bye sika nie kweku nie 🔥💰💯', 'maame kaawoho fre mafia na wonkawoho mma adede3 eii mpa woho twe wo make ups na fawoho momo aaa me sending eii momo aaa me sending eeei mep3 s3 wopa wo ho ~killer verse by 🦍', 'sɛ wankasa woti hoa yeyiwo ɛyibɔne 🤣🤣🤣', 'bossu twa me momo err 💓💯😍', 'asante kotoko🔥🔥🔥🔥🔥🔥wo kum apem again apem be ba', 'wei nyinaaa youre giving agenda kwa nso johnny nyɛ mo hwee🤣🤣🤣', 'sɛ nyame adom na ɛbɛhyɛ meho 10gh🤦🏾\\u200d♂️😟', '🔥🔥🔥🔥🔥🔥🔥🔥🔥 anka mey3 nsuo wo k3nt3n mu koraaaa anka me nsaay3 medaso gyenam', 'ka wo deɛ bridge no abu agum🤣🤣', 'masa masa aha yɛ bloody street daakye asɛm nti ooo😂😂😂😂 me nnim deɛ wooka no ho hwee me yɛ purely virgin🤣🤣', 'wo nka sika sem aa wo voice tone koraa y3 funny🤣🤣🤣🤣 king saark', 'asaay brɛdɛs and sistɛs all roads leads to taadi this december🛫🚙🪂🏊🚴🏻🦽🚢 wɔmmbra ma yɛn jawule🔥🔥🕺💃🕺💃 na yɛ nyɛ mooooore mbɛlɛdze😜', 'time for praises🙏🏽 🗣️ faya k wakyi kakra what shawa sayyy k wakyi na k to nwom nu bi unto the 🗣️ waaaratu dayy 🗣️ faya k wakyi kakra k wakyi kakra na afei what shawa sayyy 🌝', 'porcupine warriors wo kum apem a apem bɛba ɛmu ɛdɛ yie❤️🖤❤️🖤❤️🖤❤️🖤❤️🖤', 'wo kum apem aa apem bɛba 🟢🟡⚫', 'anidie kwanso anuanom yasi afe foforomu monsesa mo brush no kakra😂😂🤣🤣🤣😁😁😁', 'mepamoky3w first seat momb su kakra obi besi wo eha yiaa 😂😂😂', 'eyramadzo wherever udey nyame nhyira wo heerrr solid babe ankasa😍😍😍😍', 'mesrew capo rap mu el chapo die me ba beye no nti menua charlie hye wo sapo mu nsuo yese ye hwihwe me wo interpol 🦅🦅🦅🦅', 'madam wei paaaaay3 s3 aponkye bini aah 3gu milk mu😍😍😍', 'onua dɔ na ɛyɛ🔥❤️❤️', 'masa wo pɛ two shots dada 🤣 🤣', 'im greatful to god for the gift of life 🤝 🙏🏿 🙏🏿 sɛ nka nyɛ nyame a nka otamfo no de yɛ ayɛ hanam ama wonse', 'kobby alpha ne vida me two life savers 😩 me ntumi nyi mo mma da🚶✊', 'wu na wu sh3 h nu😂', 'wadi bet wode3 y3 me show kakra erh😑', 'wu nni sika wo si sobolo y3 healthy stay calm️s voice 🦩🦩🦩🦩', 'etouga etuo no asan ato biom baba yara mafia ⚔ 14 goals at the baba yara sports stadium 🏟 franck thierry etouga mbella 🔥 🔥 but ɛyɛ faaaabulous 52 pts now', 'sika no de3 madam b3gye kofi aboka p3333 😂😂😂😂', 'happy birthday godfather 🎂🎉 🎁 🙏🏻🙏🏻 me bisa ewiase ahuoden ne sika nyinaa ma wo ❤️💯✅🕊', 'nyame ayɛbi o 🙏🏽 my man with all black akoa so eiii 😂😂😂', 'on the grind spitting joe nhyira nsuo na me nam mu so yall better know im the best nigga cheffing zehin ɛbisa dɛɛ mano atɔ counting machine wey dey do wanna deɛ agya aa mo kura no kyerɛ dɛɛ mo adwen mu ndɔ 🤘🏽🌋🌋🌋', 'sika y3 mogya me i want turn klaus michaelson😩😩🤦🏾\\u200d♂️', 'sumsum p3 nso hmm nyankopon ma yen ahoden 🙏🏾🙏🏾🥺🇬🇭 amen', 'a hot twi mental teacher takyi toa ɛbɛ yi so sɛ wotwe ahoma na sɛ amma a na takyi na ɛsɔ apɔnkye kɔn teacher beats takyi until the cain broke into pieces teacher yess baah abaa a yɛde bɔɔ takyi no baah ɛno na abubu gu hɔ no 😂😂😂', 'saa kum kum bagya no i cant do some 😼', 'bra fie na bedi jollof 😀', 'odo asisi maso anso h a asa akatakata mani😫', 'sika no nso aba😂', 'deɛ ɔhwɛɛ yɛn ɛnora no ɔbɛhwɛ yɛn ɛnɛ nso yɛn nyame ɔbaatanpa deɛ ɔntonko na ɔnna 🙏🙏🙏', 'akoko sa kyerɛ akrɔma ɛnyɛ no fɛ is at display here😂😂😂', 'happy birthday world best rapper mr michael owusu addo aka kabutey🎂 nyankopon nhyira wo daa daa', 'aden mo taataa mo saa 🤣🤣🤣🤣', 'nana kasa na nsu asa😅😅😅', 'wofa and please forgive me saa ɛfie no nnyɛ yɛ dea oasɛm ni hearts of oak🙆\\u200d♂️', 'wo ne alpha ne omega 🙏🙏', 'rich uncle fa gh30 no kyɛ no cuzzzz krom ayɛ hye roff 😂😂😂', 'success wo tiara s3 wodi queen elizabeth akyi miensa 🤣🤣🤣', 'yɛn ankasa no yɛyɛ dɔm🇦🇹', 'ho yɛ fɛ paaa ɛnnɛ nso yɛ no bdae happy birthday gurl🎊❤ nuff blessings ❤', 'boys ɛnyɛ nyinaa fri geers😍', 'sika yɛ sika legitimate anaa blood ♥ 🔥🔥🔥', 'kumoooo obiara boa adonko two fingers 3da mu a 3k 👊🏽👊🏽👊🏽', 'wop3s3 wode kdi valentine 🧐 wode3 mate twa me wo account details', 'yɜ yɜ dom yɜn nyɜ baako mmienu miensa yɜ yɜ dom wo kum apem apem beba yɜ yɜ dom aaaaah wote kumerica yɜba aa yɜ yɜ dom yɜ yɜ dom 🔥🔥🔥 d a w u here we come ✊🏾', 'susu pu wu tu wai na y3n ni bi saa 🤣😂😂', 'asɛm ba nya aboterɛ trust chairman ofosu ampofo to deliver 2038 victory 🤣🤣🤣', 'asante kotoko🔥🔥🔥🔥🔥🔥wo kum apem again apem be ba', 'masa woy3 bi na gyae me😂', 'wonni problem wo nan nhia fuel oo 😂😂😂😂😂', 'tumi bi a edi me diɛ sie bia no gyae me na kɔ men dwene obia ho me de me ti bɛgye frɛ me bosiako~ 💿', 'wu nni sika wo si sobolo y3 healthy stay calm️s voice 🦩🦩🦩🦩', 'borsu borsu y3 b3 wu nti y3 nda 😂', 'sika no saŋ aaa na ɔdɔ no ay3 beans stew sika no saŋ aa ɔb3 starte ap3 options nti wo nya kakra hw3 wo maame na wa suŋ ɔden 2021 🔥 🔥', 'burkina faso nso nyɛ bad oo anaa wompɛ 😁', 'adwuma no asi blacko to the world 🔥🔥❤️👑🌎', 'stream abonten na mongyae kasa tenten 🔥🔥🔥🔥 asakaa4life', 'wei nyinaa yɛ ewiase afɛfɛdeɛ 🤣🤣🤣', 'me nsa ho nwii na woka yi mano ho nwii na woka yi mabodwes3 na woka yi me lala nwii de3 wob3y3 den 🎶', '😂😂😂😂 bro me seee aha y3 kwan ho', 'ɔmo nso nim sɛ wo trappi nnyɛ nnɛ😂', 'sika ebi y3 fi daddy lumba 🤣', 'nnyɛ easy ɛbɛyɛ sɛ black sherif album no😂😂', 'hw3 wabati ne wabasa masa😂', 'waakye ghc4 taalialeaves ne gari ghc2 kk ghc2 fish baako mep3 shit bebree 🙏🏾', 'ka na ka biom😂😂😂😂 nanka mede3 ni diana asamoah', 'wontumi 3mb life saaaa obaahemaa😂😂wo p3 life dodo', 'ma recordi dwom a ma hordi min releasi nti yɛ na fans no havi doubt ☝️👑😃', 'wo kum apem ah y3di b ampesie 😂😂', 'im greatful to god for the gift of life 🤝 🙏🏿 🙏🏿 sɛ nka nyɛ nyame a nka otamfo no de yɛ ayɛ hanam ama wonse', 'enti holiday yi yɛnfa nyɛ deɛn 😂🤷🏽\\u200d♂️', 'y3ny3 baako y3 ny3 mienu aha y3 y3 apem ne faŋ y3 fri kokoben kɔ y3 bad things be wɔ afumesua wa koma sua endi mekyi koti baa ma gye sa nnika no da me ha nso wall no na metwa 🔥 🔥', '🙏🏾🙏🏾🙏🏾🙏🏾 y3 di yesu mogya ka mu 3nim', 'deɛ ɔhwɛɛ yɛn ɛnora no ɔbɛhwɛ yɛn ɛnɛ nso yɛn nyame ɔbaatanpa deɛ ɔntonko na ɔnna 🙏🙏🙏', 'knatanka made iphone nso nnam mu😂😂😂😂', 'se tan me awu nti deɛn na wobɛkyerɛ sɛ i have already told you sɛ deɛ de ɛɛba no so kyɛ wiase🌏🌎🌍', 'nka me ko da 😹🤣🤣', 'ewurade ɛnyɛ wo anka 😂 herrh see my my young guns 🦅', 'aaawwww sika p3 nna fom 😂😂😂😂😂', 'abrantie mabre oomenya nka madanso me hu sika na me vim no aba🖤 big ups🤞', 'happy birthday osofo nyame nhyira wo piii 🙏🏽🙏🏽', 'y3ny3 baako y3ny3 mmienu aha y3y3 apem ne fa kingkong nyame 🦍', 'anidie kwanso anuanom yasi afe foforomu monsesa mo brush no kakra😂😂🤣🤣🤣😁😁😁', 'sika y3 mogya me i want turn klaus michaelson😩😩🤦🏾\\u200d♂️', 'yes oooh 😲 you go pass oyarifah country koraa aburi de3 wo duru ho p3 na wo ko heaven nono 😂😂😂😂😂😂😂😂😂', 'ama dede dede ooo ama dede dede ooo twitter girls yi aa ama dede dede oooo y3 b3ky3 wn afa ama dede dede oooo😂', 'adom nyame 3hyira me oo wo kura me o 😭', 'eeiii kofi kakra kakra ana nofo nso kakra 😂😂', 'seesei obaa biaa adane apocalyto wobehu omo biaa na ring hy3 ne hwene mu😂😂', 'wo kum apem aa apem beba 🔥🔥🙌🏽🙌🏽👏🏽👏🏽💪🏽💪🏽💪🏽', '3ka wo nantini a na aka wo to😥🐐', 'akoko sa kyerɛ akrɔma ɛnyɛ no fɛ is at display here😂😂😂', 'masore anopa tutuutu pe sika menya a mobehu se mama nso betwi ne benz nyankopon b3seiho paw debia na kweku de3 sikasem nkoa na onim nka me mpre ohia nma meho anaa you dont know s3 sika nie kweku nie ohia se metie everyday am on my way verse 🔥🔥', 'kasa yɛ nframadede kwa 😂😂😂', '🔥🔥🔥🔥🔥🔥🔥🔥🔥 anka mey3 nsuo wo k3nt3n mu koraaaa anka me nsaay3 medaso gyenam', 'ɛnnyɛ hwee wo to na wopɛ sɛ ɛyɛ kɛse😃😃😃', 'wendy wobeku me nso menwu eiiii🔥🔥🔥🔥🔥🔥🔥', 'first na monka masem 3fi s3 na meni bi 💥', 'herrr saa ɛnyɛ sikanii yɔnko ne preman ni ampa eeiii😂😂😂', 'as a real guy de3 b akata kakara😎na wap3 sika kakara 💰 nyamesom kakara 😇 na wap3 stubborn nso kakara 😈', 'brofo ka gu meso💯', 'me support ecg nso ya dum me light 💡kofi dane 🔥🔥🔥🔥', 'charlie sebor kelvin no ka kyer3 no s3 kumasifo y3 ni ate o na kyekyekuley raps b3n na y3 w h no 😂', 'yeti sika so wai😂🤣', 'wonya sika a di wanum🤝😂 na malt sika ntumi tc plot 🤝🚶', 'dennis wu ka ns3m ooo 🤦🏿\\u200d♂️🤦🏿\\u200d♂️', 'adam ankasa na kaa fresh of my fresh😂😂😂💔 herh giovanni', 'enti 14th february nu wo bedi chocolate anaa dokono 🤷🏽\\u200d♀️💔🤣', 'nana kasa na nsu asa😅😅😅', 'fa nwom si so err na ka me asum as3m d3d33 bi😍❤️ that part dey burst ma mind🤯 mad tuneee🔥', 'yɛ na twe fa me so wate na wo paws bi bɛyɛ dɛ drɛd 😉❤️🔥🔥🔥', 'a hot twi mental teacher takyi toa ɛbɛ yi so sɛ wotwe ahoma na sɛ amma a na takyi na ɛsɔ apɔnkye kɔn teacher beats takyi until the cain broke into pieces teacher yess baah abaa a yɛde bɔɔ takyi no baah ɛno na abubu gu hɔ no 😂😂😂', 'adi3 no ankasa ay3 k3se eii 😂❤️❤️🔥', 'sika ben 😂🤣 medi3 ka nokro3 nu na me fa ma wo😂😂', 'mes3 yesu ma wo😒', 'wo claimi awoshie rihanna ɛnyɛ force sɛ boys bɛ shɛ designer 🐐🐐🐐🔥🔥🔥', 'oh ka na ka biom boosu😂', 'ka na ka biom oo 😂😂', 'y3 woo me tistree street hw3 me blood wohw3 yanim aaa y3nnkasa 3nfa yen ho aa yen bother hm hm sika wo krom joo y3 gather 👏 😈', '👑 🎼sika na 3ma yaw dabo hu neho odogo📌 i just wanna be great ⭐ 🎯', 'one minutes biaa momo nam mu eeeiii mmaa koraa beye de3n wo ghana 🇬🇭 😀😀', 'kofi agyapong to wo bo 😂😂😂', 'all you go hear be na wei b team b3n fa agye sika etc😂😂😂😂', 'slim ne teete me dcdcc aden nti la meye fresh boy oh 😂', 'de3 amanfoc asei ne din nti cka as3m koraa y3ntie 3na cb3ku y3n career 3na de3nde3n slim please come and collect ur stone wai afei na boys no b3hunu s3 woka nokware nokware ah wokaay3 nti na yayi wafri academy board no mu eeeiii ghana🤣 hmmm its all', 'sika wo fie sika wo bank🤣', 'zendaya jawline and the corner of both her eyes yehowa 🤩🤩 ne ti kakraka nu nso y3 me tayse ankasa sister me tali wo to saah agyi me shua tu tor f3m ohemaa', 'krataa sem ñti im jumping to chelseas goals 😁😁', '😂 😂 this girl ankasa ong wode3 ma me nfa nsi ha yi aa', '😂 😂 masa gyae gyae y3 anka 3b3 y3 me d3 no', 'don 3ha de3 y3 gyina mu pintinn s3 abele abaa no wo de3 to bra 😅😅😅', 'tweet bako yɛ 10k o😂👀', 'nso woti asem a nya abotare na mp3 ntem enkasa 😒', 'ahoufe nku ne adwen nso nku 🤣🤣🤣🤣🤣', '10 minutes biaaaa goal baako nam mu🤣🤣🤣🤣🤣', 'masa mente ase3 ka twi 😂😂', 'anigye bere no aso😂😂', 'as we are enjoying the signing sulley muntari kakabo fc supporters are fighting over fatau dauda 😂😂😂😂😂 kakabo fc ayɛ mɔbɔ dodo', 'adze akye biom sr na b mpae na k3p3 sika na sika ho hia 😊', 'nkati3 burger sef bi 120 pesewes only 12 p3 dey inside 😂😂😂😂😂💔💔💔💔💔', 'adonko fa me ko o 🤣✌️', 'gyae kasa nu na carcious is on heat 🔥🔥🔥🔥🔥🔥', 'awurade morsha boduong ho twa honan saadii ankasa 😂', 's pen game is fantastic song is magical and touches the heart ewurade nnyɛ awoa nka nka me yɛ lonely ma hwehwɛ obi maka masɛm akyerɛ no ma me nnya obia me nnya obia mabɔ me ndwom akyerɛ no oo🙌', 'nnoɔma nnyɛ wɔ city side sika ntɔ ɔdɔ 🤠🤠🤠', 'herrrr ka na ka biom 🤣🤣🤣', '😂😂😂😂masa cnkc da ne mmr3 atwa mu😂😂😂', 'ball no dier yeb oo nso aka goal no 🥺🥺', 'sika sem nti mene nipa mmre3🙁', 's3 dede se b3gye arhh 3yaa tie ne din dede nkoaaa 🤭', 'wo kum apem aa apem b3ba ⚽️🔥🔥🙌🏿', 'yɛwɔ sika anka yɛkɔɔ ashesi ne bi😒', 's3 meka dabro wa kooli a ma people can relate 🤷🏿\\u200d♂️', 'afe seisei na medan na masi awie mese me ghetto mu na ma siesie y3k aa mek bi y3baa me ba na manya sekan de ama akonta cos ewiase mu obi nhw3 obi ba nti mey3 adwuma den na magye pay ahaban meti so 😂mentwe nu pii', 's3 yeb3 bo wo ama wasu de3 nka titi woho n3 su fatima ein proverb 🤣🤣🤣🤣s3 wob3 dum me rush paa de3 nka mean m3dum no', 'mo de mo sika too so a nka mawinne bet susu dwa wanum na mamɛ stoppe wo daily bread 🐐🐐🔥🔥🔥', 'somebody tell me barima a omfa ne yere akyi na kyr3 s3 onni sika sika na onni ntia😂', 'medaase bossu epim m3 slidei into wo momo waii 😂😂😂😂', '🎶 ogya e ogya sunsum kronkron mu ogya ogya e ogya sunsum kronkron mu ogya bɛ yɛ wadwuma bɛ yɛ wadwuma makoma mu ogya e onyame gya 🎶', 'aka baako no wofa 😎', 'aa awurade me ser3 wo pii next time wode b3bo me nipa wo ghana de3 nka mame y3 ekuro🐀 wo canada', 'kyer3s3nanka twifo praso nso err 😂', 'when roddy rich said suro nipa na gyae saman efya odo felt it 😂', '🎬🎷onyame adwamma 3x onyame adwamma no a wɔkum wo wofata wofata odwamma a wɔkum wo 2x 🎬🎷🎻', 'oh snr ka na ka biom 🤣🤣🤣', 'wo kum apem a apem beba🔥🔥🔥 welldone warriors', 'then say luka modric speak twi aka baako 😂😂', 'sɛ me nyaa california anka ɛnyɛ bad koraa ooo 😂😂😂 wankasa nso sɛ me nya wo aa me pɛ wo 😂💔', 'afei wo nan naa 🤣🤣🤣', 'me ne wo yɛ adwene 100 wei deɛ ɛnnyɛ kotoko ne hearts nsɛmsɛm biaa🙆\\u200d♂️', 'y33br3 no na mmo adeda 🛌', 'nufuo nu mu nsuo na gye wo papa 😂', 'awww ewuarde menhu nea meny3 meho mpo 🥳🥳🥳🥳🥳🥳🥳🥳', 'nice nice wa y3 ne nyinaa 🎉🎉', 'abcde3 train me abeg 😅', 'me ly no no😍', '😂🤣😂 ei dey funny me sef bro', 'asanteni akdaa aa ayigbe ni na wono🤭 🔥🔥🔥', '😂😂😂😂😂 p3ni di p3ni 👑➕ abcfra wani yaa tera wani nton y3y3 wo papa arh wo r3 firi s3 wo b3 tuu no 👑➕🐐❤️✈️', 'friday night na ɔtse dɛn😁😉😀👌🏿', 'kwesi kyena 700 am me p3 full song no w spotify 👍', 'wey na s3n no 70¢ eeii online shopping ay3 fo saa eei😂😂😂', 'eii at wo line so de3😁', 'eiiiiiiii koooo wo nunu🤝🤝', '🎉🎉🎉♥️ me hemaa afehyia pa', 'sebor bars mu bars asakaaa movement 🔥🔥🔥🔥🔥🔥🔥🔥🔥🔥', 'nyame tumi so sen shatta wale lips nu 🙏🏾', 'ibi real ma guy 😂', 'greatest de3 me sr3 wo paa te me so kakra 😊🙏🏿', 'mɛma wo 2 cedis wae 😂😂😂', 'vip bi ay3 d3 😍😍😍😍😋😋😋 🤫', '😂😂😂😃 e be gob3 anaa', 'ksi fo da wase😂😂😂🤣🤣💔', 'oh madrid de3 s3 y3 ne mmoaa 😅', 'bankye ampasi ne mako 😋', 'bece mu nsem 🤣 massive 🔥🔥👍🏾', '3nny3 ghana na henfa biomu😂😂', 'aloyafour no woheee oooo 😂', 'twitwi wo sé oo na pepsodent y3 d3 sene postinor2 😂💔', 'tipsters be ruli wiase nyinaaa🤣', 'obiara nnim s3 me trappi nny3 nn3🔥🔥🔥🔥', 'papaaapa😂 cs3 wo p3p33p3 👍🏽', 'eii information wo wiase ooh 🦅😂', '3b3 surprise akoa yi 😂😂😂😂', 'f a m e y e 😍😍😍😍😍🙏🏽🙏🏽🙏🏽', 'guru de3 no y3 mfante dokono paa ooo 🤣🤣🤣🤣🤣🤣 1057fm', 'agya nimo da wasɛ 😂', 'adwen no anny3 adwuma body nu br3 🔥', 'on reggae mu kakai 🔥🔥🔥🔥🔥🔥🔥🔥🔥🔥', 'wo kos3 kos3 nyinaa hy3 wotirim💀💀', 'one minute biaa na beef na mu eiii akosua toolobeef 🤣', 'omode3 s3 omo ano👍👍', '😂😂😂😂 ein sheda b jalabia anaa', '😹😹😹😹 wofa broya ho awe nkkok', 'ei nipa paa nie🤔😊🤗 kumasi bi guy', 'ow baby na m3y3 no d3n🙈😅', 'wo taataa me oo 😂😂😂😂😂😂 3nny3 wo f3 huh', '🥵🥵 fr3 me number na yenkasa', 'ade3 yi y3 akn 😍😍😍 if i get a hmmmm', 'ei 😂😂😂😂siaw and ama serwaa', '🔥🔥 b a n t a ma 🔥🔥 ✌🏿', 'yɛɛgye tire na airkɔso oo chairmoo😹', 'fa apetor nu hooki me 😂', 'ei ewurade me too im fine o 😩😩', 'nun ooooo nana agy mensa 😂😂😂', 'benzema ma ball y3 f3 k3k3🤩🔥', 'deborah osei tutu girl yi nim ade3 rough herh😂😂😂', 'one minute biaa kun kra nam mu💔😏 nti wote sayyyy na wodi as so🤝', 'minamino oo sɛ hwan 🤣', '😂😂😂😂😂 akua 3y3 da wai', 'ah na dangote bi that🤔', 'send me kenkey and nkyenam 🙈', 'against bi y3 d3😂', 'catfish adwuma no aba 😂😂', 'greetings 🖖 oooo mo ne adwuma pa', 'onua me tii wonka aky3😹😹', 'ah na medier may3 dien 😂😂😂😂😂', 'b33ma cy3 ashawo 3nfa bi da😂😂😂', 'its well rara obiaa bɛba abɛto oo real shih if you could see how my flow dey heh yɛkɔso di yɛn mmre ahba👌🏾😊⛈️⛈️⛈️', 'every minute biaaa na relationship advice nam mu😂😂mo na moobl€', 'wei de3 portfolio p3 girl adwuma mu kwan🤣🤣🤣', 'true paaaa bhet wn shouti 🤫🤫', 'neho koraa y3 me mbor💔😂😂😂', 'help nyinaa aba mu 😂😂', 'naarh bro bi deeeeeep🥺', 'ma wani nda ho ooo ohemaa 😂', 'play dey dem ma eye top o herh 🥲', 'on 🎵kro kro me 🔥', 'oh nana me nie 🤫🤫😊🤲', 'kɔ tɔ bi erh 😂 anaa some no dey deutschland', 'mee gye me two peace ✌ 😌', 'oh yeah anaa y3nk heblews😂', 'me i like the emu ay3 kooor torokaa ena nkyen nkyen ay3 tumtum😂😂😛😛', 'nokware s3 wgye sika💰💰😁', '😆ɛno foriwaa na abɔ sɛn', 'b3rma de3 wo si soaa we nampa 😒', 'akok 200 cedis di3 aden b liverpool anaa😂😂', 'bɛrima aa yɛse no se nadeɛ atɔ nsuo mu no ɔbro jellyfish hwɛ✌🏾👑⛈️⛈️⛈️', 'eno na eda hɔ no 😂😂😂', 'miaaa me nie cheap necca😂', 'enea se nedin ne nehonam se ooo 😂😂😂💔💔💔', 'de ahwease3 ay3 nna😂', 'every 1 minute biaa brofo bni nam mu 😂😂', 'sister debbie is pretty 🤩 eii meyem kraa ahye me', '3s3 wo ara braa kaly 😂', 'tamale agye wo ooo 😃', 'sark wogyi pass na gyai good boy nsem nu 😂😂😂😂', 'wontumi wo nne3ma aa wose wo kahyire ny3😂😂😂', 'ei wiase nyinaa best midfielder 😂😂', 'fano ma me err😪', 'mafa mi ho adwen 😂😂😂', 'ne nwom pa dier no size 💥💥🔥🔥🔥🔥 gye wo ✌️', 'sa jumia food delivery adwuma no he gyai 😂', 'eiii bukari twe wo nika ko soro 🤩🤩🤩', 'wo ly mu nie😂😂', 'chairman😂😂 omo na 3bl3 ooo', 'wo b3 pii nt3m paaa😂🤣', 'bra fie na menkye bi mma wo 😎', 'onua obia didi nadwuma ho oo 😂😂', 'nsamanfuor nyinaa ahw3 me snap😂😂😂😂', 'cape diə saa oh😅', 'chaiii gye wo two ✌️😘', 'eii information wo wiase oo 😂😂', 'herr k na fr3 no bra 😂😂😂', 'saa santaclausanon agyuma no y3 gyae😂😂💀💀🥴🥴', 'emma 3ha nso biom😂😂😂', 'lol you no dey bizz kraa ibi so😂', 'eiiiii 😂 wiase de3 information nkoaa', 'afei deɛ mo nan noaaa😂😂😂🔥', 'ohene wo nkwa so ✌🏾✌🏾✌🏾✌🏾', 'akoa ma adekyer3 y3 akono😂😂', 'ow charley lol ibi so hahahha 🔥 🔥 🔥', 'yedi sika na 3yi sika 🤣🤣🤣', 'hahaha 😂😂😂😂 agyeta wo ha', 'nanka ɛbɛ yɛ deɛn na ayɛ wo ya 😂😂😂', 'ekwan da mu roff 😂😂😂', 'ay3 y3 exercise kakra na gyae aniha ne akwadworɔ no 😁😁🤣🤣', 'fɛfɛnɛfɛ dem sey love be chemistry a da ɛbɛ sɔre bia ebi so di ɔmo we aint gonna suffer mano tɔ atanfo naso mu👌🏾⛈️⛈️⛈️', 'comoros 🇰🇲 nyame wa y3 bi ama me anadwo eeiii', 'nea aduru yi de3 agye s33 nyame b3mu 😢', 'wow mashup mu okukudurufo akwaba were waiting 💯🔥🔥🔥', 'nti na mengyae wakyi da😌', 'jersey no bɔ wo kama kama 🥰', 'kwame akwasi nti wo player no ka ho akwasi aane oo nanso ɔbɔ division 2 wɔ serbia kwame ɛnyɛ hwee me kraa me prayer ne bɔ division 3 wɔ india bisa yaw sɛ ɔde ne players no ka ho aa according to this is what happens at gfa 🤣🤣🤣', 'waakye or kooko adom nu time di waakye 3yi me nyame a y3 🙏👏🥳💃💃🕺🕺', 'na yesu mogya koraa yɛ sɛn😂 please tear top', 'awurade this week ye di hy3 d ma ni ndi amen 🙏🏽', '😂😂😂😂 so it is now koku ayidoho institute wabr3 oooo wo saa papa wie', 'malang sarr wa di fufu anaa 😂😵\\u200d💫', 'egya no asɔ kumooo🔥🔥🔥', 'utag nyame kasa ma amoka 3y3 diiinnnnn🙏🙏🙏', 'errea washing powder wei yɛ guy dodo the errea washing powder kits in dubai this 😹😹😹😹😹 is it from atebubu ohiayɛmɔbɔ market anaa kakabo fc ayɛ mɔbɔ dodo', 'kudos warriors 🔥🔥🔥🔥wo kum apem a apem beba', 'eiiiiii na y3 nna y3 b3 br3 wa ha sendi ma lecturer no 333rr😂😂😂', 'aseda ben na mefa ma awurade 🙏🙏🙏🙏', 'taadi to wiase wo youtube 🇬🇭🌍🚀🚀🚀🚀🚀🚀', 'elef the double piercing pɛ na adwuma no asi 🙈🙈🙈', '😂😂😂😂oh naa omo bɛ reporti ama wo ɛnyɛ competition koraa', 'i tear bro😂😂😂mmaa bebree p3 sisi mu den than beauty', 'chelsea fans have influence kounde to chelsea team de3 enoaa ne chelsea 💙💙💙💙', 'mesrew capo rap mu el chapo die me ba beye no nti menua charlie hye wo sapo mu nsuo yese ye hwihwe me wo interpol 🦅🦅🦅🦅', 'no be me o ebe 😂😂', 'navrongo foɔ da wo ase 🤣', 'amen me hemaaaaaaaaa baaakope 😃😃', 'ohhhh gyai na pressure nu su 😂', '😂 😂 😂 😂 😂 😂 😂 😂 aaajeei awurade me y3m', 'daakye bi ɛbɛfa ama wo🙏🏻', 'pre valentines gift yen ka ho bi anaa 😂😂', 'nyame baako pɛ na ɛbɔ me ho ban nti moa mobɔ me ho pɔ na mofa me ho tan🔥🔥🔥🔥🔥🔥🔥🔥', 'utag nyame kasa ma amoka 3y3 diiinnnnn🙏🙏🙏', 'opanyin wo ho twa wate🙌🏽🙌🏽 top nu y3 guy❤❤nyame nyhira wo', 'vand dijk nu nim pass ma oo herh😻', 'yɛte kumasi nso yegye shout wo taadi love insyd sokoban odaso 👍👍👍👍 shout to fred cey insyd taadi efiekuma', 'good morning krobea kumasi asante kotoko wo kum apem a fa b ampesie 🔥', 'wo kum apem a apem b3ba kumerica to the world 🌎', 'happy blessed 🎂 🥳 🎉 to our own baffuor owireduamoh afehyia pa onyame nhyira wo pii 🙏🙏🙏', 'ahokyerɛ nea mɛdie mpo ɛyɛ a na ɛho ayɛden ahah wobɛhunu me na mayɛ fɛfɛɛfɛ nanso nea menam mu no na obiaa nnim ooo 🙏🏿', 'woyɛ me role model wai 😊😊', 'joooooe mo nim s3 3korso🔥🔥🔥', 'fufu with abunuabunu snail kakra momone kakra koobi kakra kako kakra amane the hard on kakra salmon kakrakoto kakra ena prekotwer3 ne beef kakra s3 wo kon ado😋', 'ho twa ankasa whaaat 😍😍😍', 'hɛn koma nsa na ndze yɛ dze da nyame ase 🙌🏽🙏🏽🙏🏽 akpe na mawu 🙏🏽', 'adom nkoaa ne ahummbor🙏🙏🙏', 'kaish 🔥 atɔ ne line so 😍😍', 'ah what this🤦😂 ay3 late cos y3 p3 sika aba fie💯', 'dj carcious 👋 wo yɛ bam🤔🔥🔥🔥🔥🔥🔥🔥🔥🔥🔥🔥🔥🔥🔥🔥🔥🔥', '3w makoma mu a nka wo behu s3 me dea ne wo sika na menni bi nti nka wo behu s3 me p3 was3m bebree😭', 'sumsum p3 nso hmm nyankopon ma yen ahoden 🙏🏾🙏🏾🥺🇬🇭 amen', 'eeii so no bro go miss 😤😂', 'adam ankasa na kaa fresh of my fresh😂😂😂💔 herh giovanni', 'king kong wo y3 champ 🙌🏿', 'awurade ma nsɛnkyerɛne ni saa mpaeɛ a merebɔ yi akyi ooo maa wɔnhunu sɛ woyɛ onyame a wotease🙏🏾', 'oh lord im a sinner im stuck in my ways im a driller me ne akata fuor baako mienu shia mu aa y3 shi vanilla girl no bedi me for dinner fr3 no meleena kora bɔne bi aa me hyia no kwan huŋ me nka 3he nfa ee 🔥', 'wo ka nokr3 nyame nhyira wo🤌😇', 'happy birthday world best rapper mr michael owusu addo aka kabutey🎂 nyankopon nhyira wo daa daa', 'camera mpo tumi y3 nipa yie na awurade 🙏🏾🙏🏾', 'camera mpo tumi y3 nipa yie na awurade 🙏🏾🙏🏾', 'gosple fuor no mowohe monyinaa monbra mbetie na nnwom no mu y3d3 paa 🤍🔥', 'porcupine warriors wo kum apem a apem bɛba ɛmu ɛdɛ yie❤️🖤❤️🖤❤️🖤❤️🖤❤️🖤', 'wow 😳 ahoufe nie anaa 3y3 snap na ay3 wu saa', 'ana mi boyfriend na nyame di b3ma mi no he no dey africa 🧐', 'a blessed day to the sports prophet nyame nhyira ne nnkwa tenntenn aamin aamin 🤲🏻', 'aseda ben na mefa ma awurade 🙏🙏🙏🙏', 'y3y3dom me nua y3 twa ato so na y33 ba🔥🔥', 'aka d3 na ati nso gyina hor pintimmm😹😹💔', 'oh lord im a sinner im stuck in my ways like a driller me ne akatafoc baako mmienu hyiamu aa y3hye vanilla girl ne de mekc dinner fr3 me melina akwadaa bcne bi aa mehyia no kwan ho menka hene fa🔥🔥🔥 🔥🔥🔥 grrrrr', '🤣🤣🤣🤣🤣 wu b3 ka nukr3', 'aj wo yɛ biah 🥰', 'de month x ending 😹 yagye sika 😹', 'august de3 vim takashi ne mpaeb o🙏🔥', 'chelsea against wiase nyinaa⚽️✌🏾🤣', 'kyekyeku dey tear me this gbeke 😂', 'you looking muah 🤭🤭 ahoufe de3 nyame aky3 wo bi ❤️❤️❤️❤️', 'happy blessed 🎂 🥳 🎉 to our own jerry forson afehyia pa onyame nhyira wo pii 🙏🙏🙏', '🎼🎺eeeeeiiiiii aseda nwom nkoaa na meto ayeyi nwom nkoaa na meto se awurade amma me ho amma asem aa🎼🎺', 'wifey wo b3br3 daakye 😂😂💔wei y3 kunu', 'ↄbaatanpa woka yԑ fam woho ma yԑn dea ehia yԑn ԑnԑ ne daa nyinaa 🙌🏼🙏', 'fa nwom si so err na ka me asum as3m d3d33 bi😍❤️ that part dey burst ma mind🤯 mad tuneee🔥', 'blessed birthday to you sofo abaadedeede nyame nny3 wo k3se3 🎉 kwadaso estate kumasi', 'chairman u do all aswear u making ma day dis morning basaaaaa kumasi is rili burning 🔥🔥🔥🔥🔥🔥🔥🔥🔥🔥🔥🔥🔥🔥🔥🔥🔥🔥🔥🔥🔥🔥🔥 no nnim de3 w mu', 'mafe wo nso paaa😩', 'kasa gu ma sum na me gyedi 🔥🔥🔥🔥🔥🔥🔥🔥']\n",
      "['kyer3s3 wode3 sika biara nso wodiafei de3 slaves fo sika na wop3 adi eiii nana addo 😆 🤣 😂 🇬🇭 🇬🇭', 'borga menyɛ dbee o ɛkɔm bubrooo na ama madi saa nkwasidasɛm nu 😂', 'sebastian nso brofo nny3 kraaa3de3n ni🤣🤣', 'maturity is not about you airing sambari 😹💔sua nyansana gyae gyimie no😂😂🧘🏻\\u200d♀️', 'ah hwɛ nenim sɛ pitingɛ😏', 'amanfuo girls na omo bl3 😂😂😂', 'bongosɛ my opinion😯 mbɛlɛdzi ni nkoso nkwoa', '😹😹😹😹wo nkoaa wo yerenom nsia wo mma moron wosan he ha 33p3 cbaa biom ehh😂😂😂😂', 'ama africa ne gyimee ne kronoo 😆😆😆😆😆', '5mins biaa na scam nam mu 😁', 'wo ankasa asɛm a wooka yi ɛyɛ ma wo 😂', 'hw3 be jon bi 😏🚶\\u200d♂️🚶\\u200d♂️', 'ah so troskis go strike for real 😄😄😄omo ngyae gyimie no oooo', 'herh wo gyimmie paaa 😂😂😂😂😂😂😂😂', 'so yesu paaaa wey dey support gyimie saa no😂🤣', 'elevy akwantuo hmm y3 te sika su nso y33br3 y3 te gold ne oil so nso y33br3 3ne nn3 nu hmm🤦\\u200d♂️🤦\\u200d♂️🤦\\u200d♂️', 'im going through alot nyinaaa saaa obaa nti wagyimi paaa🤣🤣k p3 sika wai🤣', 'wo tr3 su tus 😂😂😂 saddick obama 😂😂', 'mona mo bl33 mewo asem ka but wahw3 na jack ako y3 me lawuu 🤔', 'wonni sika nanso wo di tw3 raw kwasia vim b3n nono🤭', 'eeeii saa sei na ete3 🤔🤔 yaa asantewaa de asem b3ba oo', 'kwasia panyin bi te s3 wo gyimii naaaa 🔥 🤝', 'wo nnim nyansa na wo papa y3 ohiani aaa wose wop3 sugar daddy😑', 'fa no s3 wagyimi na suru mmaa💔🔥🔥🔥', 'gangaa ein bro too dier 😂😂😂😂akoa ye jon nne3ma paa oo', 'ei awurade na aden kraaa 😂💔🤦🏽\\u200d♂️', 'ah na ecg foc cmc agyimi anaa 😹😹', 'na 3nny3 f3 nerh☠️🌚', 'omo didi menn a na ato mo ne nkwasia akeka 🤣', 'nti vodafone fo k adwuma koraa k y3 de3n network basbasa bi sei😒', 'wo team sɛ awiesu wo ndewene wo ho 🤣', 'seisiara wo y3 fo ma me 😭😭😭', 'ghana yesu dea ohh daabi nipa na abodam sei 😂😂😂', 'awurade aka me 36gh p3 w me momo onti y33y3 ne d3n😔', 'ɛyɛ a na ɛyɛ me awerɛhow sɛɛ😂😂😂😂', 'wo team ni sika k da 😂😂', 'airtime sika mpo wo nni bi woobl3 oo 3km ba 🤣🤣🤣🤣🤣🤣', 'ei algeria nyame b3tua mo ka bebree😭😭', 'kofi ne ama k pepow ne sooh syto 😭😹😹', 'agenda boy mosi how far 😂😂😂 mo na mobl3', 'blackstars diɛɛ yɛ twe fa yɛ bo saa 🥲', 'oooh gyae was3m masa 😂buh android phones de3 3gugu mu oo', 'oh mese kelvin ne ti ser tomatoes seed🤨', 'wo kyere aa wobewu aa anka wawu 😂', 'na guy wei wagyimi anaa😀😀😀😀😀', '😂😂😂abi c4 no get sea anaa', 's3 wo di me drip no akyi de3 aahmasa 3ne3 wo ntua wo light bill this matter erh 😭😭😭😭😭😭😭😂', 'na tongue no bi teeth 🤝', 'hmm saa oo i figure sammy gyamfi go warm am paa oo nka wo b3 sei plan no 🙄', 'wagye sika no nso oo🤣🤣💔🤣🤣', 'is full example of suro nipa na gyae saman🤔', 'eei 💔 kyeres3 mi dier meye ntsini kraa ma yera mu', 'date rush hw3 nso 3y3 force😂', 'fa watetee moa ɔha na deɛ me sane no ɛnyɛ bi ne nkyɛkyerɛwa 👌🏾🌋🌋🌋', 'wo twitwi samena aaa 3ehro mba eyyyyyyyyyy brokenheart 🤣🤣🤣🤣🤣🤣🤣🤣🤣🤣🤣🤣🤣🤣🤣🤣🤣🤣🤣🤣', 'eiii koo nimo na adu gyamfi old boy de3 olag fo asem fa woho b3n🤔', 'aden mak di barca ni bi yere anaa 😂😂😂😂😂', 'ka na ka biom chairman 😂', '3hia bronyi a b3 ka twi😂😂😂', 'sika no de3 madam b3gye kofi aboka p3333 😂😂😂😂', 'aaaah star boy mbappe paa nka ma kante mpo nsei no 🥶🥶', 'eii kooyegyae wo a nea wo b3keka no😂😂', 'thats never gonna happen ɛyɛ me saa ɛbia na ɛyɛ yellow fiver😅', 'flying colors nyinaa sɛɛ na ɛyɛ lgbtqzsf1+76zzɔɛkh 🤣', 'muslim girl di nadia ne mayafi a egu no tialhaji ba baakp p3 ne noma mpo onsi🔥🧸🃏', 'berla nti 3nn3 nso wank asore eii 🤣', 'wo p3 asem koraa dodo😂', 'ei 😂 e b bus wey e pass ein top anaa 😂', 'aiiiii take me ewey😭😭', 'da mole mole man🤣', 'general paaa wey he taya so 😂😂😂😂', 'oh ecg visit u anaaa oh shiiiiii saa y 😂', 'asoden yekra no aboden😂', '3b3 pai s33 pmp bi no 🤣🤣', 'wo p3 nhw3 bebree aa y3 bc wasum😂😂😂', 'ah na emoom paaah😂😂😂😂', 'wote ghana sɛ wobo golf 🏌️\\u200d♀️', 'opoku ware mo ma mmɛ sei mu ma mo 😊🔥', 'eyyyy😨 mo ati ka no ooo 😂', 'eeeeiiii wo de33 wo😂😂', 'hahaha haha 😂 😂 ɛnti wo pɛ me eh', 'betpawa premier league amɛkɛɛ wɔ nyɛɛ wɔ fe ni fee ɔbɔdɔbidi from tamale to walewale ni wɔ fee ɔbɔdɔbidiprez observers are worried shi believers shall enjoy 👀👀', 'lol chale afe nkc b3to y3n 🙌', '😂😂😂😂 asɛm ba nya aboterɛ', '3bro 20ghc oo nanso tanoso de3 mehia 15gh p3🤣🤣', 'na me u tag me n33 😂', 'all prodigal sons papa 👴 si yen san bra fie na this time around nuey3 yolo', 'masa gyae na wo boa 🤣', 'y3 nu ghc 2000 pr3ku errhhhh bra kweku 🤫🤣 na 3n balance', 'account holder watu ride aa bra fie oo bra fie na y33 tw3n woo😤⚔️😂', 'wo kyer3 mu aah💔💔😂😂', 'aban ay3 ade3 na mo mpene no333 😎', 'kwasi broni nti y3ndi hia da 😎😀', 'classic dj nyame nhyira wo waaaaa🔥🔥 nkwa tenten me nua 😊💫', 'aka d3 na ati nso gyina hor pintimmm😹😹💔', 'raster man me y3 flair aa wode me di agoro nti wonsuro adi3 😎', '📍nana kwabena apartment 🏡🇬🇭 📍design me arc ofosu kwakye 📍location kumasi ashanti region 📍plot 1 plot 70 x 100ft', 'yani abre wo accra ooo 😂😂😂', 'wo te oseikrom na woo ka sei akatanii de3 pimpinees asem de3 lyy b3n🤣🤣', 'stream abonten na mongyae kasa tenten 🔥🔥🔥🔥 asakaa4life', 'aane meda ayaresabea bro nti na mehia sika no😊😊', 'onyame a woyɛ yɛn agyanom nyankopɔn ɛnnɛ nso woyɛ yɛn nyankopɔn yɛbɛsom wo abre nyinaa ama amansan ate wo nka deɛ worebisa biara no ɛyɛ nyame nko na me ne mabusua dan no🙏 sehwi wiawso western ghana', 'nyame yɛ adom phada azigy bɛba bi 😂😂😂😂😂😂😂😂😂😂😂😂😂', 'congratulations bossu ma regards to naa ayɛma ✌🏿', 'ebi nom ka banku ebi nom tn banku ebi nom hy3 banku nanso y3n de3 y3b3 di banku daa 🙏🤣🤣🤣', 'asaay brɛdɛs and sistɛs all roads leads to taadi this december🛫🚙🪂🏊🚴🏻🦽🚢 wɔmmbra ma yɛn jawule🔥🔥🕺💃🕺💃 na yɛ nyɛ mooooore mbɛlɛdze😜', 'fifa na wob3 b nka de3n biom🤦🏾\\u200d♂️', 'bɛma di wo fie asem wani tra wani tɔnn aa wobɛ nya asem asem mpɛ nipa nipa na ɛpɛ ne ho asɛm shɛ wo dan mu nyɛ saa na wobɛ ka me aa wobɛ nya asem 🔥🔥🔥', 'ɔpanyin crentsil yɛma wo awodapa yɛserɛ nyame nhyira ahoɔden ne nkwa ntenten ma wo asafo awurade nkɔ so nhyira wo na ɔnyɛ wo kɛseɛ paaa happy birthday wishes from the osei walker family cheers 🥂🍻', 'sika no nso aba😂', 'hyɛ wo canvas 👟 na ɛtse band 🎺🥁 aa tɔ boaa saw na beebi yɛ dɛw mpo aa ɔnnto 💃🏽🕺🏾🤸🏾\\u200d♂️ 2021 🔥🔥🔥 this december 🤞🏾🥰', 'sarknation females ankasa dem b too foine🥰♥️', 'don naa nie don biaa ni akyere how many times na menka nkyere wo 😎👑♥', 'eii philippines too dey listen to stonebwoy ein song information w wiase oo 🤣', 'dear lord 🙏make mah galfrnd no menstruate on 14th february ooo any3 saa mogya 🛑 no mu na 🤨😁', 'like a typical ghanaian commentator3kaa kitikitikiti nanso keeper nu akye ball nu sei twitwe 😂😂😂', 'augusco ko fie na ko sua adi3😂😂', 'no dey cap koraaa o ose glass nkoaaaa enti ma y3ntua elevy o 🤣 🤣 😂', 'frame 1 nanaaba can i get a spoon frame 2 djokoto ok lemme change it for you frame 3 nanaaba eeii 3nti spoon no b nni h gyes3 fork 😥 na fork de3 da b3n da 🥺', '😂😂😂😂wo yere ketewa no ho y3', 'fa hooki me ee😫', 'yehowa b3hw3 ne mma 🙏', 'maame wo y3 buei😂😂😂', 'edo ah dash me rts ai 😂😂😂', 'new single yɛn hwɛ obia by don method check it out now 👉🏽 ⬇️ à ghana', 'wei de3 mewhri s 🤣🤣', 'ein name no be emmanuel eh🤷🏾\\u200d♂️', 'odo me ni wo b3 wo akonoba is such a profound statement 🙈', 'afia may score man city 1 eeeeiiiii afia wo gyi wodin 🙌🏾', 'eihhh wo no no 😂 😂', 'fancy de33 fifa mu ronaldo ooo😂', 'information wɔ ɛwiase ooo eeii😂😅', 'hihii enfa wo ho🤣🤣🤣', 'kalyjay b3y3 dbee p3ky33 aswear tiee ne sere3🤣🤣', 'me man hene nono✅❤️ nana wonkwa so🙏🏼', 'its alie y3di no daaa😂😂😂', 'y33ni time saa nana😂', 'eeeish wode3 ada me ne wo b3hyia w wedding ase de3 3b3y3 butubutu😂😂😂', 'mep3 fufu ne y3made3🥵🥵', 'ohemaa b3gye 12 pro max baako😍', 'bue kwan ma me ooooo sunsum agya eeeiii 🙏🙏🙏🙏🙏🙏 1057fm', 'hon right now yɛn yie obiaaara asɛm fellow oooooooo chaaaaaargeeeee 🟡⚫🟡⚫', 'this is catarrh one billion hundred thousand yɛ ka ne sɛn one billion yɛ ka ne sɛn wɔ twi mu umofia archbishop 🤣🤣🤣', 'streets no yɛ aware sɛ ɛso kyɛn universe no nyinaaa🔥🔥', 'yɛnso yɛ mrɛ nie 🤩😂', 'ohene nyame nhyira wo daaa🙏🙏🙏🙏', 'anka men ka den 😂', '😂 😂 oh kweku kanye dier s3 me nigga']\n",
      "['slim things de3 3noaa ne wei ooo🤩🤩🤩😘😂', '😂 😂 ah daabi daabi me bo efu menua', 'fa ma mi ehhh 😂', 'na awinsem yi erh🙄', 'asakaa drill songs mu prophet 🔥🔥🔥🔥🔥🔥🔥🔥🔥🔥🔥🔥🔥🔥🔥🔥🔥🔥🔥', 'masa go away shes not rich biaa 3ny3 oman sika nuaa na ode ay3 yie tsww🤦🏻\\u200d♂️😂', 'grasshopper mpo na edey bore me 😔kingdomphylum ne de3 ekeka hoo💔😑', 'ibi en problem ooo me i skip 😂😂😂😂', 'ɔtwi borla borla car wɔ nkoranza 🤣🤣🤣', 'ei ghana airforce 1 mu kamikaze paaa ooo bomb nkoaaaa 😂', 'ɔhemaa abotrɛ 😂😂😂😂😂😂😂😂😂😂 herh but milo yɛ fokn', 'seesei obaa biaa adane apocalyto wobehu omo biaa na ring hy3 ne hwene mu😂😂', 'god is watching yall nyame b3 tua mo ka paaa spoiling team 😢😭 😃😊', '😂😂😂 s3 nya baako koraaa anka yewuuooo', 'nyame na agye mo 3ny3 saa enka agenda paaaa 😂', 'this trumu pant di3 chale mo trumu nyinaa b3y3 kuro ooh😹😹😹', 'so ebi tru eei ghana 🇬🇭', 'asante kotoko no ɛwɔ wura oooooo🔥🔥🔥🔥 show working system🔥🔥🔥🔥not yɛsa masa system biara', 'onyame a woyɛ yɛn agyanom nyankopɔn ɛnnɛ nso woyɛ yɛn nyankopɔn yɛbɛsom wo abre nyinaa ama amansan ate wo nka deɛ worebisa biara no ɛyɛ nyame nko na me ne mabusua dan no🙏 sehwi wiawso western ghana', 'asea 😂😂😂😹😹😹 wo dier b3ka kyere me s3 wo ti y3 wo ya anka wo b3 te', 'mouse mu nyinaa astronaut 🐭 👨\\u200d🚀 😂😂😂😂😂😂😂😂😂😂😂😂', 'jesus na aba ena obiaa etonbi 😶', '3firi s3 onyame na adom ara kwa na wo te s3 nea wo te 🙏🙏🙏🙏', 'etaaaso wote pum pum ahhh wo bi di🤩🤩🤩', 'na u how do u see the psg team team ay3 s3 tu gyimii 😂😂😂 soorrrli', 'asem no ayɛ kɛse ama malam😃😃😃', 'lol nkwasias3m y3 wo d3😂', 'panyin paa na wo egyimi saa😂', 'asaase no se nyame ay3 awei🇬🇭🇬🇭🇬🇭', 'saa kum kum bagya no i cant do some 😼', 'ghana de3 y3y3 ahushish3 dodo yare3 wei nso 3bi aba ghana ei😭💔', 'paa s3 m3 supporti manchester united de3 nanka me de b3 nom ankaatw3de3 😹💔', 'gyae 3nnka saa biomu😂😂😂😂😂', 'good morning krobea kumasi asante kotoko wo kum apem a fa b ampesie 🔥', 'bra fie na bedi jollof 😀', 'wo ny3 madanfo aah woho me aah tw3m😹', 'gyae na ɛka aba fie😂😂', 'herrrhhhh information wo wiase ooo😂😂😂', 'doubling up sɛ woka deɛ waka me language 👍🏿👍🏿', 'me faa wobotom ooh😂😂🤣', 'ghana ne tw3 bia 😂😂', 'ka kum y3 gye no kwakuo anum 😂🤣🤣🤣🤣', 'fa rent me 33 kakra 😁', 'wo nim brɛ woa brɛ afuomu ha aaaaa 😂😂😂😂', 'nkwasiafo nea aka mo ne gyemie me dam b🧏', '3nso nyame y3 fc fuo ne nkwasea hopes😂', 'me gyidie ebedwa ntsi to nyame dwommaaad🔥🔥🔥', 'eeeeiiii asem ben na akoa wei nso 33ka yi🤣 jay z was fading out 🤣', 'ohia yɛ foɔken bla 😂😂😂', 'nnipa y3 bad oo😂💔', 'follow me🕊️❤️yen di y3 ho ha ifb', '😂 😂 😂 😂 ose na me me fa wo huŋ ne wo gyimii', 'rally no 3korrrrso 😂😂😂 umofia', 'neo cnkc bi oo lol 🤣', 'dog eye e be shit dem chop that be why dem dey fool so nu efia tenge dey dey blow nyaaaa sey nobody for go the demo anka yagyimi ama no anaaa o feeli s3 y3ny3 agyimifuor na egu jubilee house h a won rewia ghana sika no nyinaaa anaaa s3bi o 😂', 'kor club 😂😂 wo type woho 😂', 'asiedu nketia pants mu ay3hye ruff 😂😂😂', 'listowel term wei ɛyɛ ayɛ hit oo😀😀😀', 'ɛyɛ aa fra ntoma 😊', 'yɛ yɛ asanteman asante kotoko🎼🎵 wo kum apem apem bɛba 🎼🎵 sɛ wokɔ cape a ɔmo se vipers 😏 sɛ wokɔ volta a ɔmo lions 😏 sɛ wokɔ accra i dont even know 😛 na sɛ woba kumasi a ɛyɛ faabulous 🔥 ❤️ faaaaaaaaaaaaaabulous faaaaaaaaaaaaaabulous faaaaaaaaaaaaaabulous', 'mo mma yɛn advance show🤣🤣', 'you broke buh u dey wan beautiful girl sia fa ngozo naa bi saa😏😏', 'hmmmm ono na obl333 😂😂😂😂😂😂😂😂😂😂😂😂', 'osukuu nii wo deɛ a ne gaday we ma wani mpro nsuo😄😄 his wife sold the best rice on campus ne stew no anwa nkoaa nso woboa', 'tema mayor no be ghanaian 😹 woka ho bi na fuel prices k soro', 'smart boy me copy a me copy dito s3 me hwere ho a na ma kai s3 mey3 gangster 🔥✊ 🛫🚄 meko a meba a paapa medaase 🙏', 'me ti kraa shishi me exfoliate nyinaa name mu bi😂😂', '😂😂 but e dey bi oo', 'kofi susuka ooo hmmm me am deaf i cant see 🤩', 'eno bi juju bi that 😂😂😂😂', 'ɔnyankopɔn apɔmuden mpaemuka nsam a me ka no yɛ nkwa na ɛyɛ honhom tumi wo asem a me ka bia mu nea me ka bia yɛ ho ma me ɛfi sɛ me ka nea me ka bia wo yesu din mu me paemuka sɛ me te apomuden mu ɛndɛ ne da nyinaa amen🙏 wadansidie testimoniesorg', 'papa yi y3 bad 😂😂', 'aben da 3b3san aben biom 🙏🏾', 'barça group no mu ay3 d3😂😂', 'odo y3 d3 sen sika 😹😹gyimie kasa sei', '😂😂😂😂😂 ah buy me fufu', 'awurade ne me hwɛfo 🙂', 'adwuma no asi blacko to the world 🔥🔥❤️👑🌎', 'hey togofoc de asem b3ba oo 🤣🤣🤣🤣🤣🤣', 'woto soa 3kum nde wo 👽', 'akwadworo honhom na edware wo s3 geisha no gyae 3nny3😂😂😂😂', 'odo y3 wo d3 ooo 😂😂', 'asɛm ba aa ɛyaa nya abotrɛ 😂 😂 😂', 'mensei da me feeli meho tu herh amrado 👏', 'and you believed him enti wo nsua nyansa kakra🤣🤣🤣🤣', 'fa sekan twe twa mu 😂', 'ei kaly wo maame dawo ase🤝', 'wo twɛ means bye bye😂😂😂😂', 'paaaa 😂😂😂😂😂 3de3n ne yha yha yha 😂😂😂😂😂', 'like london bi accra nka arsenal dey sukura wey chelsea dey east legon nti rest wai 🤣🤣🤣', 'prokaryotae da wase waai 🤣', 'oh awurade wo p3 3ny3 h 🙏❣', 'tega na fine babe ooh😋', 'herh en banku ba be jaaaaam shi shi na banku ba🕺🏾🕺🏾', 'hwan na b3didi metcmu na menso mah didi na yaase😹💔', 'software update baako 2gb😕', 'wommpe wei na wope dien😂', 'wo kum apem a apem b3ba kumerica to the world 🌎', 'ɛda a medeɛ yi bɛba no agye sɛ yɛ mu baako dwane oo ada medɔfo bɛba no agye sɛ yɛ mu baako dwane oo😭❤🔥🔥', 'wo kum apem ah fa 😂😂😂', '😂 😂 ah 3no nso y3 de3n style', 'la hustle oo nyɛ saa lawu 😂🤣', 'wo nipa ɔnka hwu o 😂😂😂😂😂😂😂😂😂😂', 'kukuru kukuru no gyae a kekɛkekɛ nso be gyae 😂😂', 'wo pri koraa dodo 😂', 'me de3 sleep 💤💤💤 koraa ooo', 'wonni sika aa wose efie eduane y3 d3😂😂', 'np⏯ krokro me 🎼🎧 on 📻 🇬🇭 📡 mzkeekie 🎤 and myself 🎧', 'ka nɛ ka biom 😂', 'éy3 tsuime naa i dey see 😂', 'enye ejuma no bi aaa 😆', '😂😂😂😂😂😂🏃🏽\\u200d♀️🏃🏽\\u200d♀️ sosquet osofo bi y3 guy✌🏾', 'bossu twa me momo err 💓💯😍', 'wins and the pains goes straight to 🇦🇹😂😂😂💥🔥 yɛn na yɛ se da hyirem yi oo 🤣🤣🤣', 'ma ma mi ya🙆\\u200d♂️😁', 'meek uni meek uni ninyinaakye waakda✌️✌️ eyy kofi dagaati ne ama chinchila 😂😂💔', 'wo de wo koti ama kwasia baaa bi nti hw3 de3 wooo ka😂😂😂', 'hahaha haha 😂 😂 ɛnti wo pɛ me eh', 'nice b3y3 dew enyumbri yi 😀', 'sika nti girl aa medc hw3 s3 obi agye 😩', 'gyama woyale k dwonsor na da 😂', 'na haruna wan dey ein top 🙏😂😂😂', 'onipa bewu na aboa sika te ase🤔 be kind 🥂', 'osee ne flow no y3 bloody me kaa s3 de twa tire saana 3y3 menses eww 😷', 'nyame ne hene 🍼 😍 🥳 hong kong theatre', 'don dada aa me nda da me ndaa da wo 🔥 🔥 vibez', 'eiii mo nso mo su saaa🤣🤣🤣', 'ahh etwi me oo😆😆😆', 'mew anidaso be s3 awurade de me besi yiye 3ky3 den ara medimafo te ase bra asorokye b mpo aa me wer3 renfi s3 awurade wo mu aa biribiara b3y3 yiye 🙏🙏🙏 lyricssong by uncle ato song was in fante', 'ɔpanyin crentsil yɛma wo awodapa yɛserɛ nyame nhyira ahoɔden ne nkwa ntenten ma wo asafo awurade nkɔ so nhyira wo na ɔnyɛ wo kɛseɛ paaa happy birthday wishes from the osei walker family cheers 🥂🍻', '3nti 3ny3 brokely sika herhanka americafo de3 3ny3 style no no americani de3 anka spending fa ne ho b3n 😂😂😂😂😂', 'pr7 erh so size oh 🤣', 'oh auntie enti wose won abn saaa ama afei de3 extra tuition na won hia ong 🤣🙈', 'says me arsenal nni deɛ nka wo de kotoko yɛ dɛn🤣🤣🤣', 's loud 📢🔊 inside kofi nyamekye shop i want you to play me oheneba kisi adom nyame', 'eih kwaku frimpong de asem beba o 🤦\\u200d♂️', 'oooh oya obi asem aa susuka wai na wo abodwes3 hunhuuun koraaa y3 ka ho asem wei wai 😂😂😂😂😂😂😂', '3sum ny3 sum k3k3 3sum y3 sum ma wn a wn nhunu ade wo sum mu 3san s3 aboa bi didi anadwo very deep 🔥 🙏🏿🫂🖤♾', 'fa ma me err😍', 'phone yi b3 fata wo 🤝', 'so kuami eugene erhhhh eiiiii🙇🏽\\u200d♀️💀🤣', 'ne kotoko num yɛ sɛn😀😀', 'ah figa ebi me pɛɛ 🥴', 'trend no deɛ ɛnnfa oo na mo ngyae gyimie no na system no nyɛ nadwuma dr kwame nkrumah kraa da prison na aboa bi like shatta wale tswww 😂😂😂😂', 'richarlison no ɔnyɛ normal saa 😂😂😂', 'wo paaa yɛ dɛ pnc wini elections🤣🤣🤣', 'mo de3 mo de b3ba de3 3ky3n kuro yiit matters wai 😎', 'what of ka ka ka 🤒🤒🤒', 'ɛno ne asem no 🤦🏾\\u200d♂️🤨', 'woy3 bone aa metu wo wig 😜🤪😜🤪😜😜😊😊😊', 'ah coach that😂😂😂😂😂 fa wo nnoɔma fa wo nnoɔma', 'yɛ na yɛ blɛ 😂😂', 'hwan eni edo anaa 😀😀', 'kaftan mu gentian violet😂😂 me nua way3 kama de3✌🏾', 'bra fie na bɛgye ama ampofos contact number 😀', 'tu aduane no ase3 nyinaa ak😂😂😂', 'aden na wo ho y3 f3 saa😍😍', 'fire wo nan noaa 😂', 'lotto kwraa metwa na bet🤗', 'mia me dkono mia m3hono 😂', 'yes yes yes yaba and yaba nu nso deɛ na yaba 🔥❤️🎧 accratse addo is the location📍🚩', 'arh eii mey3 kraa ahy3 me 😂', 'wo kum apem aa apem beba 🔥🔥🙌🏽🙌🏽👏🏽👏🏽💪🏽💪🏽💪🏽', 's3 asa h3nko da 💙 💔 chelsea 🤦🏾\\u200d♂️', 'ayoo nti metwen daben 😂😂😂me sika no ahye aky3 so i was on break', 'yaa pono will go and shoot video for the diss song p333 wagyimi saa wo ka kyer3 bronii koraa a ngye nni😂😂 herh boys fool😂😂😂💔💔', 's3 anka me di aa na matua wo ka anaa wo se me bo dam😂', 'by this time de3 peter atwa obi aso ama judas mpo agye ne dollars 3ksesa😀😀', 'abusua d funu wai madam🤣🤣 ayie ba a na agyapade3 aba abusua mu', 'wo bro tan tan bi😒😔', 'yɜ yɜ dom yɜn nyɜ baako mmienu miensa yɜ yɜ dom wo kum apem apem beba yɜ yɜ dom aaaaah wote kumerica yɜba aa yɜ yɜ dom yɜ yɜ dom 🔥🔥🔥', 'scammers dema new trick is funny oo they call nooor masa ejuma ni sika nu wa sendiii anaaa 🤣🤣🤣🤣', 'airtime sika mpo wo nni bi woobl3 oo 3km ba 🤣🤣🤣🤣🤣🤣', '😂😂😂😂😂😂😂😂😂ei tee girl no wafa biibi w fom adi anaa', 'akoa baako nso claime wudini 🤣🤣🤣 menim akoa no 🤣🤣🤣', 'kwasi broni nti y3ndi hia da 😎😀', 'adey die 😂💔💔💔 wey emotional trauma too dis kyeres3 obia egyimie oh 🤣🤣🤣', 'ghana yesu dea ohh daabi nipa na abodam sei 😂😂😂', 'this is catarrh one billion hundred thousand yɛ ka ne sɛn one billion yɛ ka ne sɛn wɔ twi mu umofia archbishop 🤣🤣🤣', 'y3ti sika so nso y3 b3 gye elevy boiiii🤣🤣🤣🤣😂😂😂😂😂', '😂😂😂 kyerɛsɛ hearts deɛ mo nnim hwee yɛ team bɛn koraa ni', 'u dey run anka wob3te wo sika fiaa s3 trumu nwii baako 😹😹😹😹', 'onua gyai nkwasea keka no😂😂😂', 'sika dam na mebo🥹', 'ei ɛtwɛ behunu ne wura na abrɛ 🤣 🤣 so dont you fear women kyerɛ sɛ generation wei deɛ twemdɛɛwa foɔ nkoaaa', 'eii eii eii gods nu nso fi hin lol 🤣', '3 ppl dema food ɛnam baako pɛ ei 😅', 'herrrrrr akomeah atwitti with iphone sika no anya asu😂😂😂', 'egya no asɔ kumooo🔥🔥🔥', 'bronya akyɛdeɛ 0248389126 give me a call 📞', 'karim benzema nyame nhyira wo daaaa🙏🏾', 'nyame na si hene 🤲', 'meekotor nentwi nam ne aponkyi 5 pounds each di abey3 nkwan ne froi different different ash3 fridge mu ah wosi belly fat 😒', 'wo nya y3 anka 😂😂😂 nso woboa koraa', 'pɛ abena bi di ooh abenada 🥰', 'nyame na adom ma beduru akwaaba 🇬🇭', 'post mortem ni bbl yɛ pɛ 🙄', 'abigail boateng ho twa ankasa ahuofɛ paa nie 😍😍😍', 'wo de3 ko barca martin braidwith mpo b3 y3 asenn wo tweeaaa ⚽⛹️🥎🏀🏐🏉🏈', 'wan bissaka deɛ wasa ruff 😂', 'gyi s3 wu di ma nor saa na mind ur business di3 nka information fa wo hu b3n 😂', 'ah na leila spirit paa na wa mia agu foam ne mu saa no he wan kill the sakora man 😂😂😂', 'u claim theres no money but delegates are receiving 5000 each y3ti sika so na y3 bl3 yasore afri sika noso mu kyiky3 basa basabasa 😂', 'wodin nka ho tes3 class p adanfo😁', '∆™✓masa in fact s3wop3 obi nas3 nipa nu nso mp3woa kay it pains paaaa oo heeeerrrrrr braaaa😱😱😱😱😱gtgtgtgtgtgt', 'elevy akwantuo hmm y3 te sika su nso y33br3 y3 te gold ne oil so nso y33br3 3ne nn3 nu hmm🤦\\u200d♂️🤦\\u200d♂️🤦\\u200d♂️', 'ahokyerɛ nea mɛdie mpo ɛyɛ a na ɛho ayɛden ahah wobɛhunu me na mayɛ fɛfɛɛfɛ nanso nea menam mu no na obiaa nnim ooo 🙏🏿', 'wo ho twa sinn 1 double edge sword 🗡 2 mayanka sekan 🔪 anaaa', 'bisa mefie abeyifoc s3 mabamu abu da aa😂😂😂never', 'these teams rn yagye sika yagye sika yagye sika yagye sika💰💸💵💶💷💴', 'obidi nyame ntua wo ka na wo to nss😂😂😂 bysarkodiebayla trap', '🙄🙄🙄🙄enti waa de3 wo y3 3nti 3y3', 'realities are catching up with those of them yɛti sika su ɛkɔm diyɛ🙂🙂', 'wahy3 shirt kama ne wo trousers whan nfa skirt wei anka ho saa na any3den o😐😐😑😑', 'so yesu paaaa wey dey support gyimie saa no😂🤣', 'eeii asɛm bɛn ni🤣🤣😂', 'nobi b3t33r nso y3n gyae da🙏🏿', 'way3 wo ti kakraka s3 pornhub fuor database 😒', 'awo gyae na life no de3 ehia ne paper no🗝️', 'papa ny3 hwee aa bone nso ny3 whee ohemaa di sika no😂', 'kwadjo kwarteng gyae bet twa na ɛmmoa wo 😂😂😂😂', 'menso mafiwo papa😂😍 akwaaba s3 wodi sika aba deir', 'mepamoky3w first seat momb su kakra obi besi wo eha yiaa 😂😂😂', 'achisco demma own also be sɛ mmrɛ no aduru aaaa nka wobɛ yɛ dɛn den i start shedding crocodile tears 😂😂', 'comoros nyame ayɛ awie 🙌🙌🙌🙌🙌🙌🙌🙌🙌', 'bet no player to smoke on the pitch 🚭 odd 6851 bakayoko cigarettes si mano ntampe nkoaa na meetwe', 'what can come can come 🤔 anaa yɛbɛ wu enti yɛn da', 'we are one😂 nso omaame twa fa akyiri', 'me firi akyenfo nti mensuro police👍', 'kromu ayɛ hye bɛbiaaa ayɛ hye nanso yɛmma yɛabamo mmu ooo ɛyɛ dien ɛbɛfa ɛbɛfa bɛfa bɛfa bɛfa in case needs translation aaa is there to support😃😃', 'wu na wu sh3 h nu😂', 'syto mpo nie na international school kojo cue 2019 💡💡💡', 'dressing yi deɛ s3 nka 3y3 tv a nka tete deɛ no bi o me kyer3 daduam no bi 😂😂r', 'efo nso de3 nka ashawo szn fa wo ho ben 😂😂', 'chairman wontumi gyai gyimie nu 💔 aaaah', 'yekokyinkyin de sika aba fie ampa sika aba fie oooooooo🔥🔥🔥🔥🔥', 'the boy is okay nso aka sika 😂😂😂', 'bra gyae ne y3nfa egya ngu omo to 🔥🔥🔥🔥🔥🔥 morepressure but still we dey wait thé album ❤️', 'ball no de3 yawhe awie aka y3 nso adwuma 😂😂😂😂', 'talented artist with no sense 🙃wode ka tua na gyae gyimi no na you pass 40 years', 'nsuo muna t ky3 na s3 d memmae3 a woda a 3nna oo d km ade me a mana abro so nti woda a 3nna oo 🎶 ~daasebre dwamena😍', 'power to mahani paaa deɛ neɛ nka akua donkor mmom 🤣🤣', 'addo d change ein glasses my father said waa hwɛ yɛtua ɛno nso ka😂😂😂😂', 'nanka y3n ka d3n 😂😂😂', 'happy birthday sika mawu nayra wo🙏🏻❤️🎉', 'bibini 3tumi kas3 spaghetti s3 sonsono 3nso de akrante3 bini 3y3 nkwan😑', 'imagine stan dogbeor sammy gyamfi leading mahama to go n visit rt hon alban bagbin 😂😂😂 herh ewiasi paaa nieyɛn tu nipa ntwini ooo', 'wo tweeti gyimie paa ooo kiddies dey here 😂😂', 'menso saa s3 waba so wenya girl nti🥺 na me ne woaa ne y3 cuddle 🥺🥺🥺🥺', 'gyae me gyae me😭😭😭😭', 's3 anka social media hype nkoa n3 ma hitz s3 anka obia feature mugeez 😂😂', 'nana ase wo de hia ɛkeka nkwaseasɛm anaa wose me yale 🤣🤣', 'obatanpa a wo ka y3n fam wo bo ma yen nnea 3hia y3n 3n3 ne daa nyinaa 🙏🏾', 'masa masa gyae na ass deɛ wo nya aaaah nkanka when its soft chaaaaiiii😉', 'aka 5 days p3 na no asu sarkodie 🔥🔥❤️', 'gyae no 3🤣 nhwehw3 anyim nkotseee owu nso nny3 d3 bia🤧🤧🤧🤧', 'igp gyae shi na nom akpeteshie samini apio de3 3ha yaa apio de3 y3n kye 😂😂😂', 'nti bibinii b3y33 de3n wo wiase kraaa 😭😭', 'awww enti wode me b3gya sika duro😝', 'nti kraaa aden ah 😂', 'anka alukumi nsu dierr anka fake life fa wo ho b3n 😂😂😂💔💔', 'charley anadwo arrangi na ma girl bi enfa hooki me ehn 😉', 'ah y3n kan gyere wo 😴😴', 'hmmm ama asantewaa worry we waa 😫', 'siaaa pressure da wase 🤣', 'wo no no ooo 🤩', 'wo brofo no ny3 me de 😂😂😂😂😂 for', 'oh so the ramatu bawumia wasnt necessarily a mistake 🧐🧐 information w wiase paaa ooo', 'masa t boordi3 5gh nkosua baako 😂😂😂😂😂😂', 'light nkoaaa system no ye adwuma 😂😂', 'chairman u bore bi sei😂😂', 'dabro shi 🚬 na won shi egya b mano yi de3 me trappi', 'gyai ntoa toa ni wo gyimi 🤣', 'mede3 ano part anaaa🙄🤦🏿\\u200d♂️🥺', 'wo brofo sem da fom b3t33😂😂😂💔', 'starboy wanna pose from head to toe am3 eko chale nyame na me som no oy3 sronko am3 b3 eko bad man with kra kra kra kra am3 b3 eko mese nnipa nso y3 den common happinessam3 b3 eko 🎵🎶🎶', 'fa bewo so fa bra bewo na menkrokro wo o 🎶', 'gemi si na hamili 😂😂😂 oy3 d3n 🤦\\u200d♂️', 'na who this man koraa herh 🤔', 'ei ei ei 🥺youre too biuriful', 'eeii shatta saa na rolls royce no nny3 wodea😂😂😂😂😂😂😂😂', 'waaa wei y3 de gye grammys 🤣🤣', 'nana fa gyi mu 😂😂😂', '3ho hiaaaaa koraaa s3 wob3twi wanim instagram naaaaa b3ma wo filter 😂😂😂herrrhhhh dmc hard', 'millsap no wajimi anaa 😂😂😂😂😂😂😂😂', 'bro adjuma no so 🤣', 'herrrrrrr am speechless 🎤 no agye me ns3m waben', 'bra b3 wo me na eho hia💉😌', 'wobue mu ooo wanbue mu ooo u go collect na ur call😌', 'ali yi nso yɛ guy guy papa fatima in the making 🤣🤣🤣', 'wo ni vision koraa ah🌚🌚🌚', 'asem ahye wo da 😅', 'y3 ma midget broken heart ma ni y3 yie 😂😂😂😂', 'sɛ wahu sɛ wagyimi 😂', 'saaa bestie bestie fuor yi aaa😂😂😂', 'kasao anaa circle gutter 😂', 'wei y3 de gye ballon dor😂', 'na fam delete this 😩', 'wo yale k na k pata ibi u know 🥊 rules', 'y3wo iphone na y3wo iphone oo 😂😂😂😂😂😂😂😂 those who use 66s6s+6+7+ gyimii nkoaa😂😂😂😂', 'kweku frimpong de as3m b3ba oo😭😭💔', 'wei na mo de k gye champions league no anaaa 😂😂😂😂😂😂', 'shhhhhhh twi ne brofo p3 oo 😁 and some alo french bi 🤓', 'ah🤣na wei so eer', 'eii😫😭so no one miss me 😭😭😭', 'ne kra kraa ne sen 😂', '1999 na sisiiiaaa yi 22 yi 😭😭😭😭😭😭😭😭😭😭😭😭😭😭😭😭😭😭😭😭😭 eyyyyyy 😂😂 time nor dey oh herhhh😭😭😭', 'akoayi anum y3 ne d3😂😂', 'uni de sweet ooo herh😂', 'hwɛ ne jonwopri papa 🤣🤣🤣', 'wo di3r follow am😂😂', 'wofa kanu agye wo nsa ong 🤣🤣🤣🤣', 'ma brb nyinaa hy3 wo nsem me nyame 🙏🏾', '😂😂hw3 me ny3 dbee', 'eeeiiiiii at me so 😂😂😂', 'man u team nu ay3 yie anaa😂😂', 'very soon judas b3gye sika 😄😃👍', 'na mohw3 out on 🙏🏾 kumasi ghana', 'he says ad3n aponkye na 3y3 momo😂😂i tear', '😲gtgtgtgtgtgt banku ne fish 2 cedis 😂😁💔', 'jerome ne kasa yɛ mframa are 1🤣🤣🤣🤣 you complain of jersey saa sɛ na o koraa u no buy', 'bra mike wo pri dodo 😂😂❤️', 'me yem koraaa ashie me 😂 😂 😂', 'wo fam pillars saa😂😂', 'wo mpo w3 nya visa😂', 'ei woy3 spokesman anaa 😂', 'eii am out ay3 k3se am out 🤣🤣', 'to wadwen mu na kↄda nyame be sorti✊🏿', 'but br weak me ooo heerh 😂', 'wonim ball ⚽️ mu paaa 😊👍🏾', 'omo aba biom me kwasia posts😏', 'kop3 security bi di 😂', 'india w na w b3 k 🤣🤣🤣', 'hmmmm na me koaraa me wɔ sen🤣🤣', 'brofo no nny3 me d3 eii woy3 maths teacher a brofo nfa woho anaa 😭😭😭', 'aww ewurade obi ne ba😂😂😂😂', 'this one bi nokaoutkpotokpaa🤣🤣🤣', 'wei deɛ wo deɛ mu😃😃', 'ma faalli sei tim agya odo y3 d3❤️😂😩', 'otaataa me koraa dodo 😭', 'ah na pep no wagyimi anaa🤣', '😂 😂 na me may3 de3n', '😂😂😂 eeii na hwan ba nie', 'nea ɛfoɔ na wo pɛ 😃😆', 'y3 p3 sika nti y3n adwuma y3ntimu nya gab 🔥', 'ɛyɛ wo nwanwa ohn 😀😀😀', 'na wonnso adein😂😂dein na tema boys ay3 wo', 'hw3 wontumi mfa woho nni saa 😹', 'ɔbaa ɔnpɛ gɔb3 ɛnfa bi da ahokyerɛ ba ɔbɛ dwane agya wʋ😂😁😃😝 bi da series', 'yɛ se female celeb ooo masa 🤣 🤣 🤣', 'ei achabu 😂 😂 😂 nyame ayɛ bi oo', 'wo ne wo boss no mo ɛyɛ ayɛ opportunistic foɔ 🙄', 'awurade girl naa me p3 me di nuno onie😩😩😩', 'hw3 di33 okyer3 wote twitter y3 mentii wo case koraa mpo wo su koraa na mey3 no more 😀😀🤪🚶🚶', 'team no ayɛ yie💙❤️🤩', 'asɛm wɔ hɔ anaa 🤣', 'girl no tirimu eden paa😀😀😀', 'bet di y3 dodo nti mo nkyer3 y3 lotto twa🤣🤣🤣🤣🤣🤍🤍 got buzzzzzzz', 'full time kotoko 20 liberty ⚽⚽ nea nyame tumi yɛ nie 🔴⚪💪⚽🙏', 'masa wo pɛ two shots dada 🤣 🤣', 'menso de3 me de ka bebere 🌚', 'yenka kyere wo ansa 😂🤣 enfa hia nka nkasiasem accccccrrrraaaaa', 'y3 y3 dom wo kum apem a apem b3ba✊🏿✊ king promise | don bortey | gyakie | davido | chelsea |', 'kotoko langabel says we no brag ourselves in effect am3 gbee ame dà 🤣🤣🤣🤣', '2021 boys ntomi pressure but competition too kill sensor 🌚 sika anibre nti boys nebi ni atinka😌', 'anka menyaaa nufo kakra ka ho aa anka i set be that oo😅', 'wei yɛ de pia car 😂', 'chelsea y3 team no agu oooo eeeeiiii 🙆🏻\\u200d♂️🙆🏻\\u200d♂️🙆🏻\\u200d♂️', 'y3te sika so nanso 3km di yen y3te mmaa ho nanso 3tw3 km di yen 😭😭😭', 'eei na ahoyaa b3n ni med 😁', 'yεde yεnan besi fɔm o yebeyi awurade ayεwaayε bi o halleluyah yesu ayεakibadey mekadoerokobomadεlεakimagadε mlekadε rokobamasεdey olotoblo olomadaayebadee halleluyah yesu ayε bi o ee aama me ne wo ayikabaminado rekederatofooshika shika batope ragεdε abratopa😹', 'wonni sika aa 🤥 wose 3moo 🍚 3nmee ahiafoc ne nkwasia keka', 'y3 na kogye bi😂😂😂', 'me ka me si nain afe wei m3 di girl nu😩😩😩', 'alla ma math teacher nie 😂😂😂😂😂😂😂😂😂😂', 'ali yi nso 😂😂😂 dedicating adwaman award to allah eiii na mo adɛn', 'gyimie saaa na woa wu kwa 🤦🏾', 'wonni sika aa wo bu fu baahat 😹😹😹 ohiaa ny3 oo 💔', 'aniwuo aka nnipa bebree 🤣🤣🤣🤣🤣🤣🤣🤣', '3w makoma mu a nka wo behu s3 me dea ne wo sika na menni bi nti nka wo behu s3 me p3 was3m bebree😭', 'nti is true that u ar dating more than three human beings eiii wagyimi ooo na anka ma me baako mpo eerrr😂😂😂lol', '😂😂😂dua bc nyinaa aba mu', 'fa wo epmty threats no kɔpɛ baabi tena 🙄🙄🙄', 'kɔti yɛ aboa ampa 😔', 'de nano twitwi f3m 😁', 'kwasia kasa saaaaa k p3 sika na gyimiie nu😂😂', 'dem tear two eiiii na barca omo agyimi anaaa 😂', 'wo apantæn s3 king promise camboo no wai 🤣😆', 'hy3 ma me mepa mo kyew 🙏', 'herrrh onyame ay3 bi o 🥹🥲🫢', 'odo nti ka me🙁', 'heeerrrh generation yi yare 😂😂😂🤣🤣', 'aha yɛ kwan ho😅', 'asɛm ba nya aboterɛ trust chairman ofosu ampofo to deliver 2038 victory 🤣🤣🤣', 'wo dadwene nanka wo b3 nya nyame k3si3 sei🙌🏾', '😂😂😂bench oo onya bi b mpo aa nka wadi', 'no wo kraa aden😁😁', 'ad3n wc maam3 ctua konko anaa useless shit 😏', 'golden boot na ehia no😂😂😭😭', 'dead goat paaa hmmm foooluwa kasa de33 mo nim ka oo🤦\\u200d♀️', '👨i love you 🙎\\u200d♀️amen ei asɛm bɛn koraa nie 😂😂😂', 'ka kyere me s3 mabodam preko 😂😂😂', '🎶 🎶 mpaebɔ tumi yɛ biribiara ɛde daa ahode bɛbrɛ wo mpren mmpa ne anigye pa kyɛ wɔ mpaebɔ mu 🎶 🎶', 'nyame na etua mo ka nu 😂😂💔💔', 'nyame nti y3 b jark anopa biaa 🙏']\n"
     ]
    }
   ],
   "source": [
    "# Printing only 'EMOJI' tweets\n",
    "import re\n",
    "\n",
    "emoji_pattern = re.compile(\"[\\U00010000-\\U0010ffff]\", flags=re.UNICODE)\n",
    "\n",
    "emoji_tweets = train_df[train_df[\"tweet\"].apply(lambda x: bool(emoji_pattern.search(x)))]\n",
    "print(emoji_tweets[\"tweet\"].to_list())\n",
    "\n",
    "emoji_tweets2 = dev_df[dev_df[\"tweet\"].apply(lambda x: bool(emoji_pattern.search(x)))]\n",
    "print(emoji_tweets2[\"tweet\"].to_list())\n",
    "\n",
    "emoji_tweets3 = test_df[test_df[\"tweet\"].apply(lambda x: bool(emoji_pattern.search(x)))]\n",
    "print(emoji_tweets3[\"tweet\"].to_list())\n"
   ]
  },
  {
   "cell_type": "code",
   "execution_count": 6,
   "id": "24b9fa30-6537-430f-83c7-1c222f1e054d",
   "metadata": {},
   "outputs": [
    {
     "name": "stdout",
     "output_type": "stream",
     "text": [
      " Converted combined_dev.csv to UTF-8\n",
      " Converted combined_test.csv to UTF-8\n",
      " Converted combined_train.csv to UTF-8\n"
     ]
    }
   ],
   "source": [
    "# Making sure everything is converted to utf-8 and there are no errors in the datasets.\n",
    "\n",
    "import os\n",
    "import pandas as pd\n",
    "\n",
    "input_folder = \"C:/Users/T-Plug/Desktop/University/Level 300/2nd Sem/316 Social Media Mining/End_Of_Sem_Project/Datasets/Combined\"\n",
    "output_folder = \"C:/Users/T-Plug/Desktop/University/Level 300/2nd Sem/316 Social Media Mining/End_Of_Sem_Project/Datasets/Combined_utf8\"\n",
    "os.makedirs(output_folder, exist_ok=True)\n",
    "\n",
    "for filename in os.listdir(input_folder):\n",
    "    if filename.endswith(\".csv\"):\n",
    "        file_path = os.path.join(input_folder, filename)\n",
    "\n",
    "        try:\n",
    "            df = pd.read_csv(file_path, encoding=\"utf-8\")\n",
    "        except UnicodeDecodeError:\n",
    "            print(f\" UTF-8 failed for {filename}, trying ISO-8859-1...\")\n",
    "            df = pd.read_csv(file_path, encoding=\"ISO-8859-1\")\n",
    "\n",
    "        output_path = os.path.join(output_folder, filename)\n",
    "        df.to_csv(output_path, index=False, encoding=\"utf-8\")\n",
    "        print(f\" Converted {filename} to UTF-8\")\n"
   ]
  },
  {
   "cell_type": "code",
   "execution_count": 7,
   "id": "56742d01-3024-406b-a1c1-ab7bdb0b8487",
   "metadata": {},
   "outputs": [
    {
     "name": "stdout",
     "output_type": "stream",
     "text": [
      "combined_dev.csv: 70 rows have 'ɛ', 29 rows have 'ɔ'\n",
      "combined_test.csv: 188 rows have 'ɛ', 90 rows have 'ɔ'\n",
      "combined_train.csv: 640 rows have 'ɛ', 342 rows have 'ɔ'\n"
     ]
    }
   ],
   "source": [
    "# Checking to see if ɔ and ɛ survived\n",
    "\n",
    "for filename in os.listdir(output_folder):\n",
    "    if filename.endswith(\".csv\"):\n",
    "        df = pd.read_csv(os.path.join(output_folder, filename), encoding=\"utf-8\")\n",
    "        contains_e = df.astype(str).apply(lambda x: x.str.contains(\"ɛ\", na=False)).any(axis=1).sum()\n",
    "        contains_o = df.astype(str).apply(lambda x: x.str.contains(\"ɔ\", na=False)).any(axis=1).sum()\n",
    "        print(f\"{filename}: {contains_e} rows have 'ɛ', {contains_o} rows have 'ɔ'\")\n"
   ]
  },
  {
   "cell_type": "code",
   "execution_count": 9,
   "id": "8a1cf779-04a4-4d76-b9a4-7893f312a35a",
   "metadata": {},
   "outputs": [
    {
     "name": "stdout",
     "output_type": "stream",
     "text": [
      "Converted emojis in combined_dev.csv to text labels\n",
      "Converted emojis in combined_test.csv to text labels\n",
      "Converted emojis in combined_train.csv to text labels\n"
     ]
    }
   ],
   "source": [
    "# CONVERTING EMOJIES TO TEXT LABELS\n",
    "import emoji\n",
    "import pandas as pd\n",
    "import os\n",
    "\n",
    "def convert_emojis_to_text(text):\n",
    "    if not isinstance(text, str):\n",
    "        return text\n",
    "    return emoji.demojize(text, language=\"en\")  # ❤️ -> :red_heart:\n",
    "\n",
    "input_folder = \"C:/Users/T-Plug/Desktop/University/Level 300/2nd Sem/316 Social Media Mining/End_Of_Sem_Project/Datasets/Combined_utf8\"\n",
    "output_folder = \"C:/Users/T-Plug/Desktop/University/Level 300/2nd Sem/316 Social Media Mining/End_Of_Sem_Project/Datasets/Combined_utf8_Emojized\"\n",
    "os.makedirs(output_folder, exist_ok=True)\n",
    "\n",
    "for filename in os.listdir(input_folder):\n",
    "    if filename.endswith(\".csv\"):\n",
    "        df = pd.read_csv(os.path.join(input_folder, filename), encoding=\"utf-8\")\n",
    "\n",
    "        if \"tweet\" in df.columns:\n",
    "            df[\"tweet\"] = df[\"tweet\"].apply(convert_emojis_to_text)\n",
    "\n",
    "        df.to_csv(os.path.join(output_folder, filename), index=False, encoding=\"utf-8\")\n",
    "        print(f\"Converted emojis in {filename} to text labels\")\n"
   ]
  },
  {
   "cell_type": "markdown",
   "id": "19c1bc6c-2499-479b-a2d8-6f6a842e97f7",
   "metadata": {},
   "source": [
    "### Augmentation of Neutral and Negative to Prevent Overfitting"
   ]
  },
  {
   "cell_type": "code",
   "execution_count": 11,
   "id": "b683a1ef-46cb-4580-b093-a53b29fb9d27",
   "metadata": {},
   "outputs": [],
   "source": [
    "# Run this everytime you want to use the names of the datasets, changed according to latest csv version\n",
    "import pandas as pd\n",
    "\n",
    "train_df = pd.read_csv(\"C:/Users/T-Plug/Desktop/University/Level 300/2nd Sem/316 Social Media Mining/End_Of_Sem_Project/Datasets/Combined_utf8_Emojized/combined_train.csv\", encoding=\"utf-8\")\n",
    "dev_df = pd.read_csv(\"C:/Users/T-Plug/Desktop/University/Level 300/2nd Sem/316 Social Media Mining/End_Of_Sem_Project/Datasets/Combined_utf8_Emojized/combined_dev.csv\", encoding=\"utf-8\")\n",
    "test_df = pd.read_csv(\"C:/Users/T-Plug/Desktop/University/Level 300/2nd Sem/316 Social Media Mining/End_Of_Sem_Project/Datasets/Combined_utf8_Emojized/combined_test.csv\", encoding=\"utf-8\")"
   ]
  },
  {
   "cell_type": "code",
   "execution_count": 15,
   "id": "a89dbfc5-c6a1-4c85-8923-9b45c2a5f7de",
   "metadata": {},
   "outputs": [
    {
     "name": "stdout",
     "output_type": "stream",
     "text": [
      "Train==========\n",
      "label\n",
      "positive    4123\n",
      "negative    2060\n",
      "neutral     1437\n",
      "Name: count, dtype: int64\n",
      "Dev===========\n",
      "label\n",
      "positive    714\n",
      "negative    307\n",
      "neutral     254\n",
      "Name: count, dtype: int64\n",
      "Test=========\n",
      "label\n",
      "positive    982\n",
      "negative    512\n",
      "neutral     343\n",
      "Name: count, dtype: int64\n"
     ]
    }
   ],
   "source": [
    "# Checking the counts before augmentation\n",
    "\n",
    "print(\"Train==========\")\n",
    "print(train_df[\"label\"].value_counts())\n",
    "print(\"Dev===========\")\n",
    "print(dev_df[\"label\"].value_counts())\n",
    "print(\"Test=========\")\n",
    "print(test_df[\"label\"].value_counts())\n"
   ]
  },
  {
   "cell_type": "code",
   "execution_count": 41,
   "id": "51304f3f-ffad-4391-8b08-1e9fa7814b86",
   "metadata": {},
   "outputs": [],
   "source": [
    "slang_lexicon = {\n",
    "    \"chale\": {\"meaning\": \"friend / expression of emphasis\", \"sentiment\": \"neutral\"},\n",
    "    \"charle\": {\"meaning\": \"friend / expression of emphasis\", \"sentiment\": \"neutral\"},\n",
    "    \"shocki\": {\"meaning\": \"surprised / shocked\", \"sentiment\": \"neutral\"},\n",
    "    \"galamsey\": {\"meaning\": \"illegal mining\", \"sentiment\": \"negative\"},\n",
    "    \"sia\": {\"meaning\": \"foolishness\", \"sentiment\": \"negative\"},\n",
    "    \"bl3\": {\"meaning\": \"fool\", \"sentiment\": \"negative\"},\n",
    "    \"b3l3\": {\"meaning\": \"fool\", \"sentiment\": \"negative\"},\n",
    "    \"trumu\": {\"meaning\": \"prostitute\", \"sentiment\": \"negative\"},\n",
    "    \"abeg\": {\"meaning\": \"please\", \"sentiment\": \"neutral\"},\n",
    "    \"bossu\": {\"meaning\": \"big guy / big boss\", \"sentiment\": \"neutral\"},\n",
    "    \"akatanii\": {\"meaning\": \"american\", \"sentiment\": \"neutral\"},\n",
    "    \"dumsor\": {\"meaning\": \"lack of power supply / blackouts\", \"sentiment\": \"neutral\"},\n",
    "    \"akpeteshie\": {\"meaning\": \"local gin\", \"sentiment\": \"neutral\"},\n",
    "    \"chop\": {\"meaning\": \"eat\", \"sentiment\": \"neutral\"},\n",
    "    \"obroni\": {\"meaning\": \"foreigner / white person\", \"sentiment\": \"neutral\"},\n",
    "    \"sakora\": {\"meaning\": \"light-skinned / bald\", \"sentiment\": \"neutral\"},\n",
    "    }\n"
   ]
  },
  {
   "cell_type": "code",
   "execution_count": 17,
   "id": "eba76f0b-53e8-43a6-9af5-243a0d51a9f7",
   "metadata": {},
   "outputs": [
    {
     "name": "stdout",
     "output_type": "stream",
     "text": [
      "\n",
      " combined_dev.csv class counts before augmentation:\n",
      "label\n",
      "positive    714\n",
      "negative    307\n",
      "neutral     254\n",
      "Name: count, dtype: int64\n",
      " combined_dev.csv class counts after augmentation:\n",
      "label\n",
      "negative    714\n",
      "neutral     714\n",
      "positive    714\n",
      "Name: count, dtype: int64\n",
      " Augmented combined_dev.csv saved to C:/Users/T-Plug/Desktop/University/Level 300/2nd Sem/316 Social Media Mining/End_Of_Sem_Project/Datasets/Augmented\\combined_dev.csv\n",
      "\n",
      " combined_test.csv class counts before augmentation:\n",
      "label\n",
      "positive    982\n",
      "negative    512\n",
      "neutral     343\n",
      "Name: count, dtype: int64\n",
      " combined_test.csv class counts after augmentation:\n",
      "label\n",
      "positive    982\n",
      "negative    982\n",
      "neutral     982\n",
      "Name: count, dtype: int64\n",
      " Augmented combined_test.csv saved to C:/Users/T-Plug/Desktop/University/Level 300/2nd Sem/316 Social Media Mining/End_Of_Sem_Project/Datasets/Augmented\\combined_test.csv\n",
      "\n",
      " combined_train.csv class counts before augmentation:\n",
      "label\n",
      "positive    4123\n",
      "negative    2060\n",
      "neutral     1437\n",
      "Name: count, dtype: int64\n",
      " combined_train.csv class counts after augmentation:\n",
      "label\n",
      "negative    4123\n",
      "neutral     4123\n",
      "positive    4123\n",
      "Name: count, dtype: int64\n",
      " Augmented combined_train.csv saved to C:/Users/T-Plug/Desktop/University/Level 300/2nd Sem/316 Social Media Mining/End_Of_Sem_Project/Datasets/Augmented\\combined_train.csv\n"
     ]
    }
   ],
   "source": [
    "import os\n",
    "import pandas as pd\n",
    "import random \n",
    "\n",
    "lexicon = {\n",
    "    \"na wo dea den\": [\"me ho yɛ den\", \"wo ho ntɔ wo\", \"wo ho yɛ hu\"],\n",
    "    \"gyimie saaaa na afi aso\": [\"gyimie saaaa\", \"y3 ɔkwasea saaaa na afi aso\", \"yɛ ɔkwasea saaa\"],\n",
    "    \"gyaii nsem hunuu no na bu oman no yiee\": [\"gyae nkwaseas3m no na mo ne ɔman no nni yie\", \"gyae nkwaseas3m no\", \"gyaii nsem hunuu no na bu oman\"],\n",
    "    \"covid19 nkoa mponi na ebola abaframu the game enter different level\": [\"covid19 nkoa na seesei ebola abaframu the game enter level eii\", \"covid19 nko ara na seesei ebola aba afra mu\", \"covid19 y3 den oo\"],\n",
    "    \"is full example of fear of man and stop saman\": [\"y3 onipa suro ho nhwɛso a edi mũ na 3ny3 saman\", \"is example of onipa suro na 3ny3 ahonhommɔne\", \"onipa ho suro oo\"],\n",
    "    \"aden wo y3 akwadaa\": [\"nea enti a woy3 abofra\", \"aden enti a woy3 abofra\", \"opanyin te s3 ɔno\"],\n",
    "    \"dabi me dii b3go lol\": [\"dabi me dii paanoo lol\", \"dabii me di rice\", \"dabi me di fufu lol\"],\n",
    "    \"e choke u anaa\": [\"me ho yɛ bɔne\", \"me ho ntɔ me\", \"me ho yɛ hu\"],\n",
    "    \"nika no da me ha nso wall no\": [\"nka no da me ha nso wall no\", \"me nkutoo na mewɔ biribi a emu yɛ duru\", \"nanso ɛda ha ne me nso ɔfasuo no\"],\n",
    "    \"twam wogoro twer ne\": [\"twam wɔgoro twɛ ne\", \"pass wɔn di agorɔ twɛn na\", \"nanso wodi agorɔ na wɔtwɛn\"],\n",
    "    \"kraman mullion eii\": [\"kraman million eii\", \"ɔpepem akraman eii\", \"ɔpepem akraman eii\"],\n",
    "    \"dabi wasori\": [\"me ho yɛ bɔne\", \"me ho ntɔ me\", \"me ho yɛ hu\"],\n",
    "    \"akakasuro ne sorowisa\": [\"akakasuro ne soro wisa\", \"ehu ne ɔsoro home\", \"ehu ne sorowisa\"],\n",
    "    \"ankasa nasu y din\": [\"nasu ankasa no yɛ din\", \"nasu yɛ din\", \"kofi yɛ din a wɔde frɛ no daa\"],\n",
    "    \"ny saa na merep akyer\": [\"ɛnyɛ saa na merep akyer\", \"ɛnyɛ ɛno ne nea merebɔ mmɔden sɛ mɛka\", \"ɛno ne nea merebɔ mmɔden sɛ mɛka\"],\n",
    "    \"natsecurity foc nso se sn\": [\"me ho yɛ bɔne\", \"me ho ntɔ me\", \"me ho yɛ hu\"],\n",
    "    \"eeeii saa mennim da ??\": [\"eeeii enti na mennim da ??\", \"enti na minnim da\", \"enti efi bere b3n?\"],\n",
    "    \"oh saa??\": [\"oh saa na ɛte??\", \"saa na ɛte\", \"ow saa\"],\n",
    "    \"shocki me mpo??\": [\"shocking me mpo??\", \"3y3 me ahodwiriw mpo\", \"mpo nie\"],\n",
    "    \"kwasia sem saa na wabodam\": [\"kwasiasem saa na wa bo dam\", \"saa ɔkwasea na ɔyɛ kraman\", \"kwasiasem saa na wa gyimi\"],\n",
    "    \"wo brofo nso ny d ??\": [\"wo borofo nso nyɛ d ??\", \"wo english nso nyɛ papa koraa\", \"wo brofo nso nyɛ papa\"],\n",
    "    \"k?nk?nsani tena kurom a kuro b?\": [\"kɔnkɔnsani tena kurom bi?\", \"konkonsa bi te kuro yi mu nso?\", \"nsɛmmɔnedi wɔ baabiara\"],\n",
    "    \"wonni sika nanso wop? mmaa y?de anomdwa tu tonga\": [\"wonni sika nanso wop? mmea de wɔn ano tow tonga\", \"wonni sika nanso hwɛ sɛ wɔrekasa\", \"wonni sika nanso hwɛ wɔn\"],\n",
    "    \"anisohye saa na wafa mu ewu\": [\"aniwa saa na wafa so awu\", \"enti na wafa so awu\", \"ɔnam so awu\"],\n",
    "    \"saa ppp nsemhunu nkoaa\": [\"saa paa nsemhunu nkoaa\", \"enti nkwaseasɛm ankasa nkutoo\", \"enti nkwaseasɛm nkutoo\"],\n",
    "    \"koko nkoaagh aden wondidi biom anaa\": [\"koko nkoaa aden wondidi biom anaa\", \"koko nkoaa aden wondidi\", \"coconut nkoaa nea enti a wonnni bio anaa\"],\n",
    "    \"masa wo yale anaa pt\": [\"masa, wo yare anaa\", \"woyare anaa?\", \"so woafi w’adwene mu?\"],\n",
    "    \"mekyiri d?kono ne nkyenam\": [\"me tan dɔkono ne nkyene\", \"me tan evil ne mpataa a wɔayam\", \"me tan kyenam\"],\n",
    "    \"wo y aboa paa ???????????? wo saa akoa wei??\": [\"wo y boa paa ???????????? wo saa akoa no??\", \"wob3tumi aboa wo saa akoa no??\", \"wo nkoa\"],\n",
    "    \"sia nanka yÉ›nni pilolo anaa\": [\"sia nanso yenni pilolo anaa\", \"nanso yenni pilolo sia\", \"nanka yenni pilolo sia\"],\n",
    "    \"i shock sef mo na mo bl3 tschew koraaaa\": [\"me shock me ho sɛ wo b3l3 tschew koraa\", \"me shock me ho sɛ wo tschew koraa\", \"wo b3l3\"],\n",
    "    \"born one 3na wu kyere wu hu saa nu eii eugenia\": [\"awo baako 3na wo kyere wo hunu se eii\", \"awo baako ɛna wo kyere wo hunu se eii\", \"awo ɛna baako wo kyere wo hunu sɛ eii\"],\n",
    "    \"john kuma paaaaaaaa funeral awwwwww ghana ne gyimie\": [\"john kuma paaaaaaaa ayie awwwwww ghana ne nkwasea\", \"ghana ne nkwaseafoɔ\", \"aww ayie\"],\n",
    "    \"yakubu s3 preko y3 haram nanso É”di trumu eiii\": [\"yakubu s3 preko y3 haram\", \"preko y3 haram nanso É”di trumu\", \"É”di trumu eiii\"],\n",
    "    \"firi y3n so k\": [\"gyae yɛn\", \"firi yɛn so kɔ\", \"twe wo ho fi yɛn ho\"],\n",
    "    \"sika na shisika no ashi\": [\"sika no akɔ\", \"sika no ahyew\", \"sika no ahyew\"],\n",
    "    \"ohia kasa fa womuÃ£ na wo didi atem\": [\"ohia ka womuÃ£ ho na wo bu atÃ3n\", \"wo bu atɛn\", \"ohia ka womuÃ£ ho na wo bu atɛn\"],\n",
    "    \"ashawofo na 3di valentine\": [\"ashawofo na ɛdi valentine\", \"nguaman di valentine\", \"nguaman di afahyɛ\"],\n",
    "}\n",
    "\n",
    "input_folder = \"C:/Users/T-Plug/Desktop/University/Level 300/2nd Sem/316 Social Media Mining/End_Of_Sem_Project/Datasets/Combined_utf8_Emojized\"\n",
    "output_folder = \"C:/Users/T-Plug/Desktop/University/Level 300/2nd Sem/316 Social Media Mining/End_Of_Sem_Project/Datasets/Augmented\"\n",
    "os.makedirs(output_folder, exist_ok=True)\n",
    "\n",
    "def simple_augment(tweet):\n",
    "    \"\"\"Performs very basic augmentation by replacing a phrase from lexicon randomly.\"\"\"\n",
    "    for phrase, aug_options in lexicon.items():\n",
    "        if phrase in tweet:\n",
    "            return tweet.replace(phrase, random.choice(aug_options))\n",
    "    return tweet\n",
    "\n",
    "for filename in os.listdir(input_folder):\n",
    "    if filename.endswith(\".csv\"):\n",
    "        file_path = os.path.join(input_folder, filename)\n",
    "        df = pd.read_csv(file_path)\n",
    "\n",
    "        class_counts = df['label'].value_counts()\n",
    "        print(f\"\\n {filename} class counts before augmentation:\\n{class_counts}\")\n",
    "\n",
    "        target_count = class_counts.max()\n",
    "\n",
    "        augmented_rows = []\n",
    "\n",
    "        for label in [\"neutral\", \"negative\"]:\n",
    "            if label in class_counts:\n",
    "                deficit = target_count - class_counts[label]\n",
    "                if deficit > 0:\n",
    "                    subset = df[df['label'] == label]\n",
    "                    for _ in range(deficit):\n",
    "                        # Sample a row & augment it\n",
    "                        row = subset.sample(n=1, replace=True).iloc[0]\n",
    "                        augmented_tweet = simple_augment(row['tweet'])\n",
    "                        augmented_rows.append({\"tweet\": augmented_tweet, \"label\": label})\n",
    "\n",
    "        if augmented_rows:\n",
    "            df = pd.concat([df, pd.DataFrame(augmented_rows)], ignore_index=True)\n",
    "\n",
    "        print(f\" {filename} class counts after augmentation:\\n{df['label'].value_counts()}\")\n",
    "\n",
    "        output_path = os.path.join(output_folder, filename)\n",
    "        df.to_csv(output_path, index=False, encoding=\"utf-8\")\n",
    "        print(f\" Augmented {filename} saved to {output_path}\")\n"
   ]
  },
  {
   "cell_type": "markdown",
   "id": "e75ec04c-45d4-4f73-bac1-2ceaeaf25ef0",
   "metadata": {},
   "source": [
    "### Text Normalisation"
   ]
  },
  {
   "cell_type": "code",
   "execution_count": 18,
   "id": "8d058804-7e78-4514-9c21-f5dd3de0f783",
   "metadata": {},
   "outputs": [
    {
     "name": "stdout",
     "output_type": "stream",
     "text": [
      "Normalized combined_dev.csv and saved to C:/Users/T-Plug/Desktop/University/Level 300/2nd Sem/316 Social Media Mining/End_Of_Sem_Project/Datasets/Normalised\\combined_dev.csv\n",
      "Normalized combined_test.csv and saved to C:/Users/T-Plug/Desktop/University/Level 300/2nd Sem/316 Social Media Mining/End_Of_Sem_Project/Datasets/Normalised\\combined_test.csv\n",
      "Normalized combined_train.csv and saved to C:/Users/T-Plug/Desktop/University/Level 300/2nd Sem/316 Social Media Mining/End_Of_Sem_Project/Datasets/Normalised\\combined_train.csv\n"
     ]
    }
   ],
   "source": [
    "import os\n",
    "import pandas as pd\n",
    "import unicodedata\n",
    "import re\n",
    "\n",
    "input_folder = \"C:/Users/T-Plug/Desktop/University/Level 300/2nd Sem/316 Social Media Mining/End_Of_Sem_Project/Datasets/Augmented\"\n",
    "output_folder = \"C:/Users/T-Plug/Desktop/University/Level 300/2nd Sem/316 Social Media Mining/End_Of_Sem_Project/Datasets/Normalised\"\n",
    "os.makedirs(output_folder, exist_ok=True)\n",
    "\n",
    "def normalize_twi_text(text):\n",
    "    \"\"\"Normalize Twi text while preserving ɛ and ɔ.\"\"\"\n",
    "    if not isinstance(text, str):\n",
    "        return text\n",
    "\n",
    "    # Step 1: Canonical Unicode normalization\n",
    "    text = unicodedata.normalize(\"NFC\", text)\n",
    "\n",
    "    # Step 2: Remove tone marks / combining diacritics (OPTIONAL)\n",
    "    # preserves ɛ, ɔ but strips extra accent marks\n",
    "    text = ''.join(\n",
    "        c for c in text if not unicodedata.combining(c)\n",
    "    )\n",
    "\n",
    "    # Step 3: Lowercase for consistency\n",
    "    text = text.lower()\n",
    "\n",
    "    # Step 4: Standardize whitespace (remove multiple spaces, trim)\n",
    "    text = re.sub(r'\\s+', ' ', text).strip()\n",
    "\n",
    "    return text\n",
    "\n",
    "for filename in os.listdir(input_folder):\n",
    "    if filename.endswith(\".csv\"):\n",
    "        file_path = os.path.join(input_folder, filename)\n",
    "        df = pd.read_csv(file_path, encoding=\"utf-8\")\n",
    "\n",
    "        if \"tweet\" in df.columns:\n",
    "            df[\"tweet\"] = df[\"tweet\"].apply(normalize_twi_text)\n",
    "\n",
    "        output_path = os.path.join(output_folder, filename)\n",
    "        df.to_csv(output_path, index=False, encoding=\"utf-8\")\n",
    "        print(f\"Normalized {filename} and saved to {output_path}\")\n"
   ]
  },
  {
   "cell_type": "code",
   "execution_count": null,
   "id": "65b5572a-7474-48f7-82ba-6bfa50bf6e36",
   "metadata": {},
   "outputs": [],
   "source": []
  },
  {
   "cell_type": "code",
   "execution_count": null,
   "id": "df6d300f-31df-4db9-aca0-b21e5814d74d",
   "metadata": {},
   "outputs": [],
   "source": []
  }
 ],
 "metadata": {
  "kernelspec": {
   "display_name": "Python 3 (ipykernel)",
   "language": "python",
   "name": "python3"
  },
  "language_info": {
   "codemirror_mode": {
    "name": "ipython",
    "version": 3
   },
   "file_extension": ".py",
   "mimetype": "text/x-python",
   "name": "python",
   "nbconvert_exporter": "python",
   "pygments_lexer": "ipython3",
   "version": "3.11.13"
  }
 },
 "nbformat": 4,
 "nbformat_minor": 5
}
