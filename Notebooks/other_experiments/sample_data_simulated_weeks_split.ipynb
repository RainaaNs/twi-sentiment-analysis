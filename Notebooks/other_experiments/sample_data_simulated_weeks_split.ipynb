{
 "cells": [
  {
   "cell_type": "code",
   "execution_count": 6,
   "id": "2169f900-c098-4fc4-85ae-ba8285507773",
   "metadata": {},
   "outputs": [
    {
     "name": "stdout",
     "output_type": "stream",
     "text": [
      " Saved week1.csv with 500 tweets | Distribution: {'positive': 0.6, 'neutral': 0.2, 'negative': 0.2}\n",
      " Saved week2.csv with 500 tweets | Distribution: {'negative': 0.6, 'neutral': 0.2, 'positive': 0.2}\n",
      " Saved week3.csv with 500 tweets | Distribution: {'neutral': 0.6, 'positive': 0.2, 'negative': 0.2}\n"
     ]
    }
   ],
   "source": [
    "import pandas as pd\n",
    "import numpy as np\n",
    "from pathlib import Path\n",
    "\n",
    "df = pd.read_csv(\"C:/Users/T-Plug/Desktop/University/Level 300/2nd Sem/316 Social Media Mining/End_Of_Sem_Project/datasets/preprocessed_data/final_processed_split_data/train.csv\")\n",
    "\n",
    "np.random.seed(42)\n",
    "\n",
    "label_map = {0: 'negative', 1: 'positive', 2: 'neutral'}\n",
    "if df[\"label\"].dtype != \"object\":\n",
    "    df[\"label\"] = df[\"label\"].map(label_map)\n",
    "\n",
    "week_biases = {\n",
    "    \"week1\": {\"positive\": 0.6, \"negative\": 0.2, \"neutral\": 0.2},\n",
    "    \"week2\": {\"positive\": 0.2, \"negative\": 0.6, \"neutral\": 0.2},\n",
    "    \"week3\": {\"positive\": 0.2, \"negative\": 0.2, \"neutral\": 0.6},\n",
    "}\n",
    "\n",
    "tweets_per_week = 500  \n",
    "\n",
    "out_dir = Path(\"C:/Users/T-Plug/Desktop/University/Level 300/2nd Sem/316 Social Media Mining/End_Of_Sem_Project/datasets/sample_data\")\n",
    "out_dir.mkdir(exist_ok=True)\n",
    "\n",
    "for week, bias in week_biases.items():\n",
    "    slice_parts = []\n",
    "    total_weight = sum(bias.values())\n",
    "\n",
    "    for label, weight in bias.items():\n",
    "        n_samples = int((weight / total_weight) * tweets_per_week)\n",
    "\n",
    "        available = df[df[\"label\"] == label]\n",
    "        if len(available) < n_samples:\n",
    "            n_samples = len(available)\n",
    "\n",
    "        sampled = available.sample(n=n_samples, replace=False, random_state=np.random.randint(10000))\n",
    "        slice_parts.append(sampled)\n",
    "\n",
    "    week_df = pd.concat(slice_parts).sample(frac=1, random_state=np.random.randint(10000))\n",
    "\n",
    "    week_df.to_csv(out_dir / f\"{week}.csv\", index=False)\n",
    "\n",
    "\n",
    "    dist = week_df[\"label\"].value_counts(normalize=True).round(2).to_dict()\n",
    "    print(f\" Saved {week}.csv with {len(week_df)} tweets | Distribution: {dist}\")\n"
   ]
  },
  {
   "cell_type": "code",
   "execution_count": 7,
   "id": "a920f172-bf08-4336-9cd2-e9c0486dc145",
   "metadata": {},
   "outputs": [
    {
     "name": "stdout",
     "output_type": "stream",
     "text": [
      "Cleaned week1.csv (removed labels, kept only tweets)\n",
      "Cleaned week2.csv (removed labels, kept only tweets)\n",
      "Cleaned week3.csv (removed labels, kept only tweets)\n"
     ]
    }
   ],
   "source": [
    "import pandas as pd\n",
    "from pathlib import Path\n",
    "\n",
    "data_dir = Path(\"C:/Users/T-Plug/Desktop/University/Level 300/2nd Sem/316 Social Media Mining/End_Of_Sem_Project/datasets/sample_data\")\n",
    "\n",
    "for file in data_dir.glob(\"week*.csv\"):\n",
    "    df = pd.read_csv(file)\n",
    "\n",
    "    if \"tweet\" in df.columns:\n",
    "        df = df[[\"tweet\"]]\n",
    "    else:\n",
    "        raise ValueError(f\"'tweet' column not found in {file}\")\n",
    "\n",
    "    df.to_csv(file, index=False)\n",
    "    print(f\"Cleaned {file.name} (removed labels, kept only tweets)\")\n"
   ]
  },
  {
   "cell_type": "code",
   "execution_count": null,
   "id": "474661c0-c7ff-48d6-9fd5-d29f169e1fa0",
   "metadata": {},
   "outputs": [],
   "source": []
  }
 ],
 "metadata": {
  "kernelspec": {
   "display_name": "Python 3 (ipykernel)",
   "language": "python",
   "name": "python3"
  },
  "language_info": {
   "codemirror_mode": {
    "name": "ipython",
    "version": 3
   },
   "file_extension": ".py",
   "mimetype": "text/x-python",
   "name": "python",
   "nbconvert_exporter": "python",
   "pygments_lexer": "ipython3",
   "version": "3.11.13"
  }
 },
 "nbformat": 4,
 "nbformat_minor": 5
}
