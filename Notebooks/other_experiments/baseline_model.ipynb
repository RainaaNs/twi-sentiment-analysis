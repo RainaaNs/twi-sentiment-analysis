{
 "cells": [
  {
   "cell_type": "code",
   "execution_count": 1,
   "id": "70103931-7f41-4615-8b8e-2af88b2e8e76",
   "metadata": {},
   "outputs": [],
   "source": [
    "import pandas as pd\n",
    "from sklearn.feature_extraction.text import TfidfVectorizer\n",
    "from sklearn.linear_model import LogisticRegression\n",
    "from sklearn.metrics import classification_report, f1_score"
   ]
  },
  {
   "cell_type": "code",
   "execution_count": 2,
   "id": "e624df56-b091-4375-b5f4-906d02c1f357",
   "metadata": {},
   "outputs": [
    {
     "name": "stdout",
     "output_type": "stream",
     "text": [
      "=== DEV SET RESULTS ===\n",
      "              precision    recall  f1-score   support\n",
      "\n",
      "    negative       0.86      0.83      0.84       619\n",
      "     neutral       0.83      0.80      0.82       529\n",
      "    positive       0.76      0.82      0.79       582\n",
      "\n",
      "    accuracy                           0.82      1730\n",
      "   macro avg       0.82      0.82      0.82      1730\n",
      "weighted avg       0.82      0.82      0.82      1730\n",
      "\n",
      "Macro F1 (Dev): 0.8167\n",
      "=== TEST SET RESULTS ===\n",
      "              precision    recall  f1-score   support\n",
      "\n",
      "    negative       0.85      0.81      0.83       619\n",
      "     neutral       0.83      0.74      0.78       530\n",
      "    positive       0.74      0.85      0.79       582\n",
      "\n",
      "    accuracy                           0.80      1731\n",
      "   macro avg       0.81      0.80      0.80      1731\n",
      "weighted avg       0.81      0.80      0.80      1731\n",
      "\n",
      "Macro F1 (Test): 0.8010\n"
     ]
    }
   ],
   "source": [
    "train = pd.read_csv(\"C:/Users/T-Plug/Desktop/University/Level 300/2nd Sem/316 Social Media Mining/End_Of_Sem_Project/datasets/preprocessed_data/final_processed_split_data/train.csv\")\n",
    "dev   = pd.read_csv(\"C:/Users/T-Plug/Desktop/University/Level 300/2nd Sem/316 Social Media Mining/End_Of_Sem_Project/datasets/preprocessed_data/final_processed_split_data/dev.csv\")\n",
    "test  = pd.read_csv(\"C:/Users/T-Plug/Desktop/University/Level 300/2nd Sem/316 Social Media Mining/End_Of_Sem_Project/datasets/preprocessed_data/final_processed_split_data/test.csv\")\n",
    "\n",
    "# ==============================\n",
    "#  TF-IDF vectorization\n",
    "# ==============================\n",
    "vectorizer = TfidfVectorizer(analyzer='char', ngram_range=(1, 3), min_df=2)\n",
    "\n",
    "X_train = vectorizer.fit_transform(train['tweet'])\n",
    "X_dev   = vectorizer.transform(dev['tweet'])\n",
    "X_test  = vectorizer.transform(test['tweet'])\n",
    "\n",
    "# ==============================\n",
    "#  baseline classifier\n",
    "# ==============================\n",
    "clf = LogisticRegression(max_iter=500, class_weight='balanced', random_state=42)\n",
    "clf.fit(X_train, train['label'])\n",
    "\n",
    "# ==============================\n",
    "#  Dev set evaluation\n",
    "# ==============================\n",
    "y_dev_pred = clf.predict(X_dev)\n",
    "print(\"=== DEV SET RESULTS ===\")\n",
    "print(classification_report(dev['label'], y_dev_pred))\n",
    "print(f\"Macro F1 (Dev): {f1_score(dev['label'], y_dev_pred, average='macro'):.4f}\")\n",
    "\n",
    "# ==============================\n",
    "#  Test set evaluation\n",
    "# ==============================\n",
    "y_test_pred = clf.predict(X_test)\n",
    "print(\"=== TEST SET RESULTS ===\")\n",
    "print(classification_report(test['label'], y_test_pred))\n",
    "print(f\"Macro F1 (Test): {f1_score(test['label'], y_test_pred, average='macro'):.4f}\")\n"
   ]
  }
 ],
 "metadata": {
  "kernelspec": {
   "display_name": "Python 3 (ipykernel)",
   "language": "python",
   "name": "python3"
  },
  "language_info": {
   "codemirror_mode": {
    "name": "ipython",
    "version": 3
   },
   "file_extension": ".py",
   "mimetype": "text/x-python",
   "name": "python",
   "nbconvert_exporter": "python",
   "pygments_lexer": "ipython3",
   "version": "3.11.13"
  }
 },
 "nbformat": 4,
 "nbformat_minor": 5
}
