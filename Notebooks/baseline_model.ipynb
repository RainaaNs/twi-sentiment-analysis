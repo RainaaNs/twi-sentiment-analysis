{
 "cells": [
  {
   "cell_type": "code",
   "execution_count": 1,
   "id": "70103931-7f41-4615-8b8e-2af88b2e8e76",
   "metadata": {},
   "outputs": [],
   "source": [
    "import pandas as pd\n",
    "from sklearn.feature_extraction.text import TfidfVectorizer\n",
    "from sklearn.linear_model import LogisticRegression\n",
    "from sklearn.metrics import classification_report, f1_score"
   ]
  },
  {
   "cell_type": "code",
   "execution_count": 5,
   "id": "e624df56-b091-4375-b5f4-906d02c1f357",
   "metadata": {},
   "outputs": [
    {
     "name": "stdout",
     "output_type": "stream",
     "text": [
      "=== DEV SET RESULTS ===\n",
      "              precision    recall  f1-score   support\n",
      "\n",
      "    negative       0.64      0.61      0.63       307\n",
      "     neutral       0.52      0.48      0.50       254\n",
      "    positive       0.78      0.82      0.80       714\n",
      "\n",
      "    accuracy                           0.70      1275\n",
      "   macro avg       0.65      0.64      0.64      1275\n",
      "weighted avg       0.69      0.70      0.70      1275\n",
      "\n",
      "Macro F1 (Dev): 0.6406\n",
      "=== TEST SET RESULTS ===\n",
      "              precision    recall  f1-score   support\n",
      "\n",
      "    negative       0.66      0.69      0.67       512\n",
      "     neutral       0.49      0.50      0.49       343\n",
      "    positive       0.81      0.78      0.79       982\n",
      "\n",
      "    accuracy                           0.70      1837\n",
      "   macro avg       0.65      0.66      0.65      1837\n",
      "weighted avg       0.71      0.70      0.70      1837\n",
      "\n",
      "Macro F1 (Test): 0.6531\n"
     ]
    }
   ],
   "source": [
    "\n",
    "train = pd.read_csv(\"C:/Users/T-Plug/Desktop/University/Level 300/2nd Sem/316 Social Media Mining/End_Of_Sem_Project/Datasets/stop_words_removed/filtered_train.csv\")\n",
    "dev = pd.read_csv(\"C:/Users/T-Plug/Desktop/University/Level 300/2nd Sem/316 Social Media Mining/End_Of_Sem_Project/Datasets/stop_words_removed/filtered_dev.csv\")\n",
    "test = pd.read_csv(\"C:/Users/T-Plug/Desktop/University/Level 300/2nd Sem/316 Social Media Mining/End_Of_Sem_Project/Datasets/stop_words_removed/filtered_test.csv\")\n",
    "\n",
    "# Convert list-like strings into proper strings for TF-IDF\n",
    "train['filtered_tokens'] = train['filtered_tokens'].apply(lambda x: \" \".join(eval(x)))\n",
    "dev['filtered_tokens']   = dev['filtered_tokens'].apply(lambda x: \" \".join(eval(x)))\n",
    "test['filtered_tokens']  = test['filtered_tokens'].apply(lambda x: \" \".join(eval(x)))\n",
    "\n",
    "# TF-IDF vectorization (character n-grams for robustness with Twi spelling variations)\n",
    "vectorizer = TfidfVectorizer(analyzer='char', ngram_range=(3, 5), min_df=1)\n",
    "X_train = vectorizer.fit_transform(train['filtered_tokens'])\n",
    "X_dev   = vectorizer.transform(dev['filtered_tokens'])\n",
    "X_test  = vectorizer.transform(test['filtered_tokens'])\n",
    "\n",
    "# Train baseline classifier\n",
    "clf = LogisticRegression(max_iter=500, class_weight='balanced', random_state=42)\n",
    "clf.fit(X_train, train['label'])\n",
    "\n",
    "# Dev set evaluation\n",
    "y_dev_pred = clf.predict(X_dev)\n",
    "print(\"=== DEV SET RESULTS ===\")\n",
    "print(classification_report(dev['label'], y_dev_pred))\n",
    "print(f\"Macro F1 (Dev): {f1_score(dev['label'], y_dev_pred, average='macro'):.4f}\")\n",
    "\n",
    "# Test set evaluation\n",
    "y_test_pred = clf.predict(X_test)\n",
    "print(\"=== TEST SET RESULTS ===\")\n",
    "print(classification_report(test['label'], y_test_pred))\n",
    "print(f\"Macro F1 (Test): {f1_score(test['label'], y_test_pred, average='macro'):.4f}\")\n"
   ]
  },
  {
   "cell_type": "code",
   "execution_count": null,
   "id": "dca8a4b5-07dd-4043-ab4e-be0762c4f2b2",
   "metadata": {},
   "outputs": [],
   "source": [
    "# metrics"
   ]
  },
  {
   "cell_type": "code",
   "execution_count": null,
   "id": "1955ec5e-b28e-404c-9899-294422b245ae",
   "metadata": {},
   "outputs": [],
   "source": []
  }
 ],
 "metadata": {
  "kernelspec": {
   "display_name": "Python 3 (ipykernel)",
   "language": "python",
   "name": "python3"
  },
  "language_info": {
   "codemirror_mode": {
    "name": "ipython",
    "version": 3
   },
   "file_extension": ".py",
   "mimetype": "text/x-python",
   "name": "python",
   "nbconvert_exporter": "python",
   "pygments_lexer": "ipython3",
   "version": "3.11.13"
  }
 },
 "nbformat": 4,
 "nbformat_minor": 5
}
